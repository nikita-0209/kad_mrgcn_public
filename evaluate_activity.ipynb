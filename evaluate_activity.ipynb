{
  "cells": [
    {
      "cell_type": "markdown",
      "metadata": {
        "id": "I_rcm_fjW5Xb"
      },
      "source": [
        "We will measure the activity by counting the number of:\n",
        "1. posts\n",
        "2. message_posts\n",
        "3. inline_notifs\n",
        "made by a user. "
      ]
    },
    {
      "cell_type": "code",
      "execution_count": null,
      "metadata": {
        "id": "2ZTbW2lyXw_m"
      },
      "outputs": [],
      "source": [
        "import pandas as pd\n",
        "import numpy as np\n",
        "import matplotlib.pyplot as plt\n",
        "%matplotlib inline\n",
        "import os\n",
        "import requests \n",
        "import io\n",
        "import seaborn as sns"
      ]
    },
    {
      "cell_type": "markdown",
      "metadata": {
        "id": "fYqarrUIcgMR"
      },
      "source": [
        "### orig_inline_notifications"
      ]
    },
    {
      "cell_type": "markdown",
      "metadata": {},
      "source": [
        "Read the file."
      ]
    },
    {
      "cell_type": "code",
      "execution_count": null,
      "metadata": {
        "id": "PO03LOCyb9cz"
      },
      "outputs": [],
      "source": [
        "orig_inline_notifications = pd.read_csv('/content/drive/MyDrive/text gcn/Hackforum data/CSV Data IronMarch/data_csv/orig_inline_notifications.csv')"
      ]
    },
    {
      "cell_type": "code",
      "execution_count": null,
      "metadata": {
        "colab": {
          "base_uri": "https://localhost:8080/"
        },
        "id": "nyCQ-d14cu0F",
        "outputId": "51052c18-6bc9-4fce-a4fe-a6f12f3119f2"
      },
      "outputs": [
        {
          "name": "stdout",
          "output_type": "stream",
          "text": [
            "<class 'pandas.core.frame.DataFrame'>\n",
            "RangeIndex: 47066 entries, 0 to 47065\n",
            "Data columns (total 14 columns):\n",
            " #   Column            Non-Null Count  Dtype \n",
            "---  ------            --------------  ----- \n",
            " 0   Unnamed: 0        47066 non-null  int64 \n",
            " 1   notify_id         47066 non-null  int64 \n",
            " 2   notify_to_id      47066 non-null  int64 \n",
            " 3   notify_sent       47066 non-null  int64 \n",
            " 4   notify_read       47066 non-null  int64 \n",
            " 5   notify_title      47066 non-null  object\n",
            " 6   notify_text       47066 non-null  object\n",
            " 7   notify_from_id    47066 non-null  int64 \n",
            " 8   notify_type_key   47066 non-null  object\n",
            " 9   notify_url        47066 non-null  object\n",
            " 10  notify_meta_app   33296 non-null  object\n",
            " 11  notify_meta_area  33296 non-null  object\n",
            " 12  notify_meta_id    47066 non-null  int64 \n",
            " 13  notify_meta_key   33296 non-null  object\n",
            "dtypes: int64(7), object(7)\n",
            "memory usage: 5.0+ MB\n"
          ]
        }
      ],
      "source": [
        "orig_inline_notifications.info()"
      ]
    },
    {
      "cell_type": "code",
      "execution_count": null,
      "metadata": {
        "id": "fkfV3NRsc0lX"
      },
      "outputs": [],
      "source": [
        "frame = { '#notifs': orig_inline_notifications['notify_from_id'].value_counts()}\n",
        "notifs = pd.DataFrame(frame)"
      ]
    },
    {
      "cell_type": "code",
      "execution_count": null,
      "metadata": {
        "id": "jSrMXWHAc-xu"
      },
      "outputs": [],
      "source": [
        "notifs.to_csv(\"/content/drive/MyDrive/text gcn/created_csv/ironmarch/orig_activity_notifs.csv\")"
      ]
    },
    {
      "cell_type": "code",
      "execution_count": null,
      "metadata": {
        "id": "FyGdJJuCdEP3"
      },
      "outputs": [],
      "source": [
        "notifs = pd.read_csv(\"/content/drive/MyDrive/text gcn/created_csv/ironmarch/orig_activity_notifs.csv\")"
      ]
    },
    {
      "cell_type": "markdown",
      "metadata": {},
      "source": [
        "Rename the first column to member_id for constitency."
      ]
    },
    {
      "cell_type": "code",
      "execution_count": null,
      "metadata": {
        "id": "N3ng6TUtdOTl"
      },
      "outputs": [],
      "source": [
        "notifs = notifs.rename(columns={\"Unnamed: 0\": \"member_id\"})"
      ]
    },
    {
      "cell_type": "markdown",
      "metadata": {
        "id": "fFkyQ-qtdYyt"
      },
      "source": [
        "## orig_posts"
      ]
    },
    {
      "cell_type": "code",
      "execution_count": null,
      "metadata": {
        "id": "juydljkDdQhf"
      },
      "outputs": [],
      "source": [
        "orig_posts = pd.read_csv('/content/drive/MyDrive/text gcn/Hackforum data/CSV Data IronMarch/data_csv/orig_posts.csv', error_bad_lines=False)\n",
        "frame = { '#posts': orig_posts['author_id'].value_counts()}\n",
        "posts = pd.DataFrame(frame)\n",
        "posts.to_csv(\"/content/drive/MyDrive/text gcn/created_csv/ironmarch/orig_activity_posts.csv\")\n",
        "posts = pd.read_csv(\"/content/drive/MyDrive/text gcn/created_csv/ironmarch/orig_activity_posts.csv\")\n",
        "posts = posts.rename(columns={\"Unnamed: 0\": \"member_id\"})"
      ]
    },
    {
      "cell_type": "code",
      "execution_count": null,
      "metadata": {
        "colab": {
          "base_uri": "https://localhost:8080/",
          "height": 415
        },
        "id": "DHpLBVdXd5k6",
        "outputId": "c18f1ade-cc4f-445d-adf3-e406161e2dfc"
      },
      "outputs": [
        {
          "data": {
            "text/html": [
              "<div>\n",
              "<style scoped>\n",
              "    .dataframe tbody tr th:only-of-type {\n",
              "        vertical-align: middle;\n",
              "    }\n",
              "\n",
              "    .dataframe tbody tr th {\n",
              "        vertical-align: top;\n",
              "    }\n",
              "\n",
              "    .dataframe thead th {\n",
              "        text-align: right;\n",
              "    }\n",
              "</style>\n",
              "<table border=\"1\" class=\"dataframe\">\n",
              "  <thead>\n",
              "    <tr style=\"text-align: right;\">\n",
              "      <th></th>\n",
              "      <th>member_id</th>\n",
              "      <th>#posts</th>\n",
              "    </tr>\n",
              "  </thead>\n",
              "  <tbody>\n",
              "    <tr>\n",
              "      <th>0</th>\n",
              "      <td>1</td>\n",
              "      <td>5584</td>\n",
              "    </tr>\n",
              "    <tr>\n",
              "      <th>1</th>\n",
              "      <td>1558</td>\n",
              "      <td>3703</td>\n",
              "    </tr>\n",
              "    <tr>\n",
              "      <th>2</th>\n",
              "      <td>132</td>\n",
              "      <td>3652</td>\n",
              "    </tr>\n",
              "    <tr>\n",
              "      <th>3</th>\n",
              "      <td>7</td>\n",
              "      <td>3128</td>\n",
              "    </tr>\n",
              "    <tr>\n",
              "      <th>4</th>\n",
              "      <td>288</td>\n",
              "      <td>3059</td>\n",
              "    </tr>\n",
              "    <tr>\n",
              "      <th>...</th>\n",
              "      <td>...</td>\n",
              "      <td>...</td>\n",
              "    </tr>\n",
              "    <tr>\n",
              "      <th>729</th>\n",
              "      <td>493</td>\n",
              "      <td>1</td>\n",
              "    </tr>\n",
              "    <tr>\n",
              "      <th>730</th>\n",
              "      <td>9637</td>\n",
              "      <td>1</td>\n",
              "    </tr>\n",
              "    <tr>\n",
              "      <th>731</th>\n",
              "      <td>6139</td>\n",
              "      <td>1</td>\n",
              "    </tr>\n",
              "    <tr>\n",
              "      <th>732</th>\n",
              "      <td>6304</td>\n",
              "      <td>1</td>\n",
              "    </tr>\n",
              "    <tr>\n",
              "      <th>733</th>\n",
              "      <td>6307</td>\n",
              "      <td>1</td>\n",
              "    </tr>\n",
              "  </tbody>\n",
              "</table>\n",
              "<p>734 rows × 2 columns</p>\n",
              "</div>"
            ],
            "text/plain": [
              "     member_id  #posts\n",
              "0            1    5584\n",
              "1         1558    3703\n",
              "2          132    3652\n",
              "3            7    3128\n",
              "4          288    3059\n",
              "..         ...     ...\n",
              "729        493       1\n",
              "730       9637       1\n",
              "731       6139       1\n",
              "732       6304       1\n",
              "733       6307       1\n",
              "\n",
              "[734 rows x 2 columns]"
            ]
          },
          "execution_count": 18,
          "metadata": {},
          "output_type": "execute_result"
        }
      ],
      "source": [
        "posts"
      ]
    },
    {
      "cell_type": "markdown",
      "metadata": {
        "id": "H8usULrXgUxD"
      },
      "source": [
        "## orig_message_posts"
      ]
    },
    {
      "cell_type": "code",
      "execution_count": null,
      "metadata": {
        "id": "ieJO3TjqgTN3"
      },
      "outputs": [],
      "source": [
        "orig_message_posts = pd.read_csv('/content/drive/MyDrive/text gcn/Hackforum data/CSV Data IronMarch/data_csv/orig_message_posts.csv', error_bad_lines=False)\n",
        "# orig_message_posts = orig_message_posts.loc[orig_message_posts['msg_author_id'].str.contains('^[0-9]*$', regex=True, na=False)]\n",
        "# orig_message_posts['msg_author_id'] = orig_message_posts['msg_author_id'].astype('int32')\n",
        "frame = { '#message_posts': orig_message_posts['msg_author_id'].value_counts()}\n",
        "message_posts = pd.DataFrame(frame)\n",
        "message_posts.to_csv(\"/content/drive/MyDrive/text gcn/created_csv/ironmarch/orig_activity_posts.csv\")\n",
        "message_posts = pd.read_csv(\"/content/drive/MyDrive/text gcn/created_csv/ironmarch/orig_activity_posts.csv\")\n",
        "message_posts = message_posts.rename(columns={\"Unnamed: 0\": \"member_id\"})"
      ]
    },
    {
      "cell_type": "code",
      "execution_count": null,
      "metadata": {
        "colab": {
          "base_uri": "https://localhost:8080/",
          "height": 415
        },
        "id": "f59H3uPwhGkw",
        "outputId": "3c6b361d-b695-4f0b-9598-a25b66cf171d"
      },
      "outputs": [
        {
          "data": {
            "text/html": [
              "<div>\n",
              "<style scoped>\n",
              "    .dataframe tbody tr th:only-of-type {\n",
              "        vertical-align: middle;\n",
              "    }\n",
              "\n",
              "    .dataframe tbody tr th {\n",
              "        vertical-align: top;\n",
              "    }\n",
              "\n",
              "    .dataframe thead th {\n",
              "        text-align: right;\n",
              "    }\n",
              "</style>\n",
              "<table border=\"1\" class=\"dataframe\">\n",
              "  <thead>\n",
              "    <tr style=\"text-align: right;\">\n",
              "      <th></th>\n",
              "      <th>member_id</th>\n",
              "      <th>#message_posts</th>\n",
              "    </tr>\n",
              "  </thead>\n",
              "  <tbody>\n",
              "    <tr>\n",
              "      <th>0</th>\n",
              "      <td>7424</td>\n",
              "      <td>542</td>\n",
              "    </tr>\n",
              "    <tr>\n",
              "      <th>1</th>\n",
              "      <td>2209</td>\n",
              "      <td>487</td>\n",
              "    </tr>\n",
              "    <tr>\n",
              "      <th>2</th>\n",
              "      <td>7816</td>\n",
              "      <td>413</td>\n",
              "    </tr>\n",
              "    <tr>\n",
              "      <th>3</th>\n",
              "      <td>1</td>\n",
              "      <td>401</td>\n",
              "    </tr>\n",
              "    <tr>\n",
              "      <th>4</th>\n",
              "      <td>0</td>\n",
              "      <td>327</td>\n",
              "    </tr>\n",
              "    <tr>\n",
              "      <th>...</th>\n",
              "      <td>...</td>\n",
              "      <td>...</td>\n",
              "    </tr>\n",
              "    <tr>\n",
              "      <th>501</th>\n",
              "      <td>9519</td>\n",
              "      <td>1</td>\n",
              "    </tr>\n",
              "    <tr>\n",
              "      <th>502</th>\n",
              "      <td>7604</td>\n",
              "      <td>1</td>\n",
              "    </tr>\n",
              "    <tr>\n",
              "      <th>503</th>\n",
              "      <td>4339</td>\n",
              "      <td>1</td>\n",
              "    </tr>\n",
              "    <tr>\n",
              "      <th>504</th>\n",
              "      <td>7620</td>\n",
              "      <td>1</td>\n",
              "    </tr>\n",
              "    <tr>\n",
              "      <th>505</th>\n",
              "      <td>198</td>\n",
              "      <td>1</td>\n",
              "    </tr>\n",
              "  </tbody>\n",
              "</table>\n",
              "<p>506 rows × 2 columns</p>\n",
              "</div>"
            ],
            "text/plain": [
              "     member_id  #message_posts\n",
              "0         7424             542\n",
              "1         2209             487\n",
              "2         7816             413\n",
              "3            1             401\n",
              "4            0             327\n",
              "..         ...             ...\n",
              "501       9519               1\n",
              "502       7604               1\n",
              "503       4339               1\n",
              "504       7620               1\n",
              "505        198               1\n",
              "\n",
              "[506 rows x 2 columns]"
            ]
          },
          "execution_count": 20,
          "metadata": {},
          "output_type": "execute_result"
        }
      ],
      "source": [
        "message_posts"
      ]
    },
    {
      "cell_type": "markdown",
      "metadata": {
        "id": "4bk-aZW3iHmf"
      },
      "source": [
        "## Join the Columns"
      ]
    },
    {
      "cell_type": "code",
      "execution_count": null,
      "metadata": {
        "id": "PsNJe1OaiE7X"
      },
      "outputs": [],
      "source": [
        "merger1 = message_posts.merge(notifs, on=\"member_id\", how=\"outer\")"
      ]
    },
    {
      "cell_type": "code",
      "execution_count": null,
      "metadata": {
        "colab": {
          "base_uri": "https://localhost:8080/",
          "height": 415
        },
        "id": "TPnWsYF1i-0e",
        "outputId": "87afda2c-10ba-4489-d02b-657d363c7080"
      },
      "outputs": [
        {
          "data": {
            "text/html": [
              "<div>\n",
              "<style scoped>\n",
              "    .dataframe tbody tr th:only-of-type {\n",
              "        vertical-align: middle;\n",
              "    }\n",
              "\n",
              "    .dataframe tbody tr th {\n",
              "        vertical-align: top;\n",
              "    }\n",
              "\n",
              "    .dataframe thead th {\n",
              "        text-align: right;\n",
              "    }\n",
              "</style>\n",
              "<table border=\"1\" class=\"dataframe\">\n",
              "  <thead>\n",
              "    <tr style=\"text-align: right;\">\n",
              "      <th></th>\n",
              "      <th>member_id</th>\n",
              "      <th>#message_posts</th>\n",
              "      <th>#notifs</th>\n",
              "    </tr>\n",
              "  </thead>\n",
              "  <tbody>\n",
              "    <tr>\n",
              "      <th>0</th>\n",
              "      <td>7424</td>\n",
              "      <td>542.0</td>\n",
              "      <td>1157.0</td>\n",
              "    </tr>\n",
              "    <tr>\n",
              "      <th>1</th>\n",
              "      <td>2209</td>\n",
              "      <td>487.0</td>\n",
              "      <td>NaN</td>\n",
              "    </tr>\n",
              "    <tr>\n",
              "      <th>2</th>\n",
              "      <td>7816</td>\n",
              "      <td>413.0</td>\n",
              "      <td>NaN</td>\n",
              "    </tr>\n",
              "    <tr>\n",
              "      <th>3</th>\n",
              "      <td>1</td>\n",
              "      <td>401.0</td>\n",
              "      <td>1135.0</td>\n",
              "    </tr>\n",
              "    <tr>\n",
              "      <th>4</th>\n",
              "      <td>0</td>\n",
              "      <td>327.0</td>\n",
              "      <td>NaN</td>\n",
              "    </tr>\n",
              "    <tr>\n",
              "      <th>...</th>\n",
              "      <td>...</td>\n",
              "      <td>...</td>\n",
              "      <td>...</td>\n",
              "    </tr>\n",
              "    <tr>\n",
              "      <th>554</th>\n",
              "      <td>7866</td>\n",
              "      <td>NaN</td>\n",
              "      <td>1.0</td>\n",
              "    </tr>\n",
              "    <tr>\n",
              "      <th>555</th>\n",
              "      <td>9532</td>\n",
              "      <td>NaN</td>\n",
              "      <td>1.0</td>\n",
              "    </tr>\n",
              "    <tr>\n",
              "      <th>556</th>\n",
              "      <td>25</td>\n",
              "      <td>NaN</td>\n",
              "      <td>1.0</td>\n",
              "    </tr>\n",
              "    <tr>\n",
              "      <th>557</th>\n",
              "      <td>9869</td>\n",
              "      <td>NaN</td>\n",
              "      <td>1.0</td>\n",
              "    </tr>\n",
              "    <tr>\n",
              "      <th>558</th>\n",
              "      <td>9256</td>\n",
              "      <td>NaN</td>\n",
              "      <td>1.0</td>\n",
              "    </tr>\n",
              "  </tbody>\n",
              "</table>\n",
              "<p>559 rows × 3 columns</p>\n",
              "</div>"
            ],
            "text/plain": [
              "     member_id  #message_posts  #notifs\n",
              "0         7424           542.0   1157.0\n",
              "1         2209           487.0      NaN\n",
              "2         7816           413.0      NaN\n",
              "3            1           401.0   1135.0\n",
              "4            0           327.0      NaN\n",
              "..         ...             ...      ...\n",
              "554       7866             NaN      1.0\n",
              "555       9532             NaN      1.0\n",
              "556         25             NaN      1.0\n",
              "557       9869             NaN      1.0\n",
              "558       9256             NaN      1.0\n",
              "\n",
              "[559 rows x 3 columns]"
            ]
          },
          "execution_count": 22,
          "metadata": {},
          "output_type": "execute_result"
        }
      ],
      "source": [
        "merger1"
      ]
    },
    {
      "cell_type": "code",
      "execution_count": null,
      "metadata": {
        "id": "vC97mJ2XjMrP"
      },
      "outputs": [],
      "source": [
        "merger2 = merger1.merge(posts, on=\"member_id\", how=\"outer\")"
      ]
    },
    {
      "cell_type": "code",
      "execution_count": null,
      "metadata": {
        "colab": {
          "base_uri": "https://localhost:8080/",
          "height": 415
        },
        "id": "J6K0pZTXjTJe",
        "outputId": "72d63b64-65f2-49f5-fc1d-730581167fe6"
      },
      "outputs": [
        {
          "data": {
            "text/html": [
              "<div>\n",
              "<style scoped>\n",
              "    .dataframe tbody tr th:only-of-type {\n",
              "        vertical-align: middle;\n",
              "    }\n",
              "\n",
              "    .dataframe tbody tr th {\n",
              "        vertical-align: top;\n",
              "    }\n",
              "\n",
              "    .dataframe thead th {\n",
              "        text-align: right;\n",
              "    }\n",
              "</style>\n",
              "<table border=\"1\" class=\"dataframe\">\n",
              "  <thead>\n",
              "    <tr style=\"text-align: right;\">\n",
              "      <th></th>\n",
              "      <th>member_id</th>\n",
              "      <th>#message_posts</th>\n",
              "      <th>#notifs</th>\n",
              "      <th>#posts</th>\n",
              "    </tr>\n",
              "  </thead>\n",
              "  <tbody>\n",
              "    <tr>\n",
              "      <th>0</th>\n",
              "      <td>7424</td>\n",
              "      <td>542.0</td>\n",
              "      <td>1157.0</td>\n",
              "      <td>1005.0</td>\n",
              "    </tr>\n",
              "    <tr>\n",
              "      <th>1</th>\n",
              "      <td>2209</td>\n",
              "      <td>487.0</td>\n",
              "      <td>NaN</td>\n",
              "      <td>83.0</td>\n",
              "    </tr>\n",
              "    <tr>\n",
              "      <th>2</th>\n",
              "      <td>7816</td>\n",
              "      <td>413.0</td>\n",
              "      <td>NaN</td>\n",
              "      <td>946.0</td>\n",
              "    </tr>\n",
              "    <tr>\n",
              "      <th>3</th>\n",
              "      <td>1</td>\n",
              "      <td>401.0</td>\n",
              "      <td>1135.0</td>\n",
              "      <td>5584.0</td>\n",
              "    </tr>\n",
              "    <tr>\n",
              "      <th>4</th>\n",
              "      <td>0</td>\n",
              "      <td>327.0</td>\n",
              "      <td>NaN</td>\n",
              "      <td>2768.0</td>\n",
              "    </tr>\n",
              "    <tr>\n",
              "      <th>...</th>\n",
              "      <td>...</td>\n",
              "      <td>...</td>\n",
              "      <td>...</td>\n",
              "      <td>...</td>\n",
              "    </tr>\n",
              "    <tr>\n",
              "      <th>731</th>\n",
              "      <td>252</td>\n",
              "      <td>NaN</td>\n",
              "      <td>NaN</td>\n",
              "      <td>1.0</td>\n",
              "    </tr>\n",
              "    <tr>\n",
              "      <th>732</th>\n",
              "      <td>493</td>\n",
              "      <td>NaN</td>\n",
              "      <td>NaN</td>\n",
              "      <td>1.0</td>\n",
              "    </tr>\n",
              "    <tr>\n",
              "      <th>733</th>\n",
              "      <td>6139</td>\n",
              "      <td>NaN</td>\n",
              "      <td>NaN</td>\n",
              "      <td>1.0</td>\n",
              "    </tr>\n",
              "    <tr>\n",
              "      <th>734</th>\n",
              "      <td>6304</td>\n",
              "      <td>NaN</td>\n",
              "      <td>NaN</td>\n",
              "      <td>1.0</td>\n",
              "    </tr>\n",
              "    <tr>\n",
              "      <th>735</th>\n",
              "      <td>6307</td>\n",
              "      <td>NaN</td>\n",
              "      <td>NaN</td>\n",
              "      <td>1.0</td>\n",
              "    </tr>\n",
              "  </tbody>\n",
              "</table>\n",
              "<p>736 rows × 4 columns</p>\n",
              "</div>"
            ],
            "text/plain": [
              "     member_id  #message_posts  #notifs  #posts\n",
              "0         7424           542.0   1157.0  1005.0\n",
              "1         2209           487.0      NaN    83.0\n",
              "2         7816           413.0      NaN   946.0\n",
              "3            1           401.0   1135.0  5584.0\n",
              "4            0           327.0      NaN  2768.0\n",
              "..         ...             ...      ...     ...\n",
              "731        252             NaN      NaN     1.0\n",
              "732        493             NaN      NaN     1.0\n",
              "733       6139             NaN      NaN     1.0\n",
              "734       6304             NaN      NaN     1.0\n",
              "735       6307             NaN      NaN     1.0\n",
              "\n",
              "[736 rows x 4 columns]"
            ]
          },
          "execution_count": 26,
          "metadata": {},
          "output_type": "execute_result"
        }
      ],
      "source": [
        "merger2"
      ]
    },
    {
      "cell_type": "markdown",
      "metadata": {
        "id": "jmx0Eeqaj6PA"
      },
      "source": [
        "# Merge with orig_members"
      ]
    },
    {
      "cell_type": "code",
      "execution_count": null,
      "metadata": {
        "id": "cE-wamE_jwGA"
      },
      "outputs": [],
      "source": [
        "orig_members = pd.read_csv(\"/content/drive/MyDrive/text gcn/Hackforum data/CSV Data IronMarch/data_csv/orig_members.csv\")"
      ]
    },
    {
      "cell_type": "code",
      "execution_count": null,
      "metadata": {
        "colab": {
          "base_uri": "https://localhost:8080/"
        },
        "id": "ha5-50vckG1U",
        "outputId": "49046552-6b39-4e33-da89-25d65e94f82b"
      },
      "outputs": [
        {
          "name": "stdout",
          "output_type": "stream",
          "text": [
            "<class 'pandas.core.frame.DataFrame'>\n",
            "RangeIndex: 763 entries, 0 to 762\n",
            "Data columns (total 75 columns):\n",
            " #   Column                     Non-Null Count  Dtype  \n",
            "---  ------                     --------------  -----  \n",
            " 0   Unnamed: 0                 763 non-null    int64  \n",
            " 1   member_id                  763 non-null    int64  \n",
            " 2   name                       763 non-null    object \n",
            " 3   member_group_id            763 non-null    int64  \n",
            " 4   email                      763 non-null    object \n",
            " 5   joined                     763 non-null    int64  \n",
            " 6   ip_address                 763 non-null    object \n",
            " 7   posts                      763 non-null    int64  \n",
            " 8   title                      98 non-null     object \n",
            " 9   allow_admin_mails          763 non-null    int64  \n",
            " 10  time_offset                755 non-null    float64\n",
            " 11  skin                       271 non-null    float64\n",
            " 12  warn_level                 212 non-null    float64\n",
            " 13  warn_lastwarn              763 non-null    int64  \n",
            " 14  language                   763 non-null    int64  \n",
            " 15  last_post                  741 non-null    float64\n",
            " 16  restrict_post              596 non-null    float64\n",
            " 17  view_sigs                  763 non-null    int64  \n",
            " 18  view_img                   763 non-null    int64  \n",
            " 19  bday_day                   763 non-null    int64  \n",
            " 20  bday_month                 763 non-null    int64  \n",
            " 21  bday_year                  763 non-null    int64  \n",
            " 22  msg_count_new              763 non-null    int64  \n",
            " 23  msg_count_total            763 non-null    int64  \n",
            " 24  msg_count_reset            763 non-null    int64  \n",
            " 25  msg_show_notification      763 non-null    int64  \n",
            " 26  misc                       0 non-null      float64\n",
            " 27  last_visit                 763 non-null    int64  \n",
            " 28  last_activity              763 non-null    int64  \n",
            " 29  dst_in_use                 763 non-null    int64  \n",
            " 30  coppa_user                 763 non-null    int64  \n",
            " 31  mod_posts                  589 non-null    float64\n",
            " 32  auto_track                 520 non-null    object \n",
            " 33  temp_ban                   723 non-null    float64\n",
            " 34  login_anonymous            763 non-null    object \n",
            " 35  ignored_users              759 non-null    object \n",
            " 36  mgroup_others              17 non-null     object \n",
            " 37  org_perm_id                2 non-null      object \n",
            " 38  member_login_key           763 non-null    object \n",
            " 39  member_login_key_expire    763 non-null    int64  \n",
            " 40  has_blog                   0 non-null      float64\n",
            " 41  has_gallery                763 non-null    int64  \n",
            " 42  members_auto_dst           763 non-null    int64  \n",
            " 43  members_display_name       763 non-null    object \n",
            " 44  members_seo_name           763 non-null    object \n",
            " 45  members_created_remote     763 non-null    int64  \n",
            " 46  members_cache              723 non-null    object \n",
            " 47  members_disable_pm         763 non-null    int64  \n",
            " 48  members_l_display_name     763 non-null    object \n",
            " 49  members_l_username         763 non-null    object \n",
            " 50  failed_logins              1 non-null      object \n",
            " 51  failed_login_count         763 non-null    int64  \n",
            " 52  members_profile_views      763 non-null    int64  \n",
            " 53  members_pass_hash          763 non-null    object \n",
            " 54  members_pass_salt          763 non-null    object \n",
            " 55  member_banned              763 non-null    int64  \n",
            " 56  member_uploader            763 non-null    object \n",
            " 57  members_bitoptions         763 non-null    int64  \n",
            " 58  fb_uid                     763 non-null    int64  \n",
            " 59  fb_emailhash               0 non-null      float64\n",
            " 60  fb_lastsync                763 non-null    int64  \n",
            " 61  members_day_posts          763 non-null    object \n",
            " 62  live_id                    0 non-null      float64\n",
            " 63  twitter_id                 0 non-null      float64\n",
            " 64  twitter_token              0 non-null      float64\n",
            " 65  twitter_secret             0 non-null      float64\n",
            " 66  notification_cnt           763 non-null    int64  \n",
            " 67  tc_lastsync                763 non-null    int64  \n",
            " 68  fb_session                 0 non-null      float64\n",
            " 69  fb_token                   0 non-null      float64\n",
            " 70  ips_mobile_token           0 non-null      float64\n",
            " 71  unacknowledged_warnings    0 non-null      float64\n",
            " 72  blogs_recache              0 non-null      float64\n",
            " 73  ipsconnect_id              763 non-null    int64  \n",
            " 74  ipsconnect_revalidate_url  0 non-null      float64\n",
            "dtypes: float64(20), int64(35), object(20)\n",
            "memory usage: 447.2+ KB\n"
          ]
        }
      ],
      "source": [
        "orig_members.info()"
      ]
    },
    {
      "cell_type": "markdown",
      "metadata": {},
      "source": [
        "## Drop the irrelevant colunms"
      ]
    },
    {
      "cell_type": "code",
      "execution_count": null,
      "metadata": {
        "id": "WSz5WY90kL6H"
      },
      "outputs": [],
      "source": [
        "orig_members.drop(orig_members.columns[[0, 2, 3, 4, 5, 6, 8, 9, 10, 11, 12, 13, 14, 15, 16, 17, 18, 19, 20, 21, 22, 23, 24, 25, 26, 27, 28, 29, 30, 31, 32, 33, 34, 35, 36, 37, 38, 39, 40, 41, 42, 43, 44, 45, 46, 47, 48, 49, 50, 51, 53, 54, 55, 56, 57, 58, 59, 60, 61, 62, 63, 64, 64, 65, 66, 67, 68, 69, 70, 71, 72, 73, 74]], axis =1, inplace=True)"
      ]
    },
    {
      "cell_type": "code",
      "execution_count": null,
      "metadata": {
        "id": "fIBle2MnkgBt"
      },
      "outputs": [],
      "source": [
        "db = orig_members.merge(merger2, on=\"member_id\", how=\"left\")"
      ]
    },
    {
      "cell_type": "code",
      "execution_count": null,
      "metadata": {
        "id": "MLtTgblgjD9C"
      },
      "outputs": [],
      "source": [
        "db = db.replace(to_replace=np.nan, value=0)"
      ]
    },
    {
      "cell_type": "code",
      "execution_count": null,
      "metadata": {
        "id": "grvPhsmmYSu8"
      },
      "outputs": [],
      "source": [
        "db[\"total_content\"] = db[\"#message_posts\"]+\tdb[\"#notifs\"]+\tdb[\"#posts\"]"
      ]
    },
    {
      "cell_type": "code",
      "execution_count": null,
      "metadata": {
        "colab": {
          "base_uri": "https://localhost:8080/",
          "height": 296
        },
        "id": "0awpi7tTYd2Q",
        "outputId": "457a35a8-4626-46c9-d1cf-faf5d2f70833"
      },
      "outputs": [
        {
          "data": {
            "text/plain": [
              "Text(0, 0.5, 'Count of People')"
            ]
          },
          "execution_count": 37,
          "metadata": {},
          "output_type": "execute_result"
        },
        {
          "data": {
            "image/png": "[encoded data removed]",
            "text/plain": [
              "<Figure size 432x288 with 1 Axes>"
            ]
          },
          "metadata": {
            "needs_background": "light"
          },
          "output_type": "display_data"
        }
      ],
      "source": [
        "plt.hist(db[\"total_content\"])\n",
        "plt.xlabel(\"Posts + Inline Notifs + Msg Posts\")\n",
        "plt.ylabel(\"Count of People\")"
      ]
    },
    {
      "cell_type": "code",
      "execution_count": null,
      "metadata": {
        "colab": {
          "base_uri": "https://localhost:8080/",
          "height": 296
        },
        "id": "u5uHKexsYqyG",
        "outputId": "afc2fa22-94d0-4a9e-c1c1-978890e4dba2"
      },
      "outputs": [
        {
          "data": {
            "text/plain": [
              "Text(0, 0.5, 'Count of People')"
            ]
          },
          "execution_count": 38,
          "metadata": {},
          "output_type": "execute_result"
        },
        {
          "data": {
            "image/png": "[encoded data removed]",
            "text/plain": [
              "<Figure size 432x288 with 1 Axes>"
            ]
          },
          "metadata": {
            "needs_background": "light"
          },
          "output_type": "display_data"
        }
      ],
      "source": [
        "plt.hist(np.log(db[\"total_content\"].replace(to_replace=0, value=np.nan)))\n",
        "plt.xlabel(\"log(Posts + Inline Notifs + Msg Posts)\")\n",
        "plt.ylabel(\"Count of People\")"
      ]
    },
    {
      "cell_type": "code",
      "execution_count": null,
      "metadata": {
        "colab": {
          "base_uri": "https://localhost:8080/",
          "height": 296
        },
        "id": "Ix0L8dybYyeJ",
        "outputId": "733e5dc4-b894-41b0-95d3-903044ca5660"
      },
      "outputs": [
        {
          "data": {
            "text/plain": [
              "Text(0, 0.5, 'Count of People')"
            ]
          },
          "execution_count": 39,
          "metadata": {},
          "output_type": "execute_result"
        },
        {
          "data": {
            "image/png": "[encoded data removed]",
            "text/plain": [
              "<Figure size 432x288 with 1 Axes>"
            ]
          },
          "metadata": {
            "needs_background": "light"
          },
          "output_type": "display_data"
        }
      ],
      "source": [
        "db[\"activity\"] = 1+np.log(db[\"total_content\"].replace(to_replace=0, value=np.nan))\n",
        "plt.hist(db[\"activity\"])\n",
        "plt.xlabel(\"Activity\")\n",
        "plt.ylabel(\"Count of People\")"
      ]
    },
    {
      "cell_type": "markdown",
      "metadata": {},
      "source": [
        "## Normalise Activity"
      ]
    },
    {
      "cell_type": "code",
      "execution_count": null,
      "metadata": {
        "id": "sOGX0xV5ZDwj"
      },
      "outputs": [],
      "source": [
        "db[\"n_activity\"] = (db['activity']-min(db['activity']))/(max(db['activity'])-min(db['activity']))"
      ]
    },
    {
      "cell_type": "code",
      "execution_count": null,
      "metadata": {
        "colab": {
          "base_uri": "https://localhost:8080/",
          "height": 296
        },
        "id": "o1mOvBWHZqCh",
        "outputId": "b6649b93-34cb-43d3-d41c-639b6df41d04"
      },
      "outputs": [
        {
          "data": {
            "text/plain": [
              "Text(0, 0.5, 'Count of People')"
            ]
          },
          "execution_count": 41,
          "metadata": {},
          "output_type": "execute_result"
        },
        {
          "data": {
            "image/png": "[encoded data removed]",
            "text/plain": [
              "<Figure size 432x288 with 1 Axes>"
            ]
          },
          "metadata": {
            "needs_background": "light"
          },
          "output_type": "display_data"
        }
      ],
      "source": [
        "plt.hist(db[\"n_activity\"])\n",
        "plt.xlabel(\"Normalised Activity\")\n",
        "plt.ylabel(\"Count of People\")"
      ]
    },
    {
      "cell_type": "code",
      "execution_count": null,
      "metadata": {
        "id": "0WCg0kPEmcf_"
      },
      "outputs": [],
      "source": [
        "db = db.replace(to_replace=np.nan, value=0)"
      ]
    },
    {
      "cell_type": "code",
      "execution_count": null,
      "metadata": {
        "id": "lo2ZaY2-ZzxO"
      },
      "outputs": [],
      "source": [
        "# save the final database which has the activity score\n",
        "db.to_csv(\"/content/drive/MyDrive/text gcn/created_csv/ironmarch/orig_score_activity.csv\")"
      ]
    }
  ],
  "metadata": {
    "colab": {
      "authorship_tag": "ABX9TyPvySEPUnTGOKnef9Hfk4M1",
      "mount_file_id": "1Pu6Srjewcn9kH99HMQD4Tw0mI8JRAw2U",
      "name": "activity.ipynb",
      "provenance": []
    },
    "kernelspec": {
      "display_name": "Python 3",
      "name": "python3"
    },
    "language_info": {
      "name": "python"
    }
  },
  "nbformat": 4,
  "nbformat_minor": 0
}
