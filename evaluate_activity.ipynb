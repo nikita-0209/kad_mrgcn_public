{
  "nbformat": 4,
  "nbformat_minor": 0,
  "metadata": {
    "colab": {
      "name": "activity.ipynb",
      "provenance": [],
      "mount_file_id": "1Pu6Srjewcn9kH99HMQD4Tw0mI8JRAw2U",
      "authorship_tag": "ABX9TyPvySEPUnTGOKnef9Hfk4M1"
    },
    "kernelspec": {
      "name": "python3",
      "display_name": "Python 3"
    },
    "language_info": {
      "name": "python"
    }
  },
  "cells": [
    {
      "cell_type": "markdown",
      "metadata": {
        "id": "I_rcm_fjW5Xb"
      },
      "source": [
        "We will measure the activity by counting the number of:\n",
        "1. rc_comments\n",
        "2. posts\n",
        "3. message_posts\n",
        "4. inline_notifs\n",
        "made by a user. We might not want to consider the data in the orig_member database because it might be slightly inconsistent with the final table we are considering. We do not know whether that number of posts is actually what we are considering while building the adjMatrix. This is because the ironmarch dataset is quite scattered."
      ]
    },
    {
      "cell_type": "code",
      "metadata": {
        "id": "2ZTbW2lyXw_m"
      },
      "source": [
        "import pandas as pd\n",
        "import numpy as np\n",
        "import matplotlib.pyplot as plt\n",
        "%matplotlib inline\n",
        "import os\n",
        "import requests \n",
        "import io\n",
        "import seaborn as sns"
      ],
      "execution_count": null,
      "outputs": []
    },
    {
      "cell_type": "markdown",
      "metadata": {
        "id": "4yn8kk2oXdvi"
      },
      "source": [
        "### orig_rc_comments"
      ]
    },
    {
      "cell_type": "code",
      "metadata": {
        "id": "oKQLPvijWzN1"
      },
      "source": [
        "orig_rc_comments = pd.read_csv(\"/content/drive/MyDrive/text gcn/csv/orig_rc_comments.csv\")"
      ],
      "execution_count": null,
      "outputs": []
    },
    {
      "cell_type": "code",
      "metadata": {
        "colab": {
          "base_uri": "https://localhost:8080/"
        },
        "id": "CrAjIZBfX_pQ",
        "outputId": "0bc1a878-a013-4a85-aea1-b3f738b27893"
      },
      "source": [
        "orig_rc_comments.info()"
      ],
      "execution_count": null,
      "outputs": [
        {
          "output_type": "stream",
          "name": "stdout",
          "text": [
            "<class 'pandas.core.frame.DataFrame'>\n",
            "RangeIndex: 21 entries, 0 to 20\n",
            "Data columns (total 9 columns):\n",
            " #   Column        Non-Null Count  Dtype \n",
            "---  ------        --------------  ----- \n",
            " 0   id            21 non-null     int64 \n",
            " 1   rid           21 non-null     int64 \n",
            " 2   comment       21 non-null     object\n",
            " 3   comment_by    21 non-null     int64 \n",
            " 4   comment_date  21 non-null     int64 \n",
            " 5   approved      21 non-null     int64 \n",
            " 6   edit_date     21 non-null     int64 \n",
            " 7   author_name   21 non-null     object\n",
            " 8   ip_address    21 non-null     object\n",
            "dtypes: int64(6), object(3)\n",
            "memory usage: 1.6+ KB\n"
          ]
        }
      ]
    },
    {
      "cell_type": "code",
      "metadata": {
        "colab": {
          "base_uri": "https://localhost:8080/"
        },
        "id": "Xx8jLKfOXjCz",
        "outputId": "34bb0b7f-63b5-43e3-a63c-b80409576904"
      },
      "source": [
        "orig_rc_comments['comment_by'].value_counts()"
      ],
      "execution_count": null,
      "outputs": [
        {
          "output_type": "execute_result",
          "data": {
            "text/plain": [
              "1       7\n",
              "2170    4\n",
              "9144    2\n",
              "7       2\n",
              "9475    2\n",
              "49      1\n",
              "2220    1\n",
              "9       1\n",
              "4       1\n",
              "Name: comment_by, dtype: int64"
            ]
          },
          "metadata": {},
          "execution_count": 4
        }
      ]
    },
    {
      "cell_type": "code",
      "metadata": {
        "id": "TlN2imBpX5M0"
      },
      "source": [
        "frame = { '#rc_comments': orig_rc_comments['comment_by'].value_counts()}\n",
        "rc_comments = pd.DataFrame(frame)"
      ],
      "execution_count": null,
      "outputs": []
    },
    {
      "cell_type": "code",
      "metadata": {
        "colab": {
          "base_uri": "https://localhost:8080/",
          "height": 325
        },
        "id": "spYXHF2VYQC6",
        "outputId": "45988a11-deb4-408c-9dac-d287e70957a0"
      },
      "source": [
        "rc_comments "
      ],
      "execution_count": null,
      "outputs": [
        {
          "output_type": "execute_result",
          "data": {
            "text/html": [
              "<div>\n",
              "<style scoped>\n",
              "    .dataframe tbody tr th:only-of-type {\n",
              "        vertical-align: middle;\n",
              "    }\n",
              "\n",
              "    .dataframe tbody tr th {\n",
              "        vertical-align: top;\n",
              "    }\n",
              "\n",
              "    .dataframe thead th {\n",
              "        text-align: right;\n",
              "    }\n",
              "</style>\n",
              "<table border=\"1\" class=\"dataframe\">\n",
              "  <thead>\n",
              "    <tr style=\"text-align: right;\">\n",
              "      <th></th>\n",
              "      <th>#rc_comments</th>\n",
              "    </tr>\n",
              "  </thead>\n",
              "  <tbody>\n",
              "    <tr>\n",
              "      <th>1</th>\n",
              "      <td>7</td>\n",
              "    </tr>\n",
              "    <tr>\n",
              "      <th>2170</th>\n",
              "      <td>4</td>\n",
              "    </tr>\n",
              "    <tr>\n",
              "      <th>9144</th>\n",
              "      <td>2</td>\n",
              "    </tr>\n",
              "    <tr>\n",
              "      <th>7</th>\n",
              "      <td>2</td>\n",
              "    </tr>\n",
              "    <tr>\n",
              "      <th>9475</th>\n",
              "      <td>2</td>\n",
              "    </tr>\n",
              "    <tr>\n",
              "      <th>49</th>\n",
              "      <td>1</td>\n",
              "    </tr>\n",
              "    <tr>\n",
              "      <th>2220</th>\n",
              "      <td>1</td>\n",
              "    </tr>\n",
              "    <tr>\n",
              "      <th>9</th>\n",
              "      <td>1</td>\n",
              "    </tr>\n",
              "    <tr>\n",
              "      <th>4</th>\n",
              "      <td>1</td>\n",
              "    </tr>\n",
              "  </tbody>\n",
              "</table>\n",
              "</div>"
            ],
            "text/plain": [
              "      #rc_comments\n",
              "1                7\n",
              "2170             4\n",
              "9144             2\n",
              "7                2\n",
              "9475             2\n",
              "49               1\n",
              "2220             1\n",
              "9                1\n",
              "4                1"
            ]
          },
          "metadata": {},
          "execution_count": 6
        }
      ]
    },
    {
      "cell_type": "code",
      "metadata": {
        "id": "_S9d6t6PYTD8"
      },
      "source": [
        "rc_comments.to_csv(\"/content/drive/MyDrive/text gcn/ironmarch csvs/dummy_rc_comments.csv\")"
      ],
      "execution_count": null,
      "outputs": []
    },
    {
      "cell_type": "code",
      "metadata": {
        "id": "DawbJsWRbqHT"
      },
      "source": [
        "rc_comments = pd.read_csv(\"/content/drive/MyDrive/text gcn/ironmarch csvs/dummy_rc_comments.csv\")"
      ],
      "execution_count": null,
      "outputs": []
    },
    {
      "cell_type": "code",
      "metadata": {
        "colab": {
          "base_uri": "https://localhost:8080/",
          "height": 325
        },
        "id": "1iMdQVD-bv1P",
        "outputId": "8ab2ba19-ef45-4cf1-cf83-04554227ba0b"
      },
      "source": [
        "rc_comments"
      ],
      "execution_count": null,
      "outputs": [
        {
          "output_type": "execute_result",
          "data": {
            "text/html": [
              "<div>\n",
              "<style scoped>\n",
              "    .dataframe tbody tr th:only-of-type {\n",
              "        vertical-align: middle;\n",
              "    }\n",
              "\n",
              "    .dataframe tbody tr th {\n",
              "        vertical-align: top;\n",
              "    }\n",
              "\n",
              "    .dataframe thead th {\n",
              "        text-align: right;\n",
              "    }\n",
              "</style>\n",
              "<table border=\"1\" class=\"dataframe\">\n",
              "  <thead>\n",
              "    <tr style=\"text-align: right;\">\n",
              "      <th></th>\n",
              "      <th>Unnamed: 0</th>\n",
              "      <th>#rc_comments</th>\n",
              "    </tr>\n",
              "  </thead>\n",
              "  <tbody>\n",
              "    <tr>\n",
              "      <th>0</th>\n",
              "      <td>1</td>\n",
              "      <td>7</td>\n",
              "    </tr>\n",
              "    <tr>\n",
              "      <th>1</th>\n",
              "      <td>2170</td>\n",
              "      <td>4</td>\n",
              "    </tr>\n",
              "    <tr>\n",
              "      <th>2</th>\n",
              "      <td>9144</td>\n",
              "      <td>2</td>\n",
              "    </tr>\n",
              "    <tr>\n",
              "      <th>3</th>\n",
              "      <td>7</td>\n",
              "      <td>2</td>\n",
              "    </tr>\n",
              "    <tr>\n",
              "      <th>4</th>\n",
              "      <td>9475</td>\n",
              "      <td>2</td>\n",
              "    </tr>\n",
              "    <tr>\n",
              "      <th>5</th>\n",
              "      <td>49</td>\n",
              "      <td>1</td>\n",
              "    </tr>\n",
              "    <tr>\n",
              "      <th>6</th>\n",
              "      <td>2220</td>\n",
              "      <td>1</td>\n",
              "    </tr>\n",
              "    <tr>\n",
              "      <th>7</th>\n",
              "      <td>9</td>\n",
              "      <td>1</td>\n",
              "    </tr>\n",
              "    <tr>\n",
              "      <th>8</th>\n",
              "      <td>4</td>\n",
              "      <td>1</td>\n",
              "    </tr>\n",
              "  </tbody>\n",
              "</table>\n",
              "</div>"
            ],
            "text/plain": [
              "   Unnamed: 0  #rc_comments\n",
              "0           1             7\n",
              "1        2170             4\n",
              "2        9144             2\n",
              "3           7             2\n",
              "4        9475             2\n",
              "5          49             1\n",
              "6        2220             1\n",
              "7           9             1\n",
              "8           4             1"
            ]
          },
          "metadata": {},
          "execution_count": 9
        }
      ]
    },
    {
      "cell_type": "code",
      "metadata": {
        "id": "AguAQ40Cbw9V"
      },
      "source": [
        "rc_comments = rc_comments.rename(columns={\"Unnamed: 0\": \"member_id\"})"
      ],
      "execution_count": null,
      "outputs": []
    },
    {
      "cell_type": "markdown",
      "metadata": {
        "id": "fYqarrUIcgMR"
      },
      "source": [
        "### orig_inline_notifications"
      ]
    },
    {
      "cell_type": "code",
      "metadata": {
        "id": "PO03LOCyb9cz"
      },
      "source": [
        "orig_inline_notifications = pd.read_csv('/content/drive/MyDrive/text gcn/Hackforum data/CSV Data IronMarch/data_csv/orig_inline_notifications.csv')"
      ],
      "execution_count": null,
      "outputs": []
    },
    {
      "cell_type": "code",
      "metadata": {
        "colab": {
          "base_uri": "https://localhost:8080/"
        },
        "id": "nyCQ-d14cu0F",
        "outputId": "51052c18-6bc9-4fce-a4fe-a6f12f3119f2"
      },
      "source": [
        "orig_inline_notifications.info()"
      ],
      "execution_count": null,
      "outputs": [
        {
          "output_type": "stream",
          "name": "stdout",
          "text": [
            "<class 'pandas.core.frame.DataFrame'>\n",
            "RangeIndex: 47066 entries, 0 to 47065\n",
            "Data columns (total 14 columns):\n",
            " #   Column            Non-Null Count  Dtype \n",
            "---  ------            --------------  ----- \n",
            " 0   Unnamed: 0        47066 non-null  int64 \n",
            " 1   notify_id         47066 non-null  int64 \n",
            " 2   notify_to_id      47066 non-null  int64 \n",
            " 3   notify_sent       47066 non-null  int64 \n",
            " 4   notify_read       47066 non-null  int64 \n",
            " 5   notify_title      47066 non-null  object\n",
            " 6   notify_text       47066 non-null  object\n",
            " 7   notify_from_id    47066 non-null  int64 \n",
            " 8   notify_type_key   47066 non-null  object\n",
            " 9   notify_url        47066 non-null  object\n",
            " 10  notify_meta_app   33296 non-null  object\n",
            " 11  notify_meta_area  33296 non-null  object\n",
            " 12  notify_meta_id    47066 non-null  int64 \n",
            " 13  notify_meta_key   33296 non-null  object\n",
            "dtypes: int64(7), object(7)\n",
            "memory usage: 5.0+ MB\n"
          ]
        }
      ]
    },
    {
      "cell_type": "code",
      "metadata": {
        "id": "fkfV3NRsc0lX"
      },
      "source": [
        "frame = { '#notifs': orig_inline_notifications['notify_from_id'].value_counts()}\n",
        "notifs = pd.DataFrame(frame)"
      ],
      "execution_count": null,
      "outputs": []
    },
    {
      "cell_type": "code",
      "metadata": {
        "id": "jSrMXWHAc-xu"
      },
      "source": [
        "notifs.to_csv(\"/content/drive/MyDrive/text gcn/created_csv/ironmarch/orig_activity_notifs.csv\")"
      ],
      "execution_count": null,
      "outputs": []
    },
    {
      "cell_type": "code",
      "metadata": {
        "id": "FyGdJJuCdEP3"
      },
      "source": [
        "notifs = pd.read_csv(\"/content/drive/MyDrive/text gcn/created_csv/ironmarch/orig_activity_notifs.csv\")"
      ],
      "execution_count": null,
      "outputs": []
    },
    {
      "cell_type": "code",
      "metadata": {
        "id": "N3ng6TUtdOTl"
      },
      "source": [
        "notifs = notifs.rename(columns={\"Unnamed: 0\": \"member_id\"})"
      ],
      "execution_count": null,
      "outputs": []
    },
    {
      "cell_type": "markdown",
      "metadata": {
        "id": "fFkyQ-qtdYyt"
      },
      "source": [
        "## orig_posts"
      ]
    },
    {
      "cell_type": "code",
      "metadata": {
        "id": "juydljkDdQhf"
      },
      "source": [
        "orig_posts = pd.read_csv('/content/drive/MyDrive/text gcn/Hackforum data/CSV Data IronMarch/data_csv/orig_posts.csv', error_bad_lines=False)\n",
        "# orig_posts = orig_posts.loc[orig_posts['author_id'].str.contains('^[0-9]*$', regex=True, na=False)]\n",
        "# orig_posts['author_id'] = orig_posts['author_id'].astype('int32')\n",
        "frame = { '#posts': orig_posts['author_id'].value_counts()}\n",
        "posts = pd.DataFrame(frame)\n",
        "posts.to_csv(\"/content/drive/MyDrive/text gcn/created_csv/ironmarch/orig_activity_posts.csv\")\n",
        "posts = pd.read_csv(\"/content/drive/MyDrive/text gcn/created_csv/ironmarch/orig_activity_posts.csv\")\n",
        "posts = posts.rename(columns={\"Unnamed: 0\": \"member_id\"})"
      ],
      "execution_count": null,
      "outputs": []
    },
    {
      "cell_type": "code",
      "metadata": {
        "colab": {
          "base_uri": "https://localhost:8080/",
          "height": 415
        },
        "id": "DHpLBVdXd5k6",
        "outputId": "c18f1ade-cc4f-445d-adf3-e406161e2dfc"
      },
      "source": [
        "posts"
      ],
      "execution_count": null,
      "outputs": [
        {
          "output_type": "execute_result",
          "data": {
            "text/html": [
              "<div>\n",
              "<style scoped>\n",
              "    .dataframe tbody tr th:only-of-type {\n",
              "        vertical-align: middle;\n",
              "    }\n",
              "\n",
              "    .dataframe tbody tr th {\n",
              "        vertical-align: top;\n",
              "    }\n",
              "\n",
              "    .dataframe thead th {\n",
              "        text-align: right;\n",
              "    }\n",
              "</style>\n",
              "<table border=\"1\" class=\"dataframe\">\n",
              "  <thead>\n",
              "    <tr style=\"text-align: right;\">\n",
              "      <th></th>\n",
              "      <th>member_id</th>\n",
              "      <th>#posts</th>\n",
              "    </tr>\n",
              "  </thead>\n",
              "  <tbody>\n",
              "    <tr>\n",
              "      <th>0</th>\n",
              "      <td>1</td>\n",
              "      <td>5584</td>\n",
              "    </tr>\n",
              "    <tr>\n",
              "      <th>1</th>\n",
              "      <td>1558</td>\n",
              "      <td>3703</td>\n",
              "    </tr>\n",
              "    <tr>\n",
              "      <th>2</th>\n",
              "      <td>132</td>\n",
              "      <td>3652</td>\n",
              "    </tr>\n",
              "    <tr>\n",
              "      <th>3</th>\n",
              "      <td>7</td>\n",
              "      <td>3128</td>\n",
              "    </tr>\n",
              "    <tr>\n",
              "      <th>4</th>\n",
              "      <td>288</td>\n",
              "      <td>3059</td>\n",
              "    </tr>\n",
              "    <tr>\n",
              "      <th>...</th>\n",
              "      <td>...</td>\n",
              "      <td>...</td>\n",
              "    </tr>\n",
              "    <tr>\n",
              "      <th>729</th>\n",
              "      <td>493</td>\n",
              "      <td>1</td>\n",
              "    </tr>\n",
              "    <tr>\n",
              "      <th>730</th>\n",
              "      <td>9637</td>\n",
              "      <td>1</td>\n",
              "    </tr>\n",
              "    <tr>\n",
              "      <th>731</th>\n",
              "      <td>6139</td>\n",
              "      <td>1</td>\n",
              "    </tr>\n",
              "    <tr>\n",
              "      <th>732</th>\n",
              "      <td>6304</td>\n",
              "      <td>1</td>\n",
              "    </tr>\n",
              "    <tr>\n",
              "      <th>733</th>\n",
              "      <td>6307</td>\n",
              "      <td>1</td>\n",
              "    </tr>\n",
              "  </tbody>\n",
              "</table>\n",
              "<p>734 rows × 2 columns</p>\n",
              "</div>"
            ],
            "text/plain": [
              "     member_id  #posts\n",
              "0            1    5584\n",
              "1         1558    3703\n",
              "2          132    3652\n",
              "3            7    3128\n",
              "4          288    3059\n",
              "..         ...     ...\n",
              "729        493       1\n",
              "730       9637       1\n",
              "731       6139       1\n",
              "732       6304       1\n",
              "733       6307       1\n",
              "\n",
              "[734 rows x 2 columns]"
            ]
          },
          "metadata": {},
          "execution_count": 18
        }
      ]
    },
    {
      "cell_type": "markdown",
      "metadata": {
        "id": "H8usULrXgUxD"
      },
      "source": [
        "## orig_message_posts"
      ]
    },
    {
      "cell_type": "code",
      "metadata": {
        "id": "ieJO3TjqgTN3"
      },
      "source": [
        "orig_message_posts = pd.read_csv('/content/drive/MyDrive/text gcn/Hackforum data/CSV Data IronMarch/data_csv/orig_message_posts.csv', error_bad_lines=False)\n",
        "# orig_message_posts = orig_message_posts.loc[orig_message_posts['msg_author_id'].str.contains('^[0-9]*$', regex=True, na=False)]\n",
        "# orig_message_posts['msg_author_id'] = orig_message_posts['msg_author_id'].astype('int32')\n",
        "frame = { '#message_posts': orig_message_posts['msg_author_id'].value_counts()}\n",
        "message_posts = pd.DataFrame(frame)\n",
        "message_posts.to_csv(\"/content/drive/MyDrive/text gcn/created_csv/ironmarch/orig_activity_posts.csv\")\n",
        "message_posts = pd.read_csv(\"/content/drive/MyDrive/text gcn/created_csv/ironmarch/orig_activity_posts.csv\")\n",
        "message_posts = message_posts.rename(columns={\"Unnamed: 0\": \"member_id\"})"
      ],
      "execution_count": null,
      "outputs": []
    },
    {
      "cell_type": "code",
      "metadata": {
        "colab": {
          "base_uri": "https://localhost:8080/",
          "height": 415
        },
        "id": "f59H3uPwhGkw",
        "outputId": "3c6b361d-b695-4f0b-9598-a25b66cf171d"
      },
      "source": [
        "message_posts"
      ],
      "execution_count": null,
      "outputs": [
        {
          "output_type": "execute_result",
          "data": {
            "text/html": [
              "<div>\n",
              "<style scoped>\n",
              "    .dataframe tbody tr th:only-of-type {\n",
              "        vertical-align: middle;\n",
              "    }\n",
              "\n",
              "    .dataframe tbody tr th {\n",
              "        vertical-align: top;\n",
              "    }\n",
              "\n",
              "    .dataframe thead th {\n",
              "        text-align: right;\n",
              "    }\n",
              "</style>\n",
              "<table border=\"1\" class=\"dataframe\">\n",
              "  <thead>\n",
              "    <tr style=\"text-align: right;\">\n",
              "      <th></th>\n",
              "      <th>member_id</th>\n",
              "      <th>#message_posts</th>\n",
              "    </tr>\n",
              "  </thead>\n",
              "  <tbody>\n",
              "    <tr>\n",
              "      <th>0</th>\n",
              "      <td>7424</td>\n",
              "      <td>542</td>\n",
              "    </tr>\n",
              "    <tr>\n",
              "      <th>1</th>\n",
              "      <td>2209</td>\n",
              "      <td>487</td>\n",
              "    </tr>\n",
              "    <tr>\n",
              "      <th>2</th>\n",
              "      <td>7816</td>\n",
              "      <td>413</td>\n",
              "    </tr>\n",
              "    <tr>\n",
              "      <th>3</th>\n",
              "      <td>1</td>\n",
              "      <td>401</td>\n",
              "    </tr>\n",
              "    <tr>\n",
              "      <th>4</th>\n",
              "      <td>0</td>\n",
              "      <td>327</td>\n",
              "    </tr>\n",
              "    <tr>\n",
              "      <th>...</th>\n",
              "      <td>...</td>\n",
              "      <td>...</td>\n",
              "    </tr>\n",
              "    <tr>\n",
              "      <th>501</th>\n",
              "      <td>9519</td>\n",
              "      <td>1</td>\n",
              "    </tr>\n",
              "    <tr>\n",
              "      <th>502</th>\n",
              "      <td>7604</td>\n",
              "      <td>1</td>\n",
              "    </tr>\n",
              "    <tr>\n",
              "      <th>503</th>\n",
              "      <td>4339</td>\n",
              "      <td>1</td>\n",
              "    </tr>\n",
              "    <tr>\n",
              "      <th>504</th>\n",
              "      <td>7620</td>\n",
              "      <td>1</td>\n",
              "    </tr>\n",
              "    <tr>\n",
              "      <th>505</th>\n",
              "      <td>198</td>\n",
              "      <td>1</td>\n",
              "    </tr>\n",
              "  </tbody>\n",
              "</table>\n",
              "<p>506 rows × 2 columns</p>\n",
              "</div>"
            ],
            "text/plain": [
              "     member_id  #message_posts\n",
              "0         7424             542\n",
              "1         2209             487\n",
              "2         7816             413\n",
              "3            1             401\n",
              "4            0             327\n",
              "..         ...             ...\n",
              "501       9519               1\n",
              "502       7604               1\n",
              "503       4339               1\n",
              "504       7620               1\n",
              "505        198               1\n",
              "\n",
              "[506 rows x 2 columns]"
            ]
          },
          "metadata": {},
          "execution_count": 20
        }
      ]
    },
    {
      "cell_type": "markdown",
      "metadata": {
        "id": "4bk-aZW3iHmf"
      },
      "source": [
        "## Join the Columns"
      ]
    },
    {
      "cell_type": "code",
      "metadata": {
        "id": "PsNJe1OaiE7X"
      },
      "source": [
        "merger1 = message_posts.merge(notifs, on=\"member_id\", how=\"outer\")"
      ],
      "execution_count": null,
      "outputs": []
    },
    {
      "cell_type": "code",
      "metadata": {
        "colab": {
          "base_uri": "https://localhost:8080/",
          "height": 415
        },
        "id": "TPnWsYF1i-0e",
        "outputId": "87afda2c-10ba-4489-d02b-657d363c7080"
      },
      "source": [
        "merger1"
      ],
      "execution_count": null,
      "outputs": [
        {
          "output_type": "execute_result",
          "data": {
            "text/html": [
              "<div>\n",
              "<style scoped>\n",
              "    .dataframe tbody tr th:only-of-type {\n",
              "        vertical-align: middle;\n",
              "    }\n",
              "\n",
              "    .dataframe tbody tr th {\n",
              "        vertical-align: top;\n",
              "    }\n",
              "\n",
              "    .dataframe thead th {\n",
              "        text-align: right;\n",
              "    }\n",
              "</style>\n",
              "<table border=\"1\" class=\"dataframe\">\n",
              "  <thead>\n",
              "    <tr style=\"text-align: right;\">\n",
              "      <th></th>\n",
              "      <th>member_id</th>\n",
              "      <th>#message_posts</th>\n",
              "      <th>#notifs</th>\n",
              "    </tr>\n",
              "  </thead>\n",
              "  <tbody>\n",
              "    <tr>\n",
              "      <th>0</th>\n",
              "      <td>7424</td>\n",
              "      <td>542.0</td>\n",
              "      <td>1157.0</td>\n",
              "    </tr>\n",
              "    <tr>\n",
              "      <th>1</th>\n",
              "      <td>2209</td>\n",
              "      <td>487.0</td>\n",
              "      <td>NaN</td>\n",
              "    </tr>\n",
              "    <tr>\n",
              "      <th>2</th>\n",
              "      <td>7816</td>\n",
              "      <td>413.0</td>\n",
              "      <td>NaN</td>\n",
              "    </tr>\n",
              "    <tr>\n",
              "      <th>3</th>\n",
              "      <td>1</td>\n",
              "      <td>401.0</td>\n",
              "      <td>1135.0</td>\n",
              "    </tr>\n",
              "    <tr>\n",
              "      <th>4</th>\n",
              "      <td>0</td>\n",
              "      <td>327.0</td>\n",
              "      <td>NaN</td>\n",
              "    </tr>\n",
              "    <tr>\n",
              "      <th>...</th>\n",
              "      <td>...</td>\n",
              "      <td>...</td>\n",
              "      <td>...</td>\n",
              "    </tr>\n",
              "    <tr>\n",
              "      <th>554</th>\n",
              "      <td>7866</td>\n",
              "      <td>NaN</td>\n",
              "      <td>1.0</td>\n",
              "    </tr>\n",
              "    <tr>\n",
              "      <th>555</th>\n",
              "      <td>9532</td>\n",
              "      <td>NaN</td>\n",
              "      <td>1.0</td>\n",
              "    </tr>\n",
              "    <tr>\n",
              "      <th>556</th>\n",
              "      <td>25</td>\n",
              "      <td>NaN</td>\n",
              "      <td>1.0</td>\n",
              "    </tr>\n",
              "    <tr>\n",
              "      <th>557</th>\n",
              "      <td>9869</td>\n",
              "      <td>NaN</td>\n",
              "      <td>1.0</td>\n",
              "    </tr>\n",
              "    <tr>\n",
              "      <th>558</th>\n",
              "      <td>9256</td>\n",
              "      <td>NaN</td>\n",
              "      <td>1.0</td>\n",
              "    </tr>\n",
              "  </tbody>\n",
              "</table>\n",
              "<p>559 rows × 3 columns</p>\n",
              "</div>"
            ],
            "text/plain": [
              "     member_id  #message_posts  #notifs\n",
              "0         7424           542.0   1157.0\n",
              "1         2209           487.0      NaN\n",
              "2         7816           413.0      NaN\n",
              "3            1           401.0   1135.0\n",
              "4            0           327.0      NaN\n",
              "..         ...             ...      ...\n",
              "554       7866             NaN      1.0\n",
              "555       9532             NaN      1.0\n",
              "556         25             NaN      1.0\n",
              "557       9869             NaN      1.0\n",
              "558       9256             NaN      1.0\n",
              "\n",
              "[559 rows x 3 columns]"
            ]
          },
          "metadata": {},
          "execution_count": 22
        }
      ]
    },
    {
      "cell_type": "code",
      "metadata": {
        "colab": {
          "base_uri": "https://localhost:8080/"
        },
        "id": "exblu4SyjUol",
        "outputId": "e12b0d66-4b11-4e14-b561-707a8cfda71f"
      },
      "source": [
        "posts.shape"
      ],
      "execution_count": null,
      "outputs": [
        {
          "output_type": "execute_result",
          "data": {
            "text/plain": [
              "(734, 2)"
            ]
          },
          "metadata": {},
          "execution_count": 23
        }
      ]
    },
    {
      "cell_type": "code",
      "metadata": {
        "colab": {
          "base_uri": "https://localhost:8080/"
        },
        "id": "8ovREi3HjWnl",
        "outputId": "5f913d40-2bb3-4bc7-abc9-803ddc44253b"
      },
      "source": [
        "merger1.shape"
      ],
      "execution_count": null,
      "outputs": [
        {
          "output_type": "execute_result",
          "data": {
            "text/plain": [
              "(559, 3)"
            ]
          },
          "metadata": {},
          "execution_count": 24
        }
      ]
    },
    {
      "cell_type": "code",
      "metadata": {
        "id": "vC97mJ2XjMrP"
      },
      "source": [
        "merger2 = merger1.merge(posts, on=\"member_id\", how=\"outer\")"
      ],
      "execution_count": null,
      "outputs": []
    },
    {
      "cell_type": "code",
      "metadata": {
        "colab": {
          "base_uri": "https://localhost:8080/",
          "height": 415
        },
        "id": "J6K0pZTXjTJe",
        "outputId": "72d63b64-65f2-49f5-fc1d-730581167fe6"
      },
      "source": [
        "merger2"
      ],
      "execution_count": null,
      "outputs": [
        {
          "output_type": "execute_result",
          "data": {
            "text/html": [
              "<div>\n",
              "<style scoped>\n",
              "    .dataframe tbody tr th:only-of-type {\n",
              "        vertical-align: middle;\n",
              "    }\n",
              "\n",
              "    .dataframe tbody tr th {\n",
              "        vertical-align: top;\n",
              "    }\n",
              "\n",
              "    .dataframe thead th {\n",
              "        text-align: right;\n",
              "    }\n",
              "</style>\n",
              "<table border=\"1\" class=\"dataframe\">\n",
              "  <thead>\n",
              "    <tr style=\"text-align: right;\">\n",
              "      <th></th>\n",
              "      <th>member_id</th>\n",
              "      <th>#message_posts</th>\n",
              "      <th>#notifs</th>\n",
              "      <th>#posts</th>\n",
              "    </tr>\n",
              "  </thead>\n",
              "  <tbody>\n",
              "    <tr>\n",
              "      <th>0</th>\n",
              "      <td>7424</td>\n",
              "      <td>542.0</td>\n",
              "      <td>1157.0</td>\n",
              "      <td>1005.0</td>\n",
              "    </tr>\n",
              "    <tr>\n",
              "      <th>1</th>\n",
              "      <td>2209</td>\n",
              "      <td>487.0</td>\n",
              "      <td>NaN</td>\n",
              "      <td>83.0</td>\n",
              "    </tr>\n",
              "    <tr>\n",
              "      <th>2</th>\n",
              "      <td>7816</td>\n",
              "      <td>413.0</td>\n",
              "      <td>NaN</td>\n",
              "      <td>946.0</td>\n",
              "    </tr>\n",
              "    <tr>\n",
              "      <th>3</th>\n",
              "      <td>1</td>\n",
              "      <td>401.0</td>\n",
              "      <td>1135.0</td>\n",
              "      <td>5584.0</td>\n",
              "    </tr>\n",
              "    <tr>\n",
              "      <th>4</th>\n",
              "      <td>0</td>\n",
              "      <td>327.0</td>\n",
              "      <td>NaN</td>\n",
              "      <td>2768.0</td>\n",
              "    </tr>\n",
              "    <tr>\n",
              "      <th>...</th>\n",
              "      <td>...</td>\n",
              "      <td>...</td>\n",
              "      <td>...</td>\n",
              "      <td>...</td>\n",
              "    </tr>\n",
              "    <tr>\n",
              "      <th>731</th>\n",
              "      <td>252</td>\n",
              "      <td>NaN</td>\n",
              "      <td>NaN</td>\n",
              "      <td>1.0</td>\n",
              "    </tr>\n",
              "    <tr>\n",
              "      <th>732</th>\n",
              "      <td>493</td>\n",
              "      <td>NaN</td>\n",
              "      <td>NaN</td>\n",
              "      <td>1.0</td>\n",
              "    </tr>\n",
              "    <tr>\n",
              "      <th>733</th>\n",
              "      <td>6139</td>\n",
              "      <td>NaN</td>\n",
              "      <td>NaN</td>\n",
              "      <td>1.0</td>\n",
              "    </tr>\n",
              "    <tr>\n",
              "      <th>734</th>\n",
              "      <td>6304</td>\n",
              "      <td>NaN</td>\n",
              "      <td>NaN</td>\n",
              "      <td>1.0</td>\n",
              "    </tr>\n",
              "    <tr>\n",
              "      <th>735</th>\n",
              "      <td>6307</td>\n",
              "      <td>NaN</td>\n",
              "      <td>NaN</td>\n",
              "      <td>1.0</td>\n",
              "    </tr>\n",
              "  </tbody>\n",
              "</table>\n",
              "<p>736 rows × 4 columns</p>\n",
              "</div>"
            ],
            "text/plain": [
              "     member_id  #message_posts  #notifs  #posts\n",
              "0         7424           542.0   1157.0  1005.0\n",
              "1         2209           487.0      NaN    83.0\n",
              "2         7816           413.0      NaN   946.0\n",
              "3            1           401.0   1135.0  5584.0\n",
              "4            0           327.0      NaN  2768.0\n",
              "..         ...             ...      ...     ...\n",
              "731        252             NaN      NaN     1.0\n",
              "732        493             NaN      NaN     1.0\n",
              "733       6139             NaN      NaN     1.0\n",
              "734       6304             NaN      NaN     1.0\n",
              "735       6307             NaN      NaN     1.0\n",
              "\n",
              "[736 rows x 4 columns]"
            ]
          },
          "metadata": {},
          "execution_count": 26
        }
      ]
    },
    {
      "cell_type": "code",
      "metadata": {
        "colab": {
          "base_uri": "https://localhost:8080/"
        },
        "id": "JjrBm6eAjaBt",
        "outputId": "196f9fc6-31ed-4fa2-a546-264c6bb95f9b"
      },
      "source": [
        "merger2.shape"
      ],
      "execution_count": null,
      "outputs": [
        {
          "output_type": "execute_result",
          "data": {
            "text/plain": [
              "(736, 4)"
            ]
          },
          "metadata": {},
          "execution_count": 27
        }
      ]
    },
    {
      "cell_type": "code",
      "metadata": {
        "id": "M36J8u06jprV"
      },
      "source": [
        "# merger2.replace(to_replace=np.nan, value=0)"
      ],
      "execution_count": null,
      "outputs": []
    },
    {
      "cell_type": "markdown",
      "metadata": {
        "id": "jmx0Eeqaj6PA"
      },
      "source": [
        "# Merge with orig_members"
      ]
    },
    {
      "cell_type": "code",
      "metadata": {
        "id": "cE-wamE_jwGA"
      },
      "source": [
        "orig_members = pd.read_csv(\"/content/drive/MyDrive/text gcn/Hackforum data/CSV Data IronMarch/data_csv/orig_members.csv\")"
      ],
      "execution_count": null,
      "outputs": []
    },
    {
      "cell_type": "code",
      "metadata": {
        "colab": {
          "base_uri": "https://localhost:8080/"
        },
        "id": "ha5-50vckG1U",
        "outputId": "49046552-6b39-4e33-da89-25d65e94f82b"
      },
      "source": [
        "orig_members.info()"
      ],
      "execution_count": null,
      "outputs": [
        {
          "output_type": "stream",
          "name": "stdout",
          "text": [
            "<class 'pandas.core.frame.DataFrame'>\n",
            "RangeIndex: 763 entries, 0 to 762\n",
            "Data columns (total 75 columns):\n",
            " #   Column                     Non-Null Count  Dtype  \n",
            "---  ------                     --------------  -----  \n",
            " 0   Unnamed: 0                 763 non-null    int64  \n",
            " 1   member_id                  763 non-null    int64  \n",
            " 2   name                       763 non-null    object \n",
            " 3   member_group_id            763 non-null    int64  \n",
            " 4   email                      763 non-null    object \n",
            " 5   joined                     763 non-null    int64  \n",
            " 6   ip_address                 763 non-null    object \n",
            " 7   posts                      763 non-null    int64  \n",
            " 8   title                      98 non-null     object \n",
            " 9   allow_admin_mails          763 non-null    int64  \n",
            " 10  time_offset                755 non-null    float64\n",
            " 11  skin                       271 non-null    float64\n",
            " 12  warn_level                 212 non-null    float64\n",
            " 13  warn_lastwarn              763 non-null    int64  \n",
            " 14  language                   763 non-null    int64  \n",
            " 15  last_post                  741 non-null    float64\n",
            " 16  restrict_post              596 non-null    float64\n",
            " 17  view_sigs                  763 non-null    int64  \n",
            " 18  view_img                   763 non-null    int64  \n",
            " 19  bday_day                   763 non-null    int64  \n",
            " 20  bday_month                 763 non-null    int64  \n",
            " 21  bday_year                  763 non-null    int64  \n",
            " 22  msg_count_new              763 non-null    int64  \n",
            " 23  msg_count_total            763 non-null    int64  \n",
            " 24  msg_count_reset            763 non-null    int64  \n",
            " 25  msg_show_notification      763 non-null    int64  \n",
            " 26  misc                       0 non-null      float64\n",
            " 27  last_visit                 763 non-null    int64  \n",
            " 28  last_activity              763 non-null    int64  \n",
            " 29  dst_in_use                 763 non-null    int64  \n",
            " 30  coppa_user                 763 non-null    int64  \n",
            " 31  mod_posts                  589 non-null    float64\n",
            " 32  auto_track                 520 non-null    object \n",
            " 33  temp_ban                   723 non-null    float64\n",
            " 34  login_anonymous            763 non-null    object \n",
            " 35  ignored_users              759 non-null    object \n",
            " 36  mgroup_others              17 non-null     object \n",
            " 37  org_perm_id                2 non-null      object \n",
            " 38  member_login_key           763 non-null    object \n",
            " 39  member_login_key_expire    763 non-null    int64  \n",
            " 40  has_blog                   0 non-null      float64\n",
            " 41  has_gallery                763 non-null    int64  \n",
            " 42  members_auto_dst           763 non-null    int64  \n",
            " 43  members_display_name       763 non-null    object \n",
            " 44  members_seo_name           763 non-null    object \n",
            " 45  members_created_remote     763 non-null    int64  \n",
            " 46  members_cache              723 non-null    object \n",
            " 47  members_disable_pm         763 non-null    int64  \n",
            " 48  members_l_display_name     763 non-null    object \n",
            " 49  members_l_username         763 non-null    object \n",
            " 50  failed_logins              1 non-null      object \n",
            " 51  failed_login_count         763 non-null    int64  \n",
            " 52  members_profile_views      763 non-null    int64  \n",
            " 53  members_pass_hash          763 non-null    object \n",
            " 54  members_pass_salt          763 non-null    object \n",
            " 55  member_banned              763 non-null    int64  \n",
            " 56  member_uploader            763 non-null    object \n",
            " 57  members_bitoptions         763 non-null    int64  \n",
            " 58  fb_uid                     763 non-null    int64  \n",
            " 59  fb_emailhash               0 non-null      float64\n",
            " 60  fb_lastsync                763 non-null    int64  \n",
            " 61  members_day_posts          763 non-null    object \n",
            " 62  live_id                    0 non-null      float64\n",
            " 63  twitter_id                 0 non-null      float64\n",
            " 64  twitter_token              0 non-null      float64\n",
            " 65  twitter_secret             0 non-null      float64\n",
            " 66  notification_cnt           763 non-null    int64  \n",
            " 67  tc_lastsync                763 non-null    int64  \n",
            " 68  fb_session                 0 non-null      float64\n",
            " 69  fb_token                   0 non-null      float64\n",
            " 70  ips_mobile_token           0 non-null      float64\n",
            " 71  unacknowledged_warnings    0 non-null      float64\n",
            " 72  blogs_recache              0 non-null      float64\n",
            " 73  ipsconnect_id              763 non-null    int64  \n",
            " 74  ipsconnect_revalidate_url  0 non-null      float64\n",
            "dtypes: float64(20), int64(35), object(20)\n",
            "memory usage: 447.2+ KB\n"
          ]
        }
      ]
    },
    {
      "cell_type": "code",
      "metadata": {
        "id": "WSz5WY90kL6H"
      },
      "source": [
        "orig_members.drop(orig_members.columns[[0, 2, 3, 4, 5, 6, 8, 9, 10, 11, 12, 13, 14, 15, 16, 17, 18, 19, 20, 21, 22, 23, 24, 25, 26, 27, 28, 29, 30, 31, 32, 33, 34, 35, 36, 37, 38, 39, 40, 41, 42, 43, 44, 45, 46, 47, 48, 49, 50, 51, 53, 54, 55, 56, 57, 58, 59, 60, 61, 62, 63, 64, 64, 65, 66, 67, 68, 69, 70, 71, 72, 73, 74]], axis =1, inplace=True)"
      ],
      "execution_count": null,
      "outputs": []
    },
    {
      "cell_type": "code",
      "metadata": {
        "colab": {
          "base_uri": "https://localhost:8080/"
        },
        "id": "ah14gCsgkdSk",
        "outputId": "581cf9a4-d393-4604-8444-310ab9637013"
      },
      "source": [
        "orig_members.info()"
      ],
      "execution_count": null,
      "outputs": [
        {
          "output_type": "stream",
          "name": "stdout",
          "text": [
            "<class 'pandas.core.frame.DataFrame'>\n",
            "RangeIndex: 763 entries, 0 to 762\n",
            "Data columns (total 3 columns):\n",
            " #   Column                 Non-Null Count  Dtype\n",
            "---  ------                 --------------  -----\n",
            " 0   member_id              763 non-null    int64\n",
            " 1   posts                  763 non-null    int64\n",
            " 2   members_profile_views  763 non-null    int64\n",
            "dtypes: int64(3)\n",
            "memory usage: 18.0 KB\n"
          ]
        }
      ]
    },
    {
      "cell_type": "code",
      "metadata": {
        "id": "fIBle2MnkgBt"
      },
      "source": [
        "db = orig_members.merge(merger2, on=\"member_id\", how=\"left\")"
      ],
      "execution_count": null,
      "outputs": []
    },
    {
      "cell_type": "code",
      "metadata": {
        "colab": {
          "base_uri": "https://localhost:8080/",
          "height": 415
        },
        "id": "f7XxFD-Bk5yl",
        "outputId": "1a10a07b-f279-444a-cb97-41bfe4d638fe"
      },
      "source": [
        "db"
      ],
      "execution_count": null,
      "outputs": [
        {
          "output_type": "execute_result",
          "data": {
            "text/html": [
              "<div>\n",
              "<style scoped>\n",
              "    .dataframe tbody tr th:only-of-type {\n",
              "        vertical-align: middle;\n",
              "    }\n",
              "\n",
              "    .dataframe tbody tr th {\n",
              "        vertical-align: top;\n",
              "    }\n",
              "\n",
              "    .dataframe thead th {\n",
              "        text-align: right;\n",
              "    }\n",
              "</style>\n",
              "<table border=\"1\" class=\"dataframe\">\n",
              "  <thead>\n",
              "    <tr style=\"text-align: right;\">\n",
              "      <th></th>\n",
              "      <th>member_id</th>\n",
              "      <th>posts</th>\n",
              "      <th>members_profile_views</th>\n",
              "      <th>#message_posts</th>\n",
              "      <th>#notifs</th>\n",
              "      <th>#posts</th>\n",
              "    </tr>\n",
              "  </thead>\n",
              "  <tbody>\n",
              "    <tr>\n",
              "      <th>0</th>\n",
              "      <td>1</td>\n",
              "      <td>5613</td>\n",
              "      <td>109177</td>\n",
              "      <td>401.0</td>\n",
              "      <td>1135.0</td>\n",
              "      <td>5584.0</td>\n",
              "    </tr>\n",
              "    <tr>\n",
              "      <th>1</th>\n",
              "      <td>2</td>\n",
              "      <td>1267</td>\n",
              "      <td>11420</td>\n",
              "      <td>80.0</td>\n",
              "      <td>1.0</td>\n",
              "      <td>1270.0</td>\n",
              "    </tr>\n",
              "    <tr>\n",
              "      <th>2</th>\n",
              "      <td>3</td>\n",
              "      <td>487</td>\n",
              "      <td>4467</td>\n",
              "      <td>49.0</td>\n",
              "      <td>3.0</td>\n",
              "      <td>484.0</td>\n",
              "    </tr>\n",
              "    <tr>\n",
              "      <th>3</th>\n",
              "      <td>4</td>\n",
              "      <td>1704</td>\n",
              "      <td>7483</td>\n",
              "      <td>76.0</td>\n",
              "      <td>17.0</td>\n",
              "      <td>1703.0</td>\n",
              "    </tr>\n",
              "    <tr>\n",
              "      <th>4</th>\n",
              "      <td>5</td>\n",
              "      <td>463</td>\n",
              "      <td>1318</td>\n",
              "      <td>1.0</td>\n",
              "      <td>NaN</td>\n",
              "      <td>459.0</td>\n",
              "    </tr>\n",
              "    <tr>\n",
              "      <th>...</th>\n",
              "      <td>...</td>\n",
              "      <td>...</td>\n",
              "      <td>...</td>\n",
              "      <td>...</td>\n",
              "      <td>...</td>\n",
              "      <td>...</td>\n",
              "    </tr>\n",
              "    <tr>\n",
              "      <th>758</th>\n",
              "      <td>9956</td>\n",
              "      <td>0</td>\n",
              "      <td>16</td>\n",
              "      <td>NaN</td>\n",
              "      <td>NaN</td>\n",
              "      <td>NaN</td>\n",
              "    </tr>\n",
              "    <tr>\n",
              "      <th>759</th>\n",
              "      <td>9957</td>\n",
              "      <td>0</td>\n",
              "      <td>11</td>\n",
              "      <td>NaN</td>\n",
              "      <td>NaN</td>\n",
              "      <td>NaN</td>\n",
              "    </tr>\n",
              "    <tr>\n",
              "      <th>760</th>\n",
              "      <td>9959</td>\n",
              "      <td>0</td>\n",
              "      <td>2</td>\n",
              "      <td>NaN</td>\n",
              "      <td>NaN</td>\n",
              "      <td>NaN</td>\n",
              "    </tr>\n",
              "    <tr>\n",
              "      <th>761</th>\n",
              "      <td>9958</td>\n",
              "      <td>0</td>\n",
              "      <td>36</td>\n",
              "      <td>NaN</td>\n",
              "      <td>NaN</td>\n",
              "      <td>NaN</td>\n",
              "    </tr>\n",
              "    <tr>\n",
              "      <th>762</th>\n",
              "      <td>9960</td>\n",
              "      <td>0</td>\n",
              "      <td>7</td>\n",
              "      <td>NaN</td>\n",
              "      <td>NaN</td>\n",
              "      <td>NaN</td>\n",
              "    </tr>\n",
              "  </tbody>\n",
              "</table>\n",
              "<p>763 rows × 6 columns</p>\n",
              "</div>"
            ],
            "text/plain": [
              "     member_id  posts  members_profile_views  #message_posts  #notifs  #posts\n",
              "0            1   5613                 109177           401.0   1135.0  5584.0\n",
              "1            2   1267                  11420            80.0      1.0  1270.0\n",
              "2            3    487                   4467            49.0      3.0   484.0\n",
              "3            4   1704                   7483            76.0     17.0  1703.0\n",
              "4            5    463                   1318             1.0      NaN   459.0\n",
              "..         ...    ...                    ...             ...      ...     ...\n",
              "758       9956      0                     16             NaN      NaN     NaN\n",
              "759       9957      0                     11             NaN      NaN     NaN\n",
              "760       9959      0                      2             NaN      NaN     NaN\n",
              "761       9958      0                     36             NaN      NaN     NaN\n",
              "762       9960      0                      7             NaN      NaN     NaN\n",
              "\n",
              "[763 rows x 6 columns]"
            ]
          },
          "metadata": {},
          "execution_count": 34
        }
      ]
    },
    {
      "cell_type": "code",
      "metadata": {
        "id": "MLtTgblgjD9C"
      },
      "source": [
        "db = db.replace(to_replace=np.nan, value=0)"
      ],
      "execution_count": null,
      "outputs": []
    },
    {
      "cell_type": "code",
      "metadata": {
        "id": "grvPhsmmYSu8"
      },
      "source": [
        "db[\"total_content\"] = db[\"#message_posts\"]+\tdb[\"#notifs\"]+\tdb[\"#posts\"]"
      ],
      "execution_count": null,
      "outputs": []
    },
    {
      "cell_type": "code",
      "metadata": {
        "colab": {
          "base_uri": "https://localhost:8080/",
          "height": 296
        },
        "id": "0awpi7tTYd2Q",
        "outputId": "457a35a8-4626-46c9-d1cf-faf5d2f70833"
      },
      "source": [
        "plt.hist(db[\"total_content\"])\n",
        "plt.xlabel(\"Posts + Inline Notifs + Msg Posts\")\n",
        "plt.ylabel(\"Count of People\")"
      ],
      "execution_count": null,
      "outputs": [
        {
          "output_type": "execute_result",
          "data": {
            "text/plain": [
              "Text(0, 0.5, 'Count of People')"
            ]
          },
          "metadata": {},
          "execution_count": 37
        },
        {
          "output_type": "display_data",
          "data": {
            "image/png": "[encoded data removed]",
            "text/plain": [
              "<Figure size 432x288 with 1 Axes>"
            ]
          },
          "metadata": {
            "needs_background": "light"
          }
        }
      ]
    },
    {
      "cell_type": "code",
      "metadata": {
        "colab": {
          "base_uri": "https://localhost:8080/",
          "height": 296
        },
        "id": "u5uHKexsYqyG",
        "outputId": "afc2fa22-94d0-4a9e-c1c1-978890e4dba2"
      },
      "source": [
        "plt.hist(np.log(db[\"total_content\"].replace(to_replace=0, value=np.nan)))\n",
        "plt.xlabel(\"log(Posts + Inline Notifs + Msg Posts)\")\n",
        "plt.ylabel(\"Count of People\")"
      ],
      "execution_count": null,
      "outputs": [
        {
          "output_type": "execute_result",
          "data": {
            "text/plain": [
              "Text(0, 0.5, 'Count of People')"
            ]
          },
          "metadata": {},
          "execution_count": 38
        },
        {
          "output_type": "display_data",
          "data": {
            "image/png": "[encoded data removed]",
            "text/plain": [
              "<Figure size 432x288 with 1 Axes>"
            ]
          },
          "metadata": {
            "needs_background": "light"
          }
        }
      ]
    },
    {
      "cell_type": "code",
      "metadata": {
        "colab": {
          "base_uri": "https://localhost:8080/",
          "height": 296
        },
        "id": "Ix0L8dybYyeJ",
        "outputId": "733e5dc4-b894-41b0-95d3-903044ca5660"
      },
      "source": [
        "db[\"activity\"] = 1+np.log(db[\"total_content\"].replace(to_replace=0, value=np.nan))\n",
        "plt.hist(db[\"activity\"])\n",
        "plt.xlabel(\"Activity\")\n",
        "plt.ylabel(\"Count of People\")"
      ],
      "execution_count": null,
      "outputs": [
        {
          "output_type": "execute_result",
          "data": {
            "text/plain": [
              "Text(0, 0.5, 'Count of People')"
            ]
          },
          "metadata": {},
          "execution_count": 39
        },
        {
          "output_type": "display_data",
          "data": {
            "image/png": "[encoded data removed]",
            "text/plain": [
              "<Figure size 432x288 with 1 Axes>"
            ]
          },
          "metadata": {
            "needs_background": "light"
          }
        }
      ]
    },
    {
      "cell_type": "code",
      "metadata": {
        "id": "sOGX0xV5ZDwj"
      },
      "source": [
        "db[\"n_activity\"] = (db['activity']-min(db['activity']))/(max(db['activity'])-min(db['activity']))"
      ],
      "execution_count": null,
      "outputs": []
    },
    {
      "cell_type": "code",
      "metadata": {
        "colab": {
          "base_uri": "https://localhost:8080/",
          "height": 296
        },
        "id": "o1mOvBWHZqCh",
        "outputId": "b6649b93-34cb-43d3-d41c-639b6df41d04"
      },
      "source": [
        "plt.hist(db[\"n_activity\"])\n",
        "plt.xlabel(\"Normalised Activity\")\n",
        "plt.ylabel(\"Count of People\")"
      ],
      "execution_count": null,
      "outputs": [
        {
          "output_type": "execute_result",
          "data": {
            "text/plain": [
              "Text(0, 0.5, 'Count of People')"
            ]
          },
          "metadata": {},
          "execution_count": 41
        },
        {
          "output_type": "display_data",
          "data": {
            "image/png": "[encoded data removed]",
            "text/plain": [
              "<Figure size 432x288 with 1 Axes>"
            ]
          },
          "metadata": {
            "needs_background": "light"
          }
        }
      ]
    },
    {
      "cell_type": "code",
      "metadata": {
        "id": "0WCg0kPEmcf_"
      },
      "source": [
        "db = db.replace(to_replace=np.nan, value=0)"
      ],
      "execution_count": null,
      "outputs": []
    },
    {
      "cell_type": "code",
      "metadata": {
        "id": "lo2ZaY2-ZzxO"
      },
      "source": [
        "db.to_csv(\"/content/drive/MyDrive/text gcn/created_csv/ironmarch/orig_score_activity.csv\")"
      ],
      "execution_count": null,
      "outputs": []
    },
    {
      "cell_type": "markdown",
      "metadata": {
        "id": "KZ51i7HdZ3x9"
      },
      "source": [
        "# Rough"
      ]
    },
    {
      "cell_type": "code",
      "metadata": {
        "colab": {
          "base_uri": "https://localhost:8080/",
          "height": 352
        },
        "id": "YFlpxlGFk_M1",
        "outputId": "f39f9d65-fc91-4474-f526-35c03534f785"
      },
      "source": [
        "plt.hist(db[\"#notifs\"])"
      ],
      "execution_count": null,
      "outputs": [
        {
          "output_type": "execute_result",
          "data": {
            "text/plain": [
              "(array([179.,  17.,   8.,   5.,   7.,   4.,   1.,   1.,   2.,   2.]),\n",
              " array([1.0000e+00, 2.3860e+02, 4.7620e+02, 7.1380e+02, 9.5140e+02,\n",
              "        1.1890e+03, 1.4266e+03, 1.6642e+03, 1.9018e+03, 2.1394e+03,\n",
              "        2.3770e+03]),\n",
              " <a list of 10 Patch objects>)"
            ]
          },
          "metadata": {},
          "execution_count": 29
        },
        {
          "output_type": "display_data",
          "data": {
            "image/png": "[encoded data removed]",
            "text/plain": [
              "<Figure size 432x288 with 1 Axes>"
            ]
          },
          "metadata": {
            "needs_background": "light"
          }
        }
      ]
    },
    {
      "cell_type": "markdown",
      "metadata": {
        "id": "2TnjRLmDmxV-"
      },
      "source": [
        "### Log of Each Column"
      ]
    },
    {
      "cell_type": "code",
      "metadata": {
        "colab": {
          "base_uri": "https://localhost:8080/",
          "height": 352
        },
        "id": "EXOEC9D4lGzF",
        "outputId": "969ad281-8128-469a-de0c-05ddf6b59f55"
      },
      "source": [
        "plt.hist(np.log(db[\"#notifs\"]))"
      ],
      "execution_count": null,
      "outputs": [
        {
          "output_type": "execute_result",
          "data": {
            "text/plain": [
              "(array([23., 16., 32., 31., 30., 24., 22., 18., 17., 13.]),\n",
              " array([0.        , 0.77735945, 1.55471889, 2.33207834, 3.10943779,\n",
              "        3.88679723, 4.66415668, 5.44151613, 6.21887557, 6.99623502,\n",
              "        7.77359447]),\n",
              " <a list of 10 Patch objects>)"
            ]
          },
          "metadata": {},
          "execution_count": 30
        },
        {
          "output_type": "display_data",
          "data": {
            "image/png": "[encoded data removed]",
            "text/plain": [
              "<Figure size 432x288 with 1 Axes>"
            ]
          },
          "metadata": {
            "needs_background": "light"
          }
        }
      ]
    },
    {
      "cell_type": "code",
      "metadata": {
        "colab": {
          "base_uri": "https://localhost:8080/",
          "height": 355
        },
        "id": "92_cTYXmlhRY",
        "outputId": "ff375830-c99a-4b25-c61f-de3aea244ff9"
      },
      "source": [
        "plt.hist(np.log(db[\"#posts\"]))"
      ],
      "execution_count": null,
      "outputs": [
        {
          "output_type": "execute_result",
          "data": {
            "text/plain": [
              "(array([ 57.,  37.,  41., 115., 109.,  83.,  54.,  50.,  22.,   9.]),\n",
              " array([0.        , 0.80557925, 1.61115849, 2.41673774, 3.22231698,\n",
              "        4.02789623, 4.83347547, 5.63905472, 6.44463396, 7.25021321,\n",
              "        8.05579245]),\n",
              " <a list of 10 Patch objects>)"
            ]
          },
          "metadata": {},
          "execution_count": 31
        },
        {
          "output_type": "display_data",
          "data": {
            "image/png": "[encoded data removed]",
            "text/plain": [
              "<Figure size 432x288 with 1 Axes>"
            ]
          },
          "metadata": {
            "needs_background": "light"
          }
        }
      ]
    },
    {
      "cell_type": "code",
      "metadata": {
        "colab": {
          "base_uri": "https://localhost:8080/",
          "height": 352
        },
        "id": "j2xdvNSImgqa",
        "outputId": "0d27f456-f6b1-46ba-9e9e-ccbb81d498fe"
      },
      "source": [
        "plt.hist(np.log(db[\"#rc_comments\"]))"
      ],
      "execution_count": null,
      "outputs": [
        {
          "output_type": "execute_result",
          "data": {
            "text/plain": [
              "(array([4., 0., 0., 3., 0., 0., 0., 1., 0., 1.]),\n",
              " array([0.        , 0.19459101, 0.38918203, 0.58377304, 0.77836406,\n",
              "        0.97295507, 1.16754609, 1.3621371 , 1.55672812, 1.75131913,\n",
              "        1.94591015]),\n",
              " <a list of 10 Patch objects>)"
            ]
          },
          "metadata": {},
          "execution_count": 32
        },
        {
          "output_type": "display_data",
          "data": {
            "image/png": "[encoded data removed]",
            "text/plain": [
              "<Figure size 432x288 with 1 Axes>"
            ]
          },
          "metadata": {
            "needs_background": "light"
          }
        }
      ]
    },
    {
      "cell_type": "code",
      "metadata": {
        "colab": {
          "base_uri": "https://localhost:8080/",
          "height": 352
        },
        "id": "vw4xfcG0mnWp",
        "outputId": "9ec0faba-612a-4013-d565-443d4bfcbba2"
      },
      "source": [
        "plt.hist(np.log(db[\"#message_posts\"]))"
      ],
      "execution_count": null,
      "outputs": [
        {
          "output_type": "execute_result",
          "data": {
            "text/plain": [
              "(array([78., 93., 72., 73., 52., 58., 25., 20.,  7.,  4.]),\n",
              " array([0.        , 0.61696107, 1.23392215, 1.85088322, 2.46784429,\n",
              "        3.08480537, 3.70176644, 4.31872751, 4.93568859, 5.55264966,\n",
              "        6.16961073]),\n",
              " <a list of 10 Patch objects>)"
            ]
          },
          "metadata": {},
          "execution_count": 33
        },
        {
          "output_type": "display_data",
          "data": {
            "image/png": "[encoded data removed]",
            "text/plain": [
              "<Figure size 432x288 with 1 Axes>"
            ]
          },
          "metadata": {
            "needs_background": "light"
          }
        }
      ]
    },
    {
      "cell_type": "markdown",
      "metadata": {
        "id": "Cd3MTndom0Kv"
      },
      "source": [
        "### Normalise Each Column"
      ]
    },
    {
      "cell_type": "code",
      "metadata": {
        "colab": {
          "base_uri": "https://localhost:8080/",
          "height": 296
        },
        "id": "au3vXzM_mqlm",
        "outputId": "9def8c36-f51d-4da0-af2c-79fd41d5fb24"
      },
      "source": [
        "plt.hist((np.log(db[\"#message_posts\"])-np.min(np.log(db[\"#message_posts\"])))/(np.max(np.log(db[\"#message_posts\"]))-np.min(np.log(db[\"#message_posts\"]))))\n",
        "plt.xlabel(\"Log of Message Posts (Normalised)\")\n",
        "plt.ylabel(\"Count of People\")"
      ],
      "execution_count": null,
      "outputs": [
        {
          "output_type": "execute_result",
          "data": {
            "text/plain": [
              "Text(0, 0.5, 'Count of People')"
            ]
          },
          "metadata": {},
          "execution_count": 34
        },
        {
          "output_type": "display_data",
          "data": {
            "image/png": "[encoded data removed]",
            "text/plain": [
              "<Figure size 432x288 with 1 Axes>"
            ]
          },
          "metadata": {
            "needs_background": "light"
          }
        }
      ]
    },
    {
      "cell_type": "code",
      "metadata": {
        "colab": {
          "base_uri": "https://localhost:8080/",
          "height": 299
        },
        "id": "gSlgCbJPnXus",
        "outputId": "2ee0c48a-fdaa-4693-aa03-32206b97d692"
      },
      "source": [
        "plt.hist((np.log(db[\"#posts\"])-np.min(np.log(db[\"#posts\"])))/(np.max(np.log(db[\"#posts\"]))-np.min(np.log(db[\"#posts\"]))))\n",
        "plt.xlabel(\"Log of Posts (Normalised)\")\n",
        "plt.ylabel(\"Count of People\")"
      ],
      "execution_count": null,
      "outputs": [
        {
          "output_type": "execute_result",
          "data": {
            "text/plain": [
              "Text(0, 0.5, 'Count of People')"
            ]
          },
          "metadata": {},
          "execution_count": 35
        },
        {
          "output_type": "display_data",
          "data": {
            "image/png": "[encoded data removed]",
            "text/plain": [
              "<Figure size 432x288 with 1 Axes>"
            ]
          },
          "metadata": {
            "needs_background": "light"
          }
        }
      ]
    },
    {
      "cell_type": "code",
      "metadata": {
        "colab": {
          "base_uri": "https://localhost:8080/",
          "height": 296
        },
        "id": "B8gzQ4EAnf5T",
        "outputId": "9ae06bd3-88ca-4164-bdd0-9466cdcb6502"
      },
      "source": [
        "plt.hist((np.log(db[\"#notifs\"])-np.min(np.log(db[\"#notifs\"])))/(np.max(np.log(db[\"#notifs\"]))-np.min(np.log(db[\"#notifs\"]))))\n",
        "plt.xlabel(\"Log of Notifs (Normalised)\")\n",
        "plt.ylabel(\"Count of People\")"
      ],
      "execution_count": null,
      "outputs": [
        {
          "output_type": "execute_result",
          "data": {
            "text/plain": [
              "Text(0, 0.5, 'Count of People')"
            ]
          },
          "metadata": {},
          "execution_count": 36
        },
        {
          "output_type": "display_data",
          "data": {
            "image/png": "[encoded data removed]",
            "text/plain": [
              "<Figure size 432x288 with 1 Axes>"
            ]
          },
          "metadata": {
            "needs_background": "light"
          }
        }
      ]
    },
    {
      "cell_type": "code",
      "metadata": {
        "id": "WJw07XR8nnyj"
      },
      "source": [
        "db[\"f_#notifs\"] = (np.log(db[\"#notifs\"])-np.min(np.log(db[\"#notifs\"])))/(np.max(np.log(db[\"#notifs\"]))-np.min(np.log(db[\"#notifs\"])))"
      ],
      "execution_count": null,
      "outputs": []
    },
    {
      "cell_type": "code",
      "metadata": {
        "id": "qb1SJSxunvwx"
      },
      "source": [
        "db[\"f_#posts\"] = (np.log(db[\"#posts\"])-np.min(np.log(db[\"#posts\"])))/(np.max(np.log(db[\"#posts\"]))-np.min(np.log(db[\"#posts\"])))"
      ],
      "execution_count": null,
      "outputs": []
    },
    {
      "cell_type": "code",
      "metadata": {
        "id": "P5w_mj0mn9nl"
      },
      "source": [
        "db[\"f_#message_posts\"] = (np.log(db[\"#message_posts\"])-np.min(np.log(db[\"#message_posts\"])))/(np.max(np.log(db[\"#message_posts\"]))-np.min(np.log(db[\"#message_posts\"])))"
      ],
      "execution_count": null,
      "outputs": []
    },
    {
      "cell_type": "code",
      "metadata": {
        "colab": {
          "base_uri": "https://localhost:8080/",
          "height": 415
        },
        "id": "yR5-Lj2-oDIS",
        "outputId": "05814ffb-c747-41d2-b6d5-3f914caeea73"
      },
      "source": [
        "db"
      ],
      "execution_count": null,
      "outputs": [
        {
          "output_type": "execute_result",
          "data": {
            "text/html": [
              "<div>\n",
              "<style scoped>\n",
              "    .dataframe tbody tr th:only-of-type {\n",
              "        vertical-align: middle;\n",
              "    }\n",
              "\n",
              "    .dataframe tbody tr th {\n",
              "        vertical-align: top;\n",
              "    }\n",
              "\n",
              "    .dataframe thead th {\n",
              "        text-align: right;\n",
              "    }\n",
              "</style>\n",
              "<table border=\"1\" class=\"dataframe\">\n",
              "  <thead>\n",
              "    <tr style=\"text-align: right;\">\n",
              "      <th></th>\n",
              "      <th>member_id</th>\n",
              "      <th>posts</th>\n",
              "      <th>members_profile_views</th>\n",
              "      <th>#rc_comments</th>\n",
              "      <th>#notifs</th>\n",
              "      <th>#posts</th>\n",
              "      <th>#message_posts</th>\n",
              "      <th>f_#notifs</th>\n",
              "      <th>f_#posts</th>\n",
              "      <th>f_#message_posts</th>\n",
              "    </tr>\n",
              "  </thead>\n",
              "  <tbody>\n",
              "    <tr>\n",
              "      <th>0</th>\n",
              "      <td>1</td>\n",
              "      <td>5613</td>\n",
              "      <td>109177</td>\n",
              "      <td>7.0</td>\n",
              "      <td>1135.0</td>\n",
              "      <td>3152.0</td>\n",
              "      <td>381.0</td>\n",
              "      <td>0.904908</td>\n",
              "      <td>1.000000</td>\n",
              "      <td>0.963237</td>\n",
              "    </tr>\n",
              "    <tr>\n",
              "      <th>1</th>\n",
              "      <td>2</td>\n",
              "      <td>1267</td>\n",
              "      <td>11420</td>\n",
              "      <td>NaN</td>\n",
              "      <td>1.0</td>\n",
              "      <td>1125.0</td>\n",
              "      <td>75.0</td>\n",
              "      <td>0.000000</td>\n",
              "      <td>0.872110</td>\n",
              "      <td>0.699799</td>\n",
              "    </tr>\n",
              "    <tr>\n",
              "      <th>2</th>\n",
              "      <td>3</td>\n",
              "      <td>487</td>\n",
              "      <td>4467</td>\n",
              "      <td>NaN</td>\n",
              "      <td>3.0</td>\n",
              "      <td>412.0</td>\n",
              "      <td>35.0</td>\n",
              "      <td>0.141326</td>\n",
              "      <td>0.747415</td>\n",
              "      <td>0.576268</td>\n",
              "    </tr>\n",
              "    <tr>\n",
              "      <th>3</th>\n",
              "      <td>4</td>\n",
              "      <td>1704</td>\n",
              "      <td>7483</td>\n",
              "      <td>1.0</td>\n",
              "      <td>17.0</td>\n",
              "      <td>1401.0</td>\n",
              "      <td>66.0</td>\n",
              "      <td>0.364466</td>\n",
              "      <td>0.899346</td>\n",
              "      <td>0.679079</td>\n",
              "    </tr>\n",
              "    <tr>\n",
              "      <th>4</th>\n",
              "      <td>5</td>\n",
              "      <td>463</td>\n",
              "      <td>1318</td>\n",
              "      <td>NaN</td>\n",
              "      <td>NaN</td>\n",
              "      <td>457.0</td>\n",
              "      <td>1.0</td>\n",
              "      <td>NaN</td>\n",
              "      <td>0.760283</td>\n",
              "      <td>0.000000</td>\n",
              "    </tr>\n",
              "    <tr>\n",
              "      <th>...</th>\n",
              "      <td>...</td>\n",
              "      <td>...</td>\n",
              "      <td>...</td>\n",
              "      <td>...</td>\n",
              "      <td>...</td>\n",
              "      <td>...</td>\n",
              "      <td>...</td>\n",
              "      <td>...</td>\n",
              "      <td>...</td>\n",
              "      <td>...</td>\n",
              "    </tr>\n",
              "    <tr>\n",
              "      <th>758</th>\n",
              "      <td>9956</td>\n",
              "      <td>0</td>\n",
              "      <td>16</td>\n",
              "      <td>NaN</td>\n",
              "      <td>NaN</td>\n",
              "      <td>NaN</td>\n",
              "      <td>NaN</td>\n",
              "      <td>NaN</td>\n",
              "      <td>NaN</td>\n",
              "      <td>NaN</td>\n",
              "    </tr>\n",
              "    <tr>\n",
              "      <th>759</th>\n",
              "      <td>9957</td>\n",
              "      <td>0</td>\n",
              "      <td>11</td>\n",
              "      <td>NaN</td>\n",
              "      <td>NaN</td>\n",
              "      <td>NaN</td>\n",
              "      <td>NaN</td>\n",
              "      <td>NaN</td>\n",
              "      <td>NaN</td>\n",
              "      <td>NaN</td>\n",
              "    </tr>\n",
              "    <tr>\n",
              "      <th>760</th>\n",
              "      <td>9958</td>\n",
              "      <td>0</td>\n",
              "      <td>36</td>\n",
              "      <td>NaN</td>\n",
              "      <td>NaN</td>\n",
              "      <td>NaN</td>\n",
              "      <td>NaN</td>\n",
              "      <td>NaN</td>\n",
              "      <td>NaN</td>\n",
              "      <td>NaN</td>\n",
              "    </tr>\n",
              "    <tr>\n",
              "      <th>761</th>\n",
              "      <td>9959</td>\n",
              "      <td>0</td>\n",
              "      <td>2</td>\n",
              "      <td>NaN</td>\n",
              "      <td>NaN</td>\n",
              "      <td>NaN</td>\n",
              "      <td>NaN</td>\n",
              "      <td>NaN</td>\n",
              "      <td>NaN</td>\n",
              "      <td>NaN</td>\n",
              "    </tr>\n",
              "    <tr>\n",
              "      <th>762</th>\n",
              "      <td>9960</td>\n",
              "      <td>0</td>\n",
              "      <td>7</td>\n",
              "      <td>NaN</td>\n",
              "      <td>NaN</td>\n",
              "      <td>NaN</td>\n",
              "      <td>NaN</td>\n",
              "      <td>NaN</td>\n",
              "      <td>NaN</td>\n",
              "      <td>NaN</td>\n",
              "    </tr>\n",
              "  </tbody>\n",
              "</table>\n",
              "<p>763 rows × 10 columns</p>\n",
              "</div>"
            ],
            "text/plain": [
              "     member_id  posts  ...  f_#posts  f_#message_posts\n",
              "0            1   5613  ...  1.000000          0.963237\n",
              "1            2   1267  ...  0.872110          0.699799\n",
              "2            3    487  ...  0.747415          0.576268\n",
              "3            4   1704  ...  0.899346          0.679079\n",
              "4            5    463  ...  0.760283          0.000000\n",
              "..         ...    ...  ...       ...               ...\n",
              "758       9956      0  ...       NaN               NaN\n",
              "759       9957      0  ...       NaN               NaN\n",
              "760       9958      0  ...       NaN               NaN\n",
              "761       9959      0  ...       NaN               NaN\n",
              "762       9960      0  ...       NaN               NaN\n",
              "\n",
              "[763 rows x 10 columns]"
            ]
          },
          "metadata": {},
          "execution_count": 40
        }
      ]
    },
    {
      "cell_type": "code",
      "metadata": {
        "colab": {
          "base_uri": "https://localhost:8080/",
          "height": 435
        },
        "id": "Y5VIqyeioG0v",
        "outputId": "1b49ed29-8522-42d0-eedc-09200fda1e3a"
      },
      "source": [
        "db.replace(to_replace=np.nan, value=0)"
      ],
      "execution_count": null,
      "outputs": [
        {
          "output_type": "execute_result",
          "data": {
            "text/html": [
              "<div>\n",
              "<style scoped>\n",
              "    .dataframe tbody tr th:only-of-type {\n",
              "        vertical-align: middle;\n",
              "    }\n",
              "\n",
              "    .dataframe tbody tr th {\n",
              "        vertical-align: top;\n",
              "    }\n",
              "\n",
              "    .dataframe thead th {\n",
              "        text-align: right;\n",
              "    }\n",
              "</style>\n",
              "<table border=\"1\" class=\"dataframe\">\n",
              "  <thead>\n",
              "    <tr style=\"text-align: right;\">\n",
              "      <th></th>\n",
              "      <th>member_id</th>\n",
              "      <th>posts</th>\n",
              "      <th>members_profile_views</th>\n",
              "      <th>#rc_comments</th>\n",
              "      <th>#notifs</th>\n",
              "      <th>#posts</th>\n",
              "      <th>#message_posts</th>\n",
              "      <th>f_#notifs</th>\n",
              "      <th>f_#posts</th>\n",
              "      <th>f_#message_posts</th>\n",
              "    </tr>\n",
              "  </thead>\n",
              "  <tbody>\n",
              "    <tr>\n",
              "      <th>0</th>\n",
              "      <td>1</td>\n",
              "      <td>5613</td>\n",
              "      <td>109177</td>\n",
              "      <td>7.0</td>\n",
              "      <td>1135.0</td>\n",
              "      <td>3152.0</td>\n",
              "      <td>381.0</td>\n",
              "      <td>0.904908</td>\n",
              "      <td>1.000000</td>\n",
              "      <td>0.963237</td>\n",
              "    </tr>\n",
              "    <tr>\n",
              "      <th>1</th>\n",
              "      <td>2</td>\n",
              "      <td>1267</td>\n",
              "      <td>11420</td>\n",
              "      <td>0.0</td>\n",
              "      <td>1.0</td>\n",
              "      <td>1125.0</td>\n",
              "      <td>75.0</td>\n",
              "      <td>0.000000</td>\n",
              "      <td>0.872110</td>\n",
              "      <td>0.699799</td>\n",
              "    </tr>\n",
              "    <tr>\n",
              "      <th>2</th>\n",
              "      <td>3</td>\n",
              "      <td>487</td>\n",
              "      <td>4467</td>\n",
              "      <td>0.0</td>\n",
              "      <td>3.0</td>\n",
              "      <td>412.0</td>\n",
              "      <td>35.0</td>\n",
              "      <td>0.141326</td>\n",
              "      <td>0.747415</td>\n",
              "      <td>0.576268</td>\n",
              "    </tr>\n",
              "    <tr>\n",
              "      <th>3</th>\n",
              "      <td>4</td>\n",
              "      <td>1704</td>\n",
              "      <td>7483</td>\n",
              "      <td>1.0</td>\n",
              "      <td>17.0</td>\n",
              "      <td>1401.0</td>\n",
              "      <td>66.0</td>\n",
              "      <td>0.364466</td>\n",
              "      <td>0.899346</td>\n",
              "      <td>0.679079</td>\n",
              "    </tr>\n",
              "    <tr>\n",
              "      <th>4</th>\n",
              "      <td>5</td>\n",
              "      <td>463</td>\n",
              "      <td>1318</td>\n",
              "      <td>0.0</td>\n",
              "      <td>0.0</td>\n",
              "      <td>457.0</td>\n",
              "      <td>1.0</td>\n",
              "      <td>0.000000</td>\n",
              "      <td>0.760283</td>\n",
              "      <td>0.000000</td>\n",
              "    </tr>\n",
              "    <tr>\n",
              "      <th>...</th>\n",
              "      <td>...</td>\n",
              "      <td>...</td>\n",
              "      <td>...</td>\n",
              "      <td>...</td>\n",
              "      <td>...</td>\n",
              "      <td>...</td>\n",
              "      <td>...</td>\n",
              "      <td>...</td>\n",
              "      <td>...</td>\n",
              "      <td>...</td>\n",
              "    </tr>\n",
              "    <tr>\n",
              "      <th>758</th>\n",
              "      <td>9956</td>\n",
              "      <td>0</td>\n",
              "      <td>16</td>\n",
              "      <td>0.0</td>\n",
              "      <td>0.0</td>\n",
              "      <td>0.0</td>\n",
              "      <td>0.0</td>\n",
              "      <td>0.000000</td>\n",
              "      <td>0.000000</td>\n",
              "      <td>0.000000</td>\n",
              "    </tr>\n",
              "    <tr>\n",
              "      <th>759</th>\n",
              "      <td>9957</td>\n",
              "      <td>0</td>\n",
              "      <td>11</td>\n",
              "      <td>0.0</td>\n",
              "      <td>0.0</td>\n",
              "      <td>0.0</td>\n",
              "      <td>0.0</td>\n",
              "      <td>0.000000</td>\n",
              "      <td>0.000000</td>\n",
              "      <td>0.000000</td>\n",
              "    </tr>\n",
              "    <tr>\n",
              "      <th>760</th>\n",
              "      <td>9958</td>\n",
              "      <td>0</td>\n",
              "      <td>36</td>\n",
              "      <td>0.0</td>\n",
              "      <td>0.0</td>\n",
              "      <td>0.0</td>\n",
              "      <td>0.0</td>\n",
              "      <td>0.000000</td>\n",
              "      <td>0.000000</td>\n",
              "      <td>0.000000</td>\n",
              "    </tr>\n",
              "    <tr>\n",
              "      <th>761</th>\n",
              "      <td>9959</td>\n",
              "      <td>0</td>\n",
              "      <td>2</td>\n",
              "      <td>0.0</td>\n",
              "      <td>0.0</td>\n",
              "      <td>0.0</td>\n",
              "      <td>0.0</td>\n",
              "      <td>0.000000</td>\n",
              "      <td>0.000000</td>\n",
              "      <td>0.000000</td>\n",
              "    </tr>\n",
              "    <tr>\n",
              "      <th>762</th>\n",
              "      <td>9960</td>\n",
              "      <td>0</td>\n",
              "      <td>7</td>\n",
              "      <td>0.0</td>\n",
              "      <td>0.0</td>\n",
              "      <td>0.0</td>\n",
              "      <td>0.0</td>\n",
              "      <td>0.000000</td>\n",
              "      <td>0.000000</td>\n",
              "      <td>0.000000</td>\n",
              "    </tr>\n",
              "  </tbody>\n",
              "</table>\n",
              "<p>763 rows × 10 columns</p>\n",
              "</div>"
            ],
            "text/plain": [
              "     member_id  posts  ...  f_#posts  f_#message_posts\n",
              "0            1   5613  ...  1.000000          0.963237\n",
              "1            2   1267  ...  0.872110          0.699799\n",
              "2            3    487  ...  0.747415          0.576268\n",
              "3            4   1704  ...  0.899346          0.679079\n",
              "4            5    463  ...  0.760283          0.000000\n",
              "..         ...    ...  ...       ...               ...\n",
              "758       9956      0  ...  0.000000          0.000000\n",
              "759       9957      0  ...  0.000000          0.000000\n",
              "760       9958      0  ...  0.000000          0.000000\n",
              "761       9959      0  ...  0.000000          0.000000\n",
              "762       9960      0  ...  0.000000          0.000000\n",
              "\n",
              "[763 rows x 10 columns]"
            ]
          },
          "metadata": {},
          "execution_count": 41
        }
      ]
    },
    {
      "cell_type": "code",
      "metadata": {
        "id": "cp7JspW3oQNz"
      },
      "source": [
        "db = db.replace(to_replace=np.nan, value=0)"
      ],
      "execution_count": null,
      "outputs": []
    },
    {
      "cell_type": "code",
      "metadata": {
        "id": "jGNhURrAoRAS"
      },
      "source": [
        "db.to_csv(\"/content/drive/MyDrive/text gcn/csv/orig_score_activity.csv\")"
      ],
      "execution_count": null,
      "outputs": []
    },
    {
      "cell_type": "code",
      "metadata": {
        "id": "o4UQqs--1XZu"
      },
      "source": [
        ""
      ],
      "execution_count": null,
      "outputs": []
    }
  ]
}