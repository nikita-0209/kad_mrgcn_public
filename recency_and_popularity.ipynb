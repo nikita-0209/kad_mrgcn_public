{
  "nbformat": 4,
  "nbformat_minor": 0,
  "metadata": {
    "colab": {
      "name": "recency and popularity.ipynb",
      "provenance": [],
      "collapsed_sections": []
    },
    "kernelspec": {
      "name": "python3",
      "display_name": "Python 3"
    },
    "language_info": {
      "name": "python"
    }
  },
  "cells": [
    {
      "cell_type": "code",
      "metadata": {
        "colab": {
          "base_uri": "https://localhost:8080/"
        },
        "id": "G2LtwA-4wX8S",
        "outputId": "e02fed96-5a74-4120-849b-b83517628ed8"
      },
      "source": [
        "from google.colab import drive\n",
        "drive.mount('/content/drive')"
      ],
      "execution_count": null,
      "outputs": [
        {
          "output_type": "stream",
          "name": "stdout",
          "text": [
            "Mounted at /content/drive\n"
          ]
        }
      ]
    },
    {
      "cell_type": "code",
      "metadata": {
        "id": "zBHgDBA3cjM4"
      },
      "source": [
        "import pandas as pd\n",
        "import numpy as np\n",
        "import matplotlib.pyplot as plt\n",
        "%matplotlib inline\n",
        "import os\n",
        "import requests \n",
        "import io\n",
        "import seaborn as sns"
      ],
      "execution_count": null,
      "outputs": []
    },
    {
      "cell_type": "code",
      "metadata": {
        "id": "zMJB00oucnGh"
      },
      "source": [
        "orig_members = pd.read_csv('/content/drive/MyDrive/text gcn/Hackforum data/CSV Data IronMarch/data_csv/orig_members.csv')"
      ],
      "execution_count": null,
      "outputs": []
    },
    {
      "cell_type": "code",
      "metadata": {
        "colab": {
          "base_uri": "https://localhost:8080/",
          "height": 406
        },
        "id": "34VRYY8nxaT-",
        "outputId": "c2069e19-0093-416e-eb19-54850a3d7556"
      },
      "source": [
        "orig_members.head()"
      ],
      "execution_count": null,
      "outputs": [
        {
          "output_type": "execute_result",
          "data": {
            "text/html": [
              "<div>\n",
              "<style scoped>\n",
              "    .dataframe tbody tr th:only-of-type {\n",
              "        vertical-align: middle;\n",
              "    }\n",
              "\n",
              "    .dataframe tbody tr th {\n",
              "        vertical-align: top;\n",
              "    }\n",
              "\n",
              "    .dataframe thead th {\n",
              "        text-align: right;\n",
              "    }\n",
              "</style>\n",
              "<table border=\"1\" class=\"dataframe\">\n",
              "  <thead>\n",
              "    <tr style=\"text-align: right;\">\n",
              "      <th></th>\n",
              "      <th>Unnamed: 0</th>\n",
              "      <th>member_id</th>\n",
              "      <th>name</th>\n",
              "      <th>member_group_id</th>\n",
              "      <th>email</th>\n",
              "      <th>joined</th>\n",
              "      <th>ip_address</th>\n",
              "      <th>posts</th>\n",
              "      <th>title</th>\n",
              "      <th>allow_admin_mails</th>\n",
              "      <th>time_offset</th>\n",
              "      <th>skin</th>\n",
              "      <th>warn_level</th>\n",
              "      <th>warn_lastwarn</th>\n",
              "      <th>language</th>\n",
              "      <th>last_post</th>\n",
              "      <th>restrict_post</th>\n",
              "      <th>view_sigs</th>\n",
              "      <th>view_img</th>\n",
              "      <th>bday_day</th>\n",
              "      <th>bday_month</th>\n",
              "      <th>bday_year</th>\n",
              "      <th>msg_count_new</th>\n",
              "      <th>msg_count_total</th>\n",
              "      <th>msg_count_reset</th>\n",
              "      <th>msg_show_notification</th>\n",
              "      <th>misc</th>\n",
              "      <th>last_visit</th>\n",
              "      <th>last_activity</th>\n",
              "      <th>dst_in_use</th>\n",
              "      <th>coppa_user</th>\n",
              "      <th>mod_posts</th>\n",
              "      <th>auto_track</th>\n",
              "      <th>temp_ban</th>\n",
              "      <th>login_anonymous</th>\n",
              "      <th>ignored_users</th>\n",
              "      <th>mgroup_others</th>\n",
              "      <th>org_perm_id</th>\n",
              "      <th>member_login_key</th>\n",
              "      <th>member_login_key_expire</th>\n",
              "      <th>has_blog</th>\n",
              "      <th>has_gallery</th>\n",
              "      <th>members_auto_dst</th>\n",
              "      <th>members_display_name</th>\n",
              "      <th>members_seo_name</th>\n",
              "      <th>members_created_remote</th>\n",
              "      <th>members_cache</th>\n",
              "      <th>members_disable_pm</th>\n",
              "      <th>members_l_display_name</th>\n",
              "      <th>members_l_username</th>\n",
              "      <th>failed_logins</th>\n",
              "      <th>failed_login_count</th>\n",
              "      <th>members_profile_views</th>\n",
              "      <th>members_pass_hash</th>\n",
              "      <th>members_pass_salt</th>\n",
              "      <th>member_banned</th>\n",
              "      <th>member_uploader</th>\n",
              "      <th>members_bitoptions</th>\n",
              "      <th>fb_uid</th>\n",
              "      <th>fb_emailhash</th>\n",
              "      <th>fb_lastsync</th>\n",
              "      <th>members_day_posts</th>\n",
              "      <th>live_id</th>\n",
              "      <th>twitter_id</th>\n",
              "      <th>twitter_token</th>\n",
              "      <th>twitter_secret</th>\n",
              "      <th>notification_cnt</th>\n",
              "      <th>tc_lastsync</th>\n",
              "      <th>fb_session</th>\n",
              "      <th>fb_token</th>\n",
              "      <th>ips_mobile_token</th>\n",
              "      <th>unacknowledged_warnings</th>\n",
              "      <th>blogs_recache</th>\n",
              "      <th>ipsconnect_id</th>\n",
              "      <th>ipsconnect_revalidate_url</th>\n",
              "    </tr>\n",
              "  </thead>\n",
              "  <tbody>\n",
              "    <tr>\n",
              "      <th>0</th>\n",
              "      <td>0</td>\n",
              "      <td>1</td>\n",
              "      <td>Alexander Slavros</td>\n",
              "      <td>4</td>\n",
              "      <td>slavros_a@mail.ru</td>\n",
              "      <td>1315842419</td>\n",
              "      <td>178.140.119.217</td>\n",
              "      <td>5613</td>\n",
              "      <td>My spirit animal is a landmine</td>\n",
              "      <td>0</td>\n",
              "      <td>3.0</td>\n",
              "      <td>9.0</td>\n",
              "      <td>0.0</td>\n",
              "      <td>0</td>\n",
              "      <td>1</td>\n",
              "      <td>1.458503e+09</td>\n",
              "      <td>NaN</td>\n",
              "      <td>1</td>\n",
              "      <td>1</td>\n",
              "      <td>28</td>\n",
              "      <td>6</td>\n",
              "      <td>0</td>\n",
              "      <td>0</td>\n",
              "      <td>27</td>\n",
              "      <td>0</td>\n",
              "      <td>0</td>\n",
              "      <td>NaN</td>\n",
              "      <td>1458844549</td>\n",
              "      <td>1458843863</td>\n",
              "      <td>1</td>\n",
              "      <td>0</td>\n",
              "      <td>NaN</td>\n",
              "      <td>NaN</td>\n",
              "      <td>0.0</td>\n",
              "      <td>0&amp;1</td>\n",
              "      <td>a:0:{}</td>\n",
              "      <td>NaN</td>\n",
              "      <td>NaN</td>\n",
              "      <td>2c3b7d9f0687fe1bb721fee1635f6ff4</td>\n",
              "      <td>1459379030</td>\n",
              "      <td>NaN</td>\n",
              "      <td>0</td>\n",
              "      <td>1</td>\n",
              "      <td>ÐÐ»ÐµÐºÑÐ°Ð½Ð´Ñ€ Ð¡Ð»Ð°Ð²Ñ€Ð¾Ñ</td>\n",
              "      <td>%d0%b0%d0%bb%d0%b5%d0%ba%d1%81%d0%b0%d0%bd%d0%...</td>\n",
              "      <td>0</td>\n",
              "      <td>a:12:{s:11:\"report_temp\";a:0:{}s:19:\"report_la...</td>\n",
              "      <td>0</td>\n",
              "      <td>ðð»ðµðºñð°ð½ð´ñ€ ð¡ð»ð°ð²ñ€ð¾ñ</td>\n",
              "      <td>alexander slavros</td>\n",
              "      <td>[]</td>\n",
              "      <td>0</td>\n",
              "      <td>109177</td>\n",
              "      <td>36c2d4d1fffaf1dfd86aec6d4e728c28</td>\n",
              "      <td>!%:xG</td>\n",
              "      <td>0</td>\n",
              "      <td>flash</td>\n",
              "      <td>0</td>\n",
              "      <td>0</td>\n",
              "      <td>NaN</td>\n",
              "      <td>0</td>\n",
              "      <td>1,1374056788</td>\n",
              "      <td>NaN</td>\n",
              "      <td>NaN</td>\n",
              "      <td>NaN</td>\n",
              "      <td>NaN</td>\n",
              "      <td>0</td>\n",
              "      <td>0</td>\n",
              "      <td>NaN</td>\n",
              "      <td>NaN</td>\n",
              "      <td>NaN</td>\n",
              "      <td>NaN</td>\n",
              "      <td>NaN</td>\n",
              "      <td>0</td>\n",
              "      <td>NaN</td>\n",
              "    </tr>\n",
              "    <tr>\n",
              "      <th>1</th>\n",
              "      <td>1</td>\n",
              "      <td>2</td>\n",
              "      <td>Kacen</td>\n",
              "      <td>13</td>\n",
              "      <td>illuminatienlightened@hotmail.com</td>\n",
              "      <td>1315842750</td>\n",
              "      <td>68.37.21.125</td>\n",
              "      <td>1267</td>\n",
              "      <td>THE HATE BUS</td>\n",
              "      <td>1</td>\n",
              "      <td>-5.0</td>\n",
              "      <td>0.0</td>\n",
              "      <td>0.0</td>\n",
              "      <td>0</td>\n",
              "      <td>1</td>\n",
              "      <td>1.443205e+09</td>\n",
              "      <td>NaN</td>\n",
              "      <td>1</td>\n",
              "      <td>1</td>\n",
              "      <td>0</td>\n",
              "      <td>0</td>\n",
              "      <td>0</td>\n",
              "      <td>0</td>\n",
              "      <td>52</td>\n",
              "      <td>0</td>\n",
              "      <td>0</td>\n",
              "      <td>NaN</td>\n",
              "      <td>1457154323</td>\n",
              "      <td>1458153680</td>\n",
              "      <td>1</td>\n",
              "      <td>0</td>\n",
              "      <td>NaN</td>\n",
              "      <td>NaN</td>\n",
              "      <td>0.0</td>\n",
              "      <td>0&amp;1</td>\n",
              "      <td>a:0:{}</td>\n",
              "      <td>,3,</td>\n",
              "      <td>NaN</td>\n",
              "      <td>c97ef2471949daac6af7d7d35c8d845c</td>\n",
              "      <td>1458755202</td>\n",
              "      <td>NaN</td>\n",
              "      <td>0</td>\n",
              "      <td>1</td>\n",
              "      <td>Qvis Contra Nos?</td>\n",
              "      <td>qvis-contra-nos</td>\n",
              "      <td>0</td>\n",
              "      <td>a:8:{s:13:\"notifications\";a:17:{s:13:\"report_c...</td>\n",
              "      <td>0</td>\n",
              "      <td>qvis contra nos?</td>\n",
              "      <td>kacen</td>\n",
              "      <td>NaN</td>\n",
              "      <td>0</td>\n",
              "      <td>11420</td>\n",
              "      <td>c1a38f798ad4b460991127f3adea8bde</td>\n",
              "      <td>Ud?,W</td>\n",
              "      <td>0</td>\n",
              "      <td>flash</td>\n",
              "      <td>4096</td>\n",
              "      <td>0</td>\n",
              "      <td>NaN</td>\n",
              "      <td>0</td>\n",
              "      <td>1,1373586823</td>\n",
              "      <td>NaN</td>\n",
              "      <td>NaN</td>\n",
              "      <td>NaN</td>\n",
              "      <td>NaN</td>\n",
              "      <td>0</td>\n",
              "      <td>0</td>\n",
              "      <td>NaN</td>\n",
              "      <td>NaN</td>\n",
              "      <td>NaN</td>\n",
              "      <td>NaN</td>\n",
              "      <td>NaN</td>\n",
              "      <td>0</td>\n",
              "      <td>NaN</td>\n",
              "    </tr>\n",
              "    <tr>\n",
              "      <th>2</th>\n",
              "      <td>2</td>\n",
              "      <td>3</td>\n",
              "      <td>Blood and Iron</td>\n",
              "      <td>13</td>\n",
              "      <td>renegader23@aim.com</td>\n",
              "      <td>1315851011</td>\n",
              "      <td>68.10.255.89</td>\n",
              "      <td>487</td>\n",
              "      <td>14/88 Bread on the Floor</td>\n",
              "      <td>1</td>\n",
              "      <td>-8.0</td>\n",
              "      <td>9.0</td>\n",
              "      <td>0.0</td>\n",
              "      <td>0</td>\n",
              "      <td>1</td>\n",
              "      <td>1.449196e+09</td>\n",
              "      <td>NaN</td>\n",
              "      <td>1</td>\n",
              "      <td>1</td>\n",
              "      <td>0</td>\n",
              "      <td>0</td>\n",
              "      <td>0</td>\n",
              "      <td>0</td>\n",
              "      <td>35</td>\n",
              "      <td>0</td>\n",
              "      <td>0</td>\n",
              "      <td>NaN</td>\n",
              "      <td>1453607403</td>\n",
              "      <td>1453861982</td>\n",
              "      <td>0</td>\n",
              "      <td>0</td>\n",
              "      <td>NaN</td>\n",
              "      <td>NaN</td>\n",
              "      <td>0.0</td>\n",
              "      <td>0&amp;1</td>\n",
              "      <td>a:0:{}</td>\n",
              "      <td>NaN</td>\n",
              "      <td>NaN</td>\n",
              "      <td>b4c335350bccbbcf231330669466f181</td>\n",
              "      <td>1454466782</td>\n",
              "      <td>NaN</td>\n",
              "      <td>0</td>\n",
              "      <td>1</td>\n",
              "      <td>Blood and Iron</td>\n",
              "      <td>blood-and-iron</td>\n",
              "      <td>0</td>\n",
              "      <td>a:8:{s:7:\"friends\";a:33:{i:1;s:1:\"1\";i:2;s:1:\"...</td>\n",
              "      <td>0</td>\n",
              "      <td>blood and iron</td>\n",
              "      <td>blood and iron</td>\n",
              "      <td>NaN</td>\n",
              "      <td>0</td>\n",
              "      <td>4467</td>\n",
              "      <td>e9dd0f5306b27eda7482320e97f8d776</td>\n",
              "      <td>vO44]</td>\n",
              "      <td>0</td>\n",
              "      <td>flash</td>\n",
              "      <td>0</td>\n",
              "      <td>0</td>\n",
              "      <td>NaN</td>\n",
              "      <td>0</td>\n",
              "      <td>2,1373776594</td>\n",
              "      <td>NaN</td>\n",
              "      <td>NaN</td>\n",
              "      <td>NaN</td>\n",
              "      <td>NaN</td>\n",
              "      <td>0</td>\n",
              "      <td>0</td>\n",
              "      <td>NaN</td>\n",
              "      <td>NaN</td>\n",
              "      <td>NaN</td>\n",
              "      <td>NaN</td>\n",
              "      <td>NaN</td>\n",
              "      <td>0</td>\n",
              "      <td>NaN</td>\n",
              "    </tr>\n",
              "    <tr>\n",
              "      <th>3</th>\n",
              "      <td>3</td>\n",
              "      <td>4</td>\n",
              "      <td>Mierce</td>\n",
              "      <td>13</td>\n",
              "      <td>hominemcura@gmail.com</td>\n",
              "      <td>1315859255</td>\n",
              "      <td>82.29.169.221</td>\n",
              "      <td>1704</td>\n",
              "      <td>Multiracial Mierda</td>\n",
              "      <td>0</td>\n",
              "      <td>0.0</td>\n",
              "      <td>0.0</td>\n",
              "      <td>0.0</td>\n",
              "      <td>0</td>\n",
              "      <td>1</td>\n",
              "      <td>1.456787e+09</td>\n",
              "      <td>NaN</td>\n",
              "      <td>1</td>\n",
              "      <td>1</td>\n",
              "      <td>0</td>\n",
              "      <td>0</td>\n",
              "      <td>0</td>\n",
              "      <td>0</td>\n",
              "      <td>39</td>\n",
              "      <td>0</td>\n",
              "      <td>0</td>\n",
              "      <td>NaN</td>\n",
              "      <td>1458044716</td>\n",
              "      <td>1458142748</td>\n",
              "      <td>0</td>\n",
              "      <td>0</td>\n",
              "      <td>NaN</td>\n",
              "      <td>NaN</td>\n",
              "      <td>0.0</td>\n",
              "      <td>0&amp;1</td>\n",
              "      <td>a:0:{}</td>\n",
              "      <td>NaN</td>\n",
              "      <td>NaN</td>\n",
              "      <td>bc9e18dde0f7aec519d1238ce1ad980f</td>\n",
              "      <td>1458415777</td>\n",
              "      <td>NaN</td>\n",
              "      <td>0</td>\n",
              "      <td>0</td>\n",
              "      <td>Mierce</td>\n",
              "      <td>mierce</td>\n",
              "      <td>0</td>\n",
              "      <td>a:9:{s:13:\"notifications\";a:17:{s:13:\"report_c...</td>\n",
              "      <td>0</td>\n",
              "      <td>mierce</td>\n",
              "      <td>mierce</td>\n",
              "      <td>NaN</td>\n",
              "      <td>0</td>\n",
              "      <td>7483</td>\n",
              "      <td>cb5402d4b0a748a0c5124045ac4cea81</td>\n",
              "      <td>J;]]n</td>\n",
              "      <td>0</td>\n",
              "      <td>flash</td>\n",
              "      <td>0</td>\n",
              "      <td>0</td>\n",
              "      <td>NaN</td>\n",
              "      <td>0</td>\n",
              "      <td>2,1374174523</td>\n",
              "      <td>NaN</td>\n",
              "      <td>NaN</td>\n",
              "      <td>NaN</td>\n",
              "      <td>NaN</td>\n",
              "      <td>0</td>\n",
              "      <td>0</td>\n",
              "      <td>NaN</td>\n",
              "      <td>NaN</td>\n",
              "      <td>NaN</td>\n",
              "      <td>NaN</td>\n",
              "      <td>NaN</td>\n",
              "      <td>0</td>\n",
              "      <td>NaN</td>\n",
              "    </tr>\n",
              "    <tr>\n",
              "      <th>4</th>\n",
              "      <td>4</td>\n",
              "      <td>5</td>\n",
              "      <td>Will to Power</td>\n",
              "      <td>5</td>\n",
              "      <td>tashkentfox@hotmail.co.uk</td>\n",
              "      <td>1315861097</td>\n",
              "      <td>90.214.150.70</td>\n",
              "      <td>463</td>\n",
              "      <td>A fox</td>\n",
              "      <td>1</td>\n",
              "      <td>0.0</td>\n",
              "      <td>0.0</td>\n",
              "      <td>0.0</td>\n",
              "      <td>0</td>\n",
              "      <td>1</td>\n",
              "      <td>1.327590e+09</td>\n",
              "      <td>NaN</td>\n",
              "      <td>1</td>\n",
              "      <td>1</td>\n",
              "      <td>7</td>\n",
              "      <td>12</td>\n",
              "      <td>0</td>\n",
              "      <td>0</td>\n",
              "      <td>1</td>\n",
              "      <td>0</td>\n",
              "      <td>0</td>\n",
              "      <td>NaN</td>\n",
              "      <td>1328201971</td>\n",
              "      <td>1328493137</td>\n",
              "      <td>0</td>\n",
              "      <td>0</td>\n",
              "      <td>NaN</td>\n",
              "      <td>NaN</td>\n",
              "      <td>0.0</td>\n",
              "      <td>0&amp;1</td>\n",
              "      <td>a:0:{}</td>\n",
              "      <td>NaN</td>\n",
              "      <td>NaN</td>\n",
              "      <td>24fb95eba9b193eddad58f09d585c2b2</td>\n",
              "      <td>1328806410</td>\n",
              "      <td>NaN</td>\n",
              "      <td>0</td>\n",
              "      <td>1</td>\n",
              "      <td>Will to Power</td>\n",
              "      <td>will-to-power</td>\n",
              "      <td>0</td>\n",
              "      <td>a:5:{s:7:\"friends\";a:1:{i:61;s:1:\"1\";}s:15:\"gb...</td>\n",
              "      <td>0</td>\n",
              "      <td>will to power</td>\n",
              "      <td>will to power</td>\n",
              "      <td>NaN</td>\n",
              "      <td>0</td>\n",
              "      <td>1318</td>\n",
              "      <td>aa31292e5c2702cbf6fb47b97061fb5d</td>\n",
              "      <td>617rJ</td>\n",
              "      <td>1</td>\n",
              "      <td>flash</td>\n",
              "      <td>0</td>\n",
              "      <td>0</td>\n",
              "      <td>NaN</td>\n",
              "      <td>0</td>\n",
              "      <td>18,1327509990</td>\n",
              "      <td>NaN</td>\n",
              "      <td>NaN</td>\n",
              "      <td>NaN</td>\n",
              "      <td>NaN</td>\n",
              "      <td>0</td>\n",
              "      <td>0</td>\n",
              "      <td>NaN</td>\n",
              "      <td>NaN</td>\n",
              "      <td>NaN</td>\n",
              "      <td>NaN</td>\n",
              "      <td>NaN</td>\n",
              "      <td>0</td>\n",
              "      <td>NaN</td>\n",
              "    </tr>\n",
              "  </tbody>\n",
              "</table>\n",
              "</div>"
            ],
            "text/plain": [
              "   Unnamed: 0  member_id  ... ipsconnect_id  ipsconnect_revalidate_url\n",
              "0           0          1  ...             0                        NaN\n",
              "1           1          2  ...             0                        NaN\n",
              "2           2          3  ...             0                        NaN\n",
              "3           3          4  ...             0                        NaN\n",
              "4           4          5  ...             0                        NaN\n",
              "\n",
              "[5 rows x 75 columns]"
            ]
          },
          "metadata": {},
          "execution_count": 4
        }
      ]
    },
    {
      "cell_type": "code",
      "metadata": {
        "colab": {
          "base_uri": "https://localhost:8080/"
        },
        "id": "4XXGfJ4OVy_m",
        "outputId": "5bd5d249-32f2-4287-8b3f-f3d3bc0442aa"
      },
      "source": [
        "orig_members.info()"
      ],
      "execution_count": null,
      "outputs": [
        {
          "output_type": "stream",
          "name": "stdout",
          "text": [
            "<class 'pandas.core.frame.DataFrame'>\n",
            "RangeIndex: 763 entries, 0 to 762\n",
            "Data columns (total 75 columns):\n",
            " #   Column                     Non-Null Count  Dtype  \n",
            "---  ------                     --------------  -----  \n",
            " 0   Unnamed: 0                 763 non-null    int64  \n",
            " 1   member_id                  763 non-null    int64  \n",
            " 2   name                       763 non-null    object \n",
            " 3   member_group_id            763 non-null    int64  \n",
            " 4   email                      763 non-null    object \n",
            " 5   joined                     763 non-null    int64  \n",
            " 6   ip_address                 763 non-null    object \n",
            " 7   posts                      763 non-null    int64  \n",
            " 8   title                      98 non-null     object \n",
            " 9   allow_admin_mails          763 non-null    int64  \n",
            " 10  time_offset                755 non-null    float64\n",
            " 11  skin                       271 non-null    float64\n",
            " 12  warn_level                 212 non-null    float64\n",
            " 13  warn_lastwarn              763 non-null    int64  \n",
            " 14  language                   763 non-null    int64  \n",
            " 15  last_post                  741 non-null    float64\n",
            " 16  restrict_post              596 non-null    float64\n",
            " 17  view_sigs                  763 non-null    int64  \n",
            " 18  view_img                   763 non-null    int64  \n",
            " 19  bday_day                   763 non-null    int64  \n",
            " 20  bday_month                 763 non-null    int64  \n",
            " 21  bday_year                  763 non-null    int64  \n",
            " 22  msg_count_new              763 non-null    int64  \n",
            " 23  msg_count_total            763 non-null    int64  \n",
            " 24  msg_count_reset            763 non-null    int64  \n",
            " 25  msg_show_notification      763 non-null    int64  \n",
            " 26  misc                       0 non-null      float64\n",
            " 27  last_visit                 763 non-null    int64  \n",
            " 28  last_activity              763 non-null    int64  \n",
            " 29  dst_in_use                 763 non-null    int64  \n",
            " 30  coppa_user                 763 non-null    int64  \n",
            " 31  mod_posts                  589 non-null    float64\n",
            " 32  auto_track                 520 non-null    object \n",
            " 33  temp_ban                   723 non-null    float64\n",
            " 34  login_anonymous            763 non-null    object \n",
            " 35  ignored_users              759 non-null    object \n",
            " 36  mgroup_others              17 non-null     object \n",
            " 37  org_perm_id                2 non-null      object \n",
            " 38  member_login_key           763 non-null    object \n",
            " 39  member_login_key_expire    763 non-null    int64  \n",
            " 40  has_blog                   0 non-null      float64\n",
            " 41  has_gallery                763 non-null    int64  \n",
            " 42  members_auto_dst           763 non-null    int64  \n",
            " 43  members_display_name       763 non-null    object \n",
            " 44  members_seo_name           763 non-null    object \n",
            " 45  members_created_remote     763 non-null    int64  \n",
            " 46  members_cache              723 non-null    object \n",
            " 47  members_disable_pm         763 non-null    int64  \n",
            " 48  members_l_display_name     763 non-null    object \n",
            " 49  members_l_username         763 non-null    object \n",
            " 50  failed_logins              1 non-null      object \n",
            " 51  failed_login_count         763 non-null    int64  \n",
            " 52  members_profile_views      763 non-null    int64  \n",
            " 53  members_pass_hash          763 non-null    object \n",
            " 54  members_pass_salt          763 non-null    object \n",
            " 55  member_banned              763 non-null    int64  \n",
            " 56  member_uploader            763 non-null    object \n",
            " 57  members_bitoptions         763 non-null    int64  \n",
            " 58  fb_uid                     763 non-null    int64  \n",
            " 59  fb_emailhash               0 non-null      float64\n",
            " 60  fb_lastsync                763 non-null    int64  \n",
            " 61  members_day_posts          763 non-null    object \n",
            " 62  live_id                    0 non-null      float64\n",
            " 63  twitter_id                 0 non-null      float64\n",
            " 64  twitter_token              0 non-null      float64\n",
            " 65  twitter_secret             0 non-null      float64\n",
            " 66  notification_cnt           763 non-null    int64  \n",
            " 67  tc_lastsync                763 non-null    int64  \n",
            " 68  fb_session                 0 non-null      float64\n",
            " 69  fb_token                   0 non-null      float64\n",
            " 70  ips_mobile_token           0 non-null      float64\n",
            " 71  unacknowledged_warnings    0 non-null      float64\n",
            " 72  blogs_recache              0 non-null      float64\n",
            " 73  ipsconnect_id              763 non-null    int64  \n",
            " 74  ipsconnect_revalidate_url  0 non-null      float64\n",
            "dtypes: float64(20), int64(35), object(20)\n",
            "memory usage: 447.2+ KB\n"
          ]
        }
      ]
    },
    {
      "cell_type": "code",
      "metadata": {
        "id": "wZ-Iun-cVkGe"
      },
      "source": [
        "orig_members.drop(orig_members.columns[[0, 3, 4, 6, 7, 8, 9, 10, 11, 12, 13, 14, 16, 17, 18, 19, 20, 21, 22, 23, 24, 25, 26, 29, 30, 31, 32, 33, 34, 35, 36, 37, 38, 39, 40, 41, 42, 43, 44, 45, 46, 47, 48, 49, 50, 51, 53, 54, 55, 56, 57, 58, 59, 60, 61, 62, 63, 64, 65, 66, 67, 68, 69, 70, 71, 72, 73, 74]], axis =1, inplace=True)"
      ],
      "execution_count": null,
      "outputs": []
    },
    {
      "cell_type": "code",
      "metadata": {
        "colab": {
          "base_uri": "https://localhost:8080/",
          "height": 415
        },
        "id": "-9CFbkbDYgbE",
        "outputId": "8adc090c-6809-4794-afc7-c556a7620851"
      },
      "source": [
        "orig_members"
      ],
      "execution_count": null,
      "outputs": [
        {
          "output_type": "execute_result",
          "data": {
            "text/html": [
              "<div>\n",
              "<style scoped>\n",
              "    .dataframe tbody tr th:only-of-type {\n",
              "        vertical-align: middle;\n",
              "    }\n",
              "\n",
              "    .dataframe tbody tr th {\n",
              "        vertical-align: top;\n",
              "    }\n",
              "\n",
              "    .dataframe thead th {\n",
              "        text-align: right;\n",
              "    }\n",
              "</style>\n",
              "<table border=\"1\" class=\"dataframe\">\n",
              "  <thead>\n",
              "    <tr style=\"text-align: right;\">\n",
              "      <th></th>\n",
              "      <th>member_id</th>\n",
              "      <th>name</th>\n",
              "      <th>joined</th>\n",
              "      <th>last_post</th>\n",
              "      <th>last_visit</th>\n",
              "      <th>last_activity</th>\n",
              "      <th>members_profile_views</th>\n",
              "    </tr>\n",
              "  </thead>\n",
              "  <tbody>\n",
              "    <tr>\n",
              "      <th>0</th>\n",
              "      <td>1</td>\n",
              "      <td>Alexander Slavros</td>\n",
              "      <td>1315842419</td>\n",
              "      <td>1.458503e+09</td>\n",
              "      <td>1458844549</td>\n",
              "      <td>1458843863</td>\n",
              "      <td>109177</td>\n",
              "    </tr>\n",
              "    <tr>\n",
              "      <th>1</th>\n",
              "      <td>2</td>\n",
              "      <td>Kacen</td>\n",
              "      <td>1315842750</td>\n",
              "      <td>1.443205e+09</td>\n",
              "      <td>1457154323</td>\n",
              "      <td>1458153680</td>\n",
              "      <td>11420</td>\n",
              "    </tr>\n",
              "    <tr>\n",
              "      <th>2</th>\n",
              "      <td>3</td>\n",
              "      <td>Blood and Iron</td>\n",
              "      <td>1315851011</td>\n",
              "      <td>1.449196e+09</td>\n",
              "      <td>1453607403</td>\n",
              "      <td>1453861982</td>\n",
              "      <td>4467</td>\n",
              "    </tr>\n",
              "    <tr>\n",
              "      <th>3</th>\n",
              "      <td>4</td>\n",
              "      <td>Mierce</td>\n",
              "      <td>1315859255</td>\n",
              "      <td>1.456787e+09</td>\n",
              "      <td>1458044716</td>\n",
              "      <td>1458142748</td>\n",
              "      <td>7483</td>\n",
              "    </tr>\n",
              "    <tr>\n",
              "      <th>4</th>\n",
              "      <td>5</td>\n",
              "      <td>Will to Power</td>\n",
              "      <td>1315861097</td>\n",
              "      <td>1.327590e+09</td>\n",
              "      <td>1328201971</td>\n",
              "      <td>1328493137</td>\n",
              "      <td>1318</td>\n",
              "    </tr>\n",
              "    <tr>\n",
              "      <th>...</th>\n",
              "      <td>...</td>\n",
              "      <td>...</td>\n",
              "      <td>...</td>\n",
              "      <td>...</td>\n",
              "      <td>...</td>\n",
              "      <td>...</td>\n",
              "      <td>...</td>\n",
              "    </tr>\n",
              "    <tr>\n",
              "      <th>758</th>\n",
              "      <td>9956</td>\n",
              "      <td>Hagan</td>\n",
              "      <td>1458239811</td>\n",
              "      <td>NaN</td>\n",
              "      <td>1458634544</td>\n",
              "      <td>1458770188</td>\n",
              "      <td>16</td>\n",
              "    </tr>\n",
              "    <tr>\n",
              "      <th>759</th>\n",
              "      <td>9957</td>\n",
              "      <td>TheGreatJeff</td>\n",
              "      <td>1458326928</td>\n",
              "      <td>NaN</td>\n",
              "      <td>1458326988</td>\n",
              "      <td>1458337699</td>\n",
              "      <td>11</td>\n",
              "    </tr>\n",
              "    <tr>\n",
              "      <th>760</th>\n",
              "      <td>9959</td>\n",
              "      <td>Kokuryukai</td>\n",
              "      <td>1458377324</td>\n",
              "      <td>NaN</td>\n",
              "      <td>1458377324</td>\n",
              "      <td>1458377324</td>\n",
              "      <td>2</td>\n",
              "    </tr>\n",
              "    <tr>\n",
              "      <th>761</th>\n",
              "      <td>9958</td>\n",
              "      <td>BlackNazi</td>\n",
              "      <td>1458348314</td>\n",
              "      <td>NaN</td>\n",
              "      <td>1458701223</td>\n",
              "      <td>1458750459</td>\n",
              "      <td>36</td>\n",
              "    </tr>\n",
              "    <tr>\n",
              "      <th>762</th>\n",
              "      <td>9960</td>\n",
              "      <td>Breivik V.2</td>\n",
              "      <td>1458414702</td>\n",
              "      <td>NaN</td>\n",
              "      <td>1458690648</td>\n",
              "      <td>1458705445</td>\n",
              "      <td>7</td>\n",
              "    </tr>\n",
              "  </tbody>\n",
              "</table>\n",
              "<p>763 rows × 7 columns</p>\n",
              "</div>"
            ],
            "text/plain": [
              "     member_id               name  ...  last_activity  members_profile_views\n",
              "0            1  Alexander Slavros  ...     1458843863                 109177\n",
              "1            2              Kacen  ...     1458153680                  11420\n",
              "2            3     Blood and Iron  ...     1453861982                   4467\n",
              "3            4             Mierce  ...     1458142748                   7483\n",
              "4            5      Will to Power  ...     1328493137                   1318\n",
              "..         ...                ...  ...            ...                    ...\n",
              "758       9956              Hagan  ...     1458770188                     16\n",
              "759       9957       TheGreatJeff  ...     1458337699                     11\n",
              "760       9959         Kokuryukai  ...     1458377324                      2\n",
              "761       9958          BlackNazi  ...     1458750459                     36\n",
              "762       9960        Breivik V.2  ...     1458705445                      7\n",
              "\n",
              "[763 rows x 7 columns]"
            ]
          },
          "metadata": {},
          "execution_count": 7
        }
      ]
    },
    {
      "cell_type": "markdown",
      "metadata": {
        "id": "eimiBPQ0VEm9"
      },
      "source": [
        "### Create a New Column for Months of Activity"
      ]
    },
    {
      "cell_type": "code",
      "metadata": {
        "id": "oIi-sjg5-RKG"
      },
      "source": [
        "orig_members['months_activity_period'] = (orig_members['last_activity']-orig_members['joined'])/2592000"
      ],
      "execution_count": null,
      "outputs": []
    },
    {
      "cell_type": "code",
      "metadata": {
        "colab": {
          "base_uri": "https://localhost:8080/"
        },
        "id": "qFrQcaow-jRr",
        "outputId": "c46951fa-568f-4e74-cc74-61a7f05f264e"
      },
      "source": [
        "orig_members['months_activity_period'].describe()"
      ],
      "execution_count": null,
      "outputs": [
        {
          "output_type": "execute_result",
          "data": {
            "text/plain": [
              "count    763.000000\n",
              "mean      11.553090\n",
              "std       14.091470\n",
              "min        0.000000\n",
              "25%        0.784508\n",
              "50%        5.536357\n",
              "75%       17.540503\n",
              "max       55.170310\n",
              "Name: months_activity_period, dtype: float64"
            ]
          },
          "metadata": {},
          "execution_count": 9
        }
      ]
    },
    {
      "cell_type": "code",
      "metadata": {
        "id": "FeMY57i3Nl7K",
        "colab": {
          "base_uri": "https://localhost:8080/",
          "height": 300
        },
        "outputId": "ea1059f7-6704-4714-dd88-dc59ead3a36d"
      },
      "source": [
        "plt.hist(orig_members['months_activity_period'])\n",
        "plt.xlabel(\"Months of Activity\")\n",
        "plt.ylabel(\"Count of People\")"
      ],
      "execution_count": null,
      "outputs": [
        {
          "output_type": "execute_result",
          "data": {
            "text/plain": [
              "Text(0, 0.5, 'Count of People')"
            ]
          },
          "metadata": {},
          "execution_count": 10
        },
        {
          "output_type": "display_data",
          "data": {
            "image/png": "[encoded data removed]",
            "text/plain": [
              "<Figure size 432x288 with 1 Axes>"
            ]
          },
          "metadata": {
            "needs_background": "light"
          }
        }
      ]
    },
    {
      "cell_type": "code",
      "metadata": {
        "id": "1EVJXtrOt_Vm"
      },
      "source": [
        "# plt.hist(np.log(orig_members['months_activity_period'].replace(to_replace=0, value=np.nan)))\n",
        "# plt.xlabel(\"Log(Months of Activity)\")\n",
        "# plt.ylabel(\"Count of People\")"
      ],
      "execution_count": null,
      "outputs": []
    },
    {
      "cell_type": "code",
      "metadata": {
        "id": "tTV7423juN0E"
      },
      "source": [
        "# plt.hist(np.log(orig_members['months_activity_period'].round(0).replace(to_replace=0, value=1)))\n",
        "# plt.xlabel(\"Log(Months of Activity)\")\n",
        "# plt.ylabel(\"Count of People\")"
      ],
      "execution_count": null,
      "outputs": []
    },
    {
      "cell_type": "code",
      "metadata": {
        "id": "BebDhlupcRy8"
      },
      "source": [
        "# orig_members['months_activity_period'] = orig_members['months_activity_period'].replace(to_replace=0, value=1)"
      ],
      "execution_count": null,
      "outputs": []
    },
    {
      "cell_type": "markdown",
      "metadata": {
        "id": "SvgcciWWdmbh"
      },
      "source": [
        "Steps\n",
        "1. Rounded off to whole numbers\n",
        "2. Replace 0 by 1\n",
        "3. Take log"
      ]
    },
    {
      "cell_type": "code",
      "metadata": {
        "id": "OQWg0bX2dyWg"
      },
      "source": [
        "# orig_members['months_activity_period'] = np.log(orig_members['months_activity_period'].round(0).replace(to_replace=0, value=1))"
      ],
      "execution_count": null,
      "outputs": []
    },
    {
      "cell_type": "markdown",
      "metadata": {
        "id": "BySJENUGx4yf"
      },
      "source": [
        "# Recency"
      ]
    },
    {
      "cell_type": "code",
      "metadata": {
        "colab": {
          "base_uri": "https://localhost:8080/"
        },
        "id": "a_gTPgUw0zPE",
        "outputId": "33898faf-bf02-4523-c4b1-125c6f3c4e82"
      },
      "source": [
        "orig_members['last_visit'].mean()"
      ],
      "execution_count": null,
      "outputs": [
        {
          "output_type": "execute_result",
          "data": {
            "text/plain": [
              "1419665917.1520314"
            ]
          },
          "metadata": {},
          "execution_count": 11
        }
      ]
    },
    {
      "cell_type": "code",
      "metadata": {
        "colab": {
          "base_uri": "https://localhost:8080/"
        },
        "id": "bRwv5P4sbS3f",
        "outputId": "68b67c78-3844-4602-d1ca-aace9a9186b9"
      },
      "source": [
        "orig_members['last_activity'].mean()"
      ],
      "execution_count": null,
      "outputs": [
        {
          "output_type": "execute_result",
          "data": {
            "text/plain": [
              "1421939073.6159894"
            ]
          },
          "metadata": {},
          "execution_count": 12
        }
      ]
    },
    {
      "cell_type": "markdown",
      "metadata": {
        "id": "qtiGQdtccv56"
      },
      "source": [
        "Last_Activity>Last_Visit\n",
        "\n",
        "But activity seems like doing something and visit feels like juct glancing. I assumed visit to be done later than activity."
      ]
    },
    {
      "cell_type": "code",
      "metadata": {
        "colab": {
          "base_uri": "https://localhost:8080/",
          "height": 296
        },
        "id": "4PbGmxXRbYbQ",
        "outputId": "680a5d75-2a48-4220-bb57-c2b07e969601"
      },
      "source": [
        "plt.hist((orig_members['last_activity']-orig_members['last_visit'])/2592000)\n",
        "plt.xlabel(\"Diff in Months in Last Activity and Last Visit\")\n",
        "plt.ylabel(\"Number of Ppl\")"
      ],
      "execution_count": null,
      "outputs": [
        {
          "output_type": "execute_result",
          "data": {
            "text/plain": [
              "Text(0, 0.5, 'Number of Ppl')"
            ]
          },
          "metadata": {},
          "execution_count": 13
        },
        {
          "output_type": "display_data",
          "data": {
            "image/png": "[encoded data removed]",
            "text/plain": [
              "<Figure size 432x288 with 1 Axes>"
            ]
          },
          "metadata": {
            "needs_background": "light"
          }
        }
      ]
    },
    {
      "cell_type": "markdown",
      "metadata": {
        "id": "_g4dLopW0Sg8"
      },
      "source": [
        "Unix Time as of Sept 27, 2017: 1506191400\n",
        "Sept 19: 1632067522"
      ]
    },
    {
      "cell_type": "markdown",
      "metadata": {
        "id": "9NqwnvZBfSKd"
      },
      "source": [
        "Months Elapsed since IronMarch was Shutdown"
      ]
    },
    {
      "cell_type": "code",
      "metadata": {
        "id": "xFgo_Td6xqdG"
      },
      "source": [
        "orig_members['recency'] = 2592000/(1506191400-orig_members['last_activity'])"
      ],
      "execution_count": null,
      "outputs": []
    },
    {
      "cell_type": "code",
      "metadata": {
        "id": "ooZD9Ft5z_sM",
        "colab": {
          "base_uri": "https://localhost:8080/"
        },
        "outputId": "46c3cbeb-67fe-4441-9e80-b15b3fa3c270"
      },
      "source": [
        "orig_members['recency'].describe()"
      ],
      "execution_count": null,
      "outputs": [
        {
          "output_type": "execute_result",
          "data": {
            "text/plain": [
              "count    763.000000\n",
              "mean       0.037307\n",
              "std        0.014480\n",
              "min        0.013762\n",
              "25%        0.022328\n",
              "50%        0.039957\n",
              "75%        0.052378\n",
              "max        0.054744\n",
              "Name: recency, dtype: float64"
            ]
          },
          "metadata": {},
          "execution_count": 15
        }
      ]
    },
    {
      "cell_type": "code",
      "metadata": {
        "colab": {
          "base_uri": "https://localhost:8080/",
          "height": 296
        },
        "id": "kWfojfIHfLmv",
        "outputId": "eb495b2c-4db8-45c7-9f5c-adbff84c8b39"
      },
      "source": [
        "plt.hist(orig_members['recency'])\n",
        "plt.xlabel('Receny Score (Unormalised)')\n",
        "plt.ylabel(\"Number of People\")"
      ],
      "execution_count": null,
      "outputs": [
        {
          "output_type": "execute_result",
          "data": {
            "text/plain": [
              "Text(0, 0.5, 'Number of People')"
            ]
          },
          "metadata": {},
          "execution_count": 16
        },
        {
          "output_type": "display_data",
          "data": {
            "image/png": "[encoded data removed]",
            "text/plain": [
              "<Figure size 432x288 with 1 Axes>"
            ]
          },
          "metadata": {
            "needs_background": "light"
          }
        }
      ]
    },
    {
      "cell_type": "code",
      "metadata": {
        "id": "L5D8ky4r2RdV"
      },
      "source": [
        "orig_members['n_recency'] = (orig_members['recency']-min(orig_members['recency']))/(max(orig_members['recency'])-min(orig_members['recency']))"
      ],
      "execution_count": null,
      "outputs": []
    },
    {
      "cell_type": "code",
      "metadata": {
        "colab": {
          "base_uri": "https://localhost:8080/",
          "height": 296
        },
        "id": "O3_wUN312ecp",
        "outputId": "4faded99-db85-4590-d64e-eef28a72de8b"
      },
      "source": [
        "plt.hist(orig_members['n_recency'])\n",
        "plt.xlabel('Receny Score (Normalised)')\n",
        "plt.ylabel(\"Number of People\")"
      ],
      "execution_count": null,
      "outputs": [
        {
          "output_type": "execute_result",
          "data": {
            "text/plain": [
              "Text(0, 0.5, 'Number of People')"
            ]
          },
          "metadata": {},
          "execution_count": 18
        },
        {
          "output_type": "display_data",
          "data": {
            "image/png": "[encoded data removed]",
            "text/plain": [
              "<Figure size 432x288 with 1 Axes>"
            ]
          },
          "metadata": {
            "needs_background": "light"
          }
        }
      ]
    },
    {
      "cell_type": "markdown",
      "metadata": {
        "id": "oB6mI6WK1JZk"
      },
      "source": [
        "# Popularity"
      ]
    },
    {
      "cell_type": "markdown",
      "metadata": {
        "id": "K9iGGL0-1bB8"
      },
      "source": [
        "#### Number of Feedback: Since we don't have ratings for every person, would it make sense to look at profile views?"
      ]
    },
    {
      "cell_type": "code",
      "metadata": {
        "id": "POnO2AqPcarQ"
      },
      "source": [
        "orig_members['popular'] = orig_members['members_profile_views'] *orig_members['months_activity_period']"
      ],
      "execution_count": null,
      "outputs": []
    },
    {
      "cell_type": "markdown",
      "metadata": {
        "id": "JVYbspavUypP"
      },
      "source": [
        "Taking Log"
      ]
    },
    {
      "cell_type": "code",
      "metadata": {
        "colab": {
          "base_uri": "https://localhost:8080/",
          "height": 296
        },
        "id": "E_LX3NhH4D6x",
        "outputId": "5a9215b9-2e0e-4098-a409-826521166602"
      },
      "source": [
        "plt.hist(np.log(orig_members['popular'].round(0).replace(to_replace=0, value=np.nan)))\n",
        "plt.xlabel(\"Unnormalised Score: Popular\")\n",
        "plt.ylabel(\"Count of People\")"
      ],
      "execution_count": null,
      "outputs": [
        {
          "output_type": "execute_result",
          "data": {
            "text/plain": [
              "Text(0, 0.5, 'Count of People')"
            ]
          },
          "metadata": {},
          "execution_count": 20
        },
        {
          "output_type": "display_data",
          "data": {
            "image/png": "[encoded data removed]",
            "text/plain": [
              "<Figure size 432x288 with 1 Axes>"
            ]
          },
          "metadata": {
            "needs_background": "light"
          }
        }
      ]
    },
    {
      "cell_type": "code",
      "metadata": {
        "id": "cjMbY2Q24OD9"
      },
      "source": [
        "orig_members['popular'] =1+ np.log(orig_members['popular'].round(0).replace(to_replace=0, value=np.nan))\n",
        "orig_members['n_popular'] = (orig_members['popular']-min(orig_members['popular']))/(max(orig_members['popular'])-min(orig_members['popular']))"
      ],
      "execution_count": null,
      "outputs": []
    },
    {
      "cell_type": "code",
      "metadata": {
        "colab": {
          "base_uri": "https://localhost:8080/",
          "height": 296
        },
        "id": "1_6MD20Y4XyQ",
        "outputId": "c6b40e51-d036-45fa-f9fc-c1a57feeefa8"
      },
      "source": [
        "plt.hist(orig_members['n_popular'])\n",
        "plt.xlabel(\"Normalised Score: Popular\")\n",
        "plt.ylabel(\"Count of People\")"
      ],
      "execution_count": null,
      "outputs": [
        {
          "output_type": "execute_result",
          "data": {
            "text/plain": [
              "Text(0, 0.5, 'Count of People')"
            ]
          },
          "metadata": {},
          "execution_count": 22
        },
        {
          "output_type": "display_data",
          "data": {
            "image/png": "[encoded data removed]",
            "text/plain": [
              "<Figure size 432x288 with 1 Axes>"
            ]
          },
          "metadata": {
            "needs_background": "light"
          }
        }
      ]
    },
    {
      "cell_type": "markdown",
      "metadata": {
        "id": "dsTKVm_4VdhX"
      },
      "source": [
        "# Final Dataset"
      ]
    },
    {
      "cell_type": "code",
      "metadata": {
        "colab": {
          "base_uri": "https://localhost:8080/",
          "height": 478
        },
        "id": "L7-sThI7VfV_",
        "outputId": "e39f21bd-491b-4f3c-b20a-c7aa0cc7a316"
      },
      "source": [
        "orig_members"
      ],
      "execution_count": null,
      "outputs": [
        {
          "output_type": "execute_result",
          "data": {
            "text/html": [
              "<div>\n",
              "<style scoped>\n",
              "    .dataframe tbody tr th:only-of-type {\n",
              "        vertical-align: middle;\n",
              "    }\n",
              "\n",
              "    .dataframe tbody tr th {\n",
              "        vertical-align: top;\n",
              "    }\n",
              "\n",
              "    .dataframe thead th {\n",
              "        text-align: right;\n",
              "    }\n",
              "</style>\n",
              "<table border=\"1\" class=\"dataframe\">\n",
              "  <thead>\n",
              "    <tr style=\"text-align: right;\">\n",
              "      <th></th>\n",
              "      <th>member_id</th>\n",
              "      <th>name</th>\n",
              "      <th>joined</th>\n",
              "      <th>last_post</th>\n",
              "      <th>last_visit</th>\n",
              "      <th>last_activity</th>\n",
              "      <th>members_profile_views</th>\n",
              "      <th>months_activity_period</th>\n",
              "      <th>recency</th>\n",
              "      <th>n_recency</th>\n",
              "      <th>popular</th>\n",
              "      <th>n_popular</th>\n",
              "    </tr>\n",
              "  </thead>\n",
              "  <tbody>\n",
              "    <tr>\n",
              "      <th>0</th>\n",
              "      <td>1</td>\n",
              "      <td>Alexander Slavros</td>\n",
              "      <td>1315842419</td>\n",
              "      <td>1.458503e+09</td>\n",
              "      <td>1458844549</td>\n",
              "      <td>1458843863</td>\n",
              "      <td>109177</td>\n",
              "      <td>55.170310</td>\n",
              "      <td>0.054744</td>\n",
              "      <td>1.000000</td>\n",
              "      <td>15.611151</td>\n",
              "      <td>1.000000</td>\n",
              "    </tr>\n",
              "    <tr>\n",
              "      <th>1</th>\n",
              "      <td>2</td>\n",
              "      <td>Kacen</td>\n",
              "      <td>1315842750</td>\n",
              "      <td>1.443205e+09</td>\n",
              "      <td>1457154323</td>\n",
              "      <td>1458153680</td>\n",
              "      <td>11420</td>\n",
              "      <td>54.903908</td>\n",
              "      <td>0.053958</td>\n",
              "      <td>0.980808</td>\n",
              "      <td>13.348707</td>\n",
              "      <td>0.855075</td>\n",
              "    </tr>\n",
              "    <tr>\n",
              "      <th>2</th>\n",
              "      <td>3</td>\n",
              "      <td>Blood and Iron</td>\n",
              "      <td>1315851011</td>\n",
              "      <td>1.449196e+09</td>\n",
              "      <td>1453607403</td>\n",
              "      <td>1453861982</td>\n",
              "      <td>4467</td>\n",
              "      <td>53.244973</td>\n",
              "      <td>0.049532</td>\n",
              "      <td>0.872828</td>\n",
              "      <td>12.379374</td>\n",
              "      <td>0.792983</td>\n",
              "    </tr>\n",
              "    <tr>\n",
              "      <th>3</th>\n",
              "      <td>4</td>\n",
              "      <td>Mierce</td>\n",
              "      <td>1315859255</td>\n",
              "      <td>1.456787e+09</td>\n",
              "      <td>1458044716</td>\n",
              "      <td>1458142748</td>\n",
              "      <td>7483</td>\n",
              "      <td>54.893323</td>\n",
              "      <td>0.053945</td>\n",
              "      <td>0.980508</td>\n",
              "      <td>12.925781</td>\n",
              "      <td>0.827984</td>\n",
              "    </tr>\n",
              "    <tr>\n",
              "      <th>4</th>\n",
              "      <td>5</td>\n",
              "      <td>Will to Power</td>\n",
              "      <td>1315861097</td>\n",
              "      <td>1.327590e+09</td>\n",
              "      <td>1328201971</td>\n",
              "      <td>1328493137</td>\n",
              "      <td>1318</td>\n",
              "      <td>4.873472</td>\n",
              "      <td>0.014587</td>\n",
              "      <td>0.020119</td>\n",
              "      <td>8.767641</td>\n",
              "      <td>0.561627</td>\n",
              "    </tr>\n",
              "    <tr>\n",
              "      <th>...</th>\n",
              "      <td>...</td>\n",
              "      <td>...</td>\n",
              "      <td>...</td>\n",
              "      <td>...</td>\n",
              "      <td>...</td>\n",
              "      <td>...</td>\n",
              "      <td>...</td>\n",
              "      <td>...</td>\n",
              "      <td>...</td>\n",
              "      <td>...</td>\n",
              "      <td>...</td>\n",
              "      <td>...</td>\n",
              "    </tr>\n",
              "    <tr>\n",
              "      <th>758</th>\n",
              "      <td>9956</td>\n",
              "      <td>Hagan</td>\n",
              "      <td>1458239811</td>\n",
              "      <td>NaN</td>\n",
              "      <td>1458634544</td>\n",
              "      <td>1458770188</td>\n",
              "      <td>16</td>\n",
              "      <td>0.204621</td>\n",
              "      <td>0.054659</td>\n",
              "      <td>0.997925</td>\n",
              "      <td>1.098612</td>\n",
              "      <td>0.070374</td>\n",
              "    </tr>\n",
              "    <tr>\n",
              "      <th>759</th>\n",
              "      <td>9957</td>\n",
              "      <td>TheGreatJeff</td>\n",
              "      <td>1458326928</td>\n",
              "      <td>NaN</td>\n",
              "      <td>1458326988</td>\n",
              "      <td>1458337699</td>\n",
              "      <td>11</td>\n",
              "      <td>0.004155</td>\n",
              "      <td>0.054165</td>\n",
              "      <td>0.985871</td>\n",
              "      <td>NaN</td>\n",
              "      <td>NaN</td>\n",
              "    </tr>\n",
              "    <tr>\n",
              "      <th>760</th>\n",
              "      <td>9959</td>\n",
              "      <td>Kokuryukai</td>\n",
              "      <td>1458377324</td>\n",
              "      <td>NaN</td>\n",
              "      <td>1458377324</td>\n",
              "      <td>1458377324</td>\n",
              "      <td>2</td>\n",
              "      <td>0.000000</td>\n",
              "      <td>0.054210</td>\n",
              "      <td>0.986966</td>\n",
              "      <td>NaN</td>\n",
              "      <td>NaN</td>\n",
              "    </tr>\n",
              "    <tr>\n",
              "      <th>761</th>\n",
              "      <td>9958</td>\n",
              "      <td>BlackNazi</td>\n",
              "      <td>1458348314</td>\n",
              "      <td>NaN</td>\n",
              "      <td>1458701223</td>\n",
              "      <td>1458750459</td>\n",
              "      <td>36</td>\n",
              "      <td>0.155149</td>\n",
              "      <td>0.054636</td>\n",
              "      <td>0.997370</td>\n",
              "      <td>1.791759</td>\n",
              "      <td>0.114774</td>\n",
              "    </tr>\n",
              "    <tr>\n",
              "      <th>762</th>\n",
              "      <td>9960</td>\n",
              "      <td>Breivik V.2</td>\n",
              "      <td>1458414702</td>\n",
              "      <td>NaN</td>\n",
              "      <td>1458690648</td>\n",
              "      <td>1458705445</td>\n",
              "      <td>7</td>\n",
              "      <td>0.112169</td>\n",
              "      <td>0.054585</td>\n",
              "      <td>0.996106</td>\n",
              "      <td>0.000000</td>\n",
              "      <td>0.000000</td>\n",
              "    </tr>\n",
              "  </tbody>\n",
              "</table>\n",
              "<p>763 rows × 12 columns</p>\n",
              "</div>"
            ],
            "text/plain": [
              "     member_id               name      joined  ...  n_recency    popular  n_popular\n",
              "0            1  Alexander Slavros  1315842419  ...   1.000000  15.611151   1.000000\n",
              "1            2              Kacen  1315842750  ...   0.980808  13.348707   0.855075\n",
              "2            3     Blood and Iron  1315851011  ...   0.872828  12.379374   0.792983\n",
              "3            4             Mierce  1315859255  ...   0.980508  12.925781   0.827984\n",
              "4            5      Will to Power  1315861097  ...   0.020119   8.767641   0.561627\n",
              "..         ...                ...         ...  ...        ...        ...        ...\n",
              "758       9956              Hagan  1458239811  ...   0.997925   1.098612   0.070374\n",
              "759       9957       TheGreatJeff  1458326928  ...   0.985871        NaN        NaN\n",
              "760       9959         Kokuryukai  1458377324  ...   0.986966        NaN        NaN\n",
              "761       9958          BlackNazi  1458348314  ...   0.997370   1.791759   0.114774\n",
              "762       9960        Breivik V.2  1458414702  ...   0.996106   0.000000   0.000000\n",
              "\n",
              "[763 rows x 12 columns]"
            ]
          },
          "metadata": {},
          "execution_count": 38
        }
      ]
    },
    {
      "cell_type": "code",
      "metadata": {
        "id": "JG7q3Cfql__a"
      },
      "source": [
        "orig_members = orig_members.replace(to_replace=np.nan, value=0)"
      ],
      "execution_count": null,
      "outputs": []
    },
    {
      "cell_type": "code",
      "metadata": {
        "id": "reuIwt-_VgIE"
      },
      "source": [
        "orig_members.to_csv(\"/content/drive/MyDrive/text gcn/created_csv/ironmarch/orig_score_rec_pop.csv\")"
      ],
      "execution_count": null,
      "outputs": []
    },
    {
      "cell_type": "code",
      "metadata": {
        "id": "AokxUvrBr4B1"
      },
      "source": [
        ""
      ],
      "execution_count": null,
      "outputs": []
    }
  ]
}