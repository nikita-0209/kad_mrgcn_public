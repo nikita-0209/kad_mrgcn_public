{
  "cells": [
    {
      "cell_type": "code",
      "execution_count": null,
      "metadata": {
        "id": "shrpcgY3w95s"
      },
      "outputs": [],
      "source": [
        "import pandas as pd\n",
        "import numpy as np\n",
        "import matplotlib.pyplot as plt\n",
        "%matplotlib inline\n",
        "import os\n",
        "import requests \n",
        "import io\n",
        "import seaborn as sns"
      ]
    },
    {
      "cell_type": "code",
      "execution_count": null,
      "metadata": {
        "id": "ECRhNTj_xDDh"
      },
      "outputs": [],
      "source": [
        "orig_members = pd.read_csv('kad_mrgcn_public/data/ironmarch/raw_files/orig_members.csv')"
      ]
    },
    {
      "cell_type": "code",
      "execution_count": null,
      "metadata": {
        "id": "ButpK3pjxEye"
      },
      "outputs": [],
      "source": [
        "sorted_member_id = orig_members['member_id'].sort_values()\n",
        "member_id_map ={}\n",
        "start_id = 1\n",
        "for id in sorted_member_id:\n",
        "  member_id_map[id] = start_id\n",
        "  start_id = start_id + 1"
      ]
    },
    {
      "cell_type": "markdown",
      "metadata": {
        "id": "x8D4HUajYD3w"
      },
      "source": [
        "# Posts"
      ]
    },
    {
      "cell_type": "markdown",
      "metadata": {
        "id": "S7j_NTi2x3fF"
      },
      "source": [
        "### Topic: Starter_Id Mapping"
      ]
    },
    {
      "cell_type": "code",
      "execution_count": null,
      "metadata": {
        "id": "ufkhG7REyCtf"
      },
      "outputs": [],
      "source": [
        "orig_topics = pd.read_csv(\"kad_mrgcn_public/data/ironmarch/raw_files/orig_topics.csv\", error_bad_lines=False)"
      ]
    },
    {
      "cell_type": "code",
      "execution_count": null,
      "metadata": {
        "colab": {
          "base_uri": "https://localhost:8080/"
        },
        "id": "lRR7Og1BzAW8",
        "outputId": "afddb196-1871-4721-a0cc-a85bbc35a79b"
      },
      "outputs": [
        {
          "name": "stdout",
          "output_type": "stream",
          "text": [
            "<class 'pandas.core.frame.DataFrame'>\n",
            "RangeIndex: 5073 entries, 0 to 5072\n",
            "Data columns (total 37 columns):\n",
            " #   Column                Non-Null Count  Dtype  \n",
            "---  ------                --------------  -----  \n",
            " 0   Unnamed: 0            5073 non-null   int64  \n",
            " 1   tid                   5073 non-null   int64  \n",
            " 2   title                 5073 non-null   object \n",
            " 3   description           0 non-null      float64\n",
            " 4   state                 5073 non-null   object \n",
            " 5   posts                 5073 non-null   int64  \n",
            " 6   starter_id            5073 non-null   int64  \n",
            " 7   start_date            5073 non-null   int64  \n",
            " 8   last_poster_id        5073 non-null   int64  \n",
            " 9   last_post             5073 non-null   int64  \n",
            " 10  icon_id               46 non-null     float64\n",
            " 11  starter_name          5073 non-null   object \n",
            " 12  last_poster_name      5073 non-null   object \n",
            " 13  poll_state            5073 non-null   int64  \n",
            " 14  last_vote             5073 non-null   int64  \n",
            " 15  views                 5073 non-null   int64  \n",
            " 16  forum_id              5073 non-null   int64  \n",
            " 17  approved              5073 non-null   int64  \n",
            " 18  author_mode           5073 non-null   int64  \n",
            " 19  pinned                5073 non-null   int64  \n",
            " 20  moved_to              0 non-null      float64\n",
            " 21  topic_hasattach       5073 non-null   int64  \n",
            " 22  topic_firstpost       5073 non-null   int64  \n",
            " 23  topic_queuedposts     5073 non-null   int64  \n",
            " 24  topic_open_time       5073 non-null   int64  \n",
            " 25  topic_close_time      5073 non-null   int64  \n",
            " 26  topic_rating_total    5073 non-null   int64  \n",
            " 27  topic_rating_hits     5073 non-null   int64  \n",
            " 28  title_seo             5073 non-null   object \n",
            " 29  seo_last_name         5073 non-null   object \n",
            " 30  seo_first_name        5072 non-null   object \n",
            " 31  topic_deleted_posts   5073 non-null   int64  \n",
            " 32  tdelete_time          5073 non-null   int64  \n",
            " 33  moved_on              5073 non-null   int64  \n",
            " 34  last_real_post        5073 non-null   int64  \n",
            " 35  topic_archive_status  5073 non-null   int64  \n",
            " 36  topic_answered_pid    5073 non-null   int64  \n",
            "dtypes: float64(3), int64(27), object(7)\n",
            "memory usage: 1.4+ MB\n"
          ]
        }
      ],
      "source": [
        "orig_topics.info()"
      ]
    },
    {
      "cell_type": "code",
      "execution_count": null,
      "metadata": {
        "id": "4l53PFbbzE7R"
      },
      "outputs": [],
      "source": [
        "topic_starter_map = {}\n",
        "for index, row in orig_topics.iterrows():\n",
        "  title_id = row['tid']\n",
        "  starter_id = row['starter_id']\n",
        "  topic_starter_map[title_id] = starter_id "
      ]
    },
    {
      "cell_type": "markdown",
      "metadata": {
        "id": "ZSSauncD2zOx"
      },
      "source": [
        "### Topic Starter Database"
      ]
    },
    {
      "cell_type": "code",
      "execution_count": null,
      "metadata": {
        "id": "lAJGF__n21bJ"
      },
      "outputs": [],
      "source": [
        "frame = { 'topic_id': orig_topics['tid'], 'starter_id': orig_topics['starter_id'] }\n",
        "topic_user_db = pd.DataFrame(frame)"
      ]
    },
    {
      "cell_type": "code",
      "execution_count": null,
      "metadata": {
        "colab": {
          "base_uri": "https://localhost:8080/",
          "height": 415
        },
        "id": "ppQHQmJt4DOJ",
        "outputId": "4b174992-591b-464c-e731-0512259a07b5"
      },
      "outputs": [
        {
          "data": {
            "text/html": [
              "<div>\n",
              "<style scoped>\n",
              "    .dataframe tbody tr th:only-of-type {\n",
              "        vertical-align: middle;\n",
              "    }\n",
              "\n",
              "    .dataframe tbody tr th {\n",
              "        vertical-align: top;\n",
              "    }\n",
              "\n",
              "    .dataframe thead th {\n",
              "        text-align: right;\n",
              "    }\n",
              "</style>\n",
              "<table border=\"1\" class=\"dataframe\">\n",
              "  <thead>\n",
              "    <tr style=\"text-align: right;\">\n",
              "      <th></th>\n",
              "      <th>topic_id</th>\n",
              "      <th>starter_id</th>\n",
              "    </tr>\n",
              "  </thead>\n",
              "  <tbody>\n",
              "    <tr>\n",
              "      <th>0</th>\n",
              "      <td>5182</td>\n",
              "      <td>9491</td>\n",
              "    </tr>\n",
              "    <tr>\n",
              "      <th>1</th>\n",
              "      <td>3</td>\n",
              "      <td>1</td>\n",
              "    </tr>\n",
              "    <tr>\n",
              "      <th>2</th>\n",
              "      <td>3674</td>\n",
              "      <td>7346</td>\n",
              "    </tr>\n",
              "    <tr>\n",
              "      <th>3</th>\n",
              "      <td>7</td>\n",
              "      <td>1</td>\n",
              "    </tr>\n",
              "    <tr>\n",
              "      <th>4</th>\n",
              "      <td>8</td>\n",
              "      <td>1</td>\n",
              "    </tr>\n",
              "    <tr>\n",
              "      <th>...</th>\n",
              "      <td>...</td>\n",
              "      <td>...</td>\n",
              "    </tr>\n",
              "    <tr>\n",
              "      <th>5068</th>\n",
              "      <td>6220</td>\n",
              "      <td>9939</td>\n",
              "    </tr>\n",
              "    <tr>\n",
              "      <th>5069</th>\n",
              "      <td>6219</td>\n",
              "      <td>9304</td>\n",
              "    </tr>\n",
              "    <tr>\n",
              "      <th>5070</th>\n",
              "      <td>6222</td>\n",
              "      <td>9353</td>\n",
              "    </tr>\n",
              "    <tr>\n",
              "      <th>5071</th>\n",
              "      <td>6223</td>\n",
              "      <td>9916</td>\n",
              "    </tr>\n",
              "    <tr>\n",
              "      <th>5072</th>\n",
              "      <td>6224</td>\n",
              "      <td>9931</td>\n",
              "    </tr>\n",
              "  </tbody>\n",
              "</table>\n",
              "<p>5073 rows × 2 columns</p>\n",
              "</div>"
            ],
            "text/plain": [
              "      topic_id  starter_id\n",
              "0         5182        9491\n",
              "1            3           1\n",
              "2         3674        7346\n",
              "3            7           1\n",
              "4            8           1\n",
              "...        ...         ...\n",
              "5068      6220        9939\n",
              "5069      6219        9304\n",
              "5070      6222        9353\n",
              "5071      6223        9916\n",
              "5072      6224        9931\n",
              "\n",
              "[5073 rows x 2 columns]"
            ]
          },
          "execution_count": 48,
          "metadata": {},
          "output_type": "execute_result"
        }
      ],
      "source": [
        "topic_user_db"
      ]
    },
    {
      "cell_type": "markdown",
      "metadata": {
        "id": "MSgCC_jg9fGd"
      },
      "source": [
        "### Associating a Starter_Id with every Post"
      ]
    },
    {
      "cell_type": "code",
      "execution_count": null,
      "metadata": {
        "id": "BNx3ZDAX9nJG"
      },
      "outputs": [],
      "source": [
        "orig_posts = pd.read_csv(\"kad_mrgcn_public/data/ironmarch/raw_files/orig_posts.csv\", error_bad_lines=False)"
      ]
    },
    {
      "cell_type": "code",
      "execution_count": null,
      "metadata": {
        "colab": {
          "base_uri": "https://localhost:8080/"
        },
        "id": "7NmWWjm59vSv",
        "outputId": "f6e360e4-a451-41b1-a9a6-b7b62261da1b"
      },
      "outputs": [
        {
          "name": "stdout",
          "output_type": "stream",
          "text": [
            "<class 'pandas.core.frame.DataFrame'>\n",
            "RangeIndex: 139068 entries, 0 to 139067\n",
            "Data columns (total 25 columns):\n",
            " #   Column            Non-Null Count   Dtype  \n",
            "---  ------            --------------   -----  \n",
            " 0   Unnamed: 0        139068 non-null  int64  \n",
            " 1   pid               139068 non-null  int64  \n",
            " 2   append_edit       139068 non-null  int64  \n",
            " 3   edit_time         32550 non-null   float64\n",
            " 4   author_id         139068 non-null  int64  \n",
            " 5   author_name       139068 non-null  object \n",
            " 6   use_sig           139068 non-null  int64  \n",
            " 7   use_emo           139068 non-null  int64  \n",
            " 8   ip_address        139068 non-null  object \n",
            " 9   post_date         139068 non-null  int64  \n",
            " 10  icon_id           0 non-null       float64\n",
            " 11  post              139068 non-null  object \n",
            " 12  queued            139068 non-null  int64  \n",
            " 13  topic_id          139068 non-null  int64  \n",
            " 14  post_title        0 non-null       float64\n",
            " 15  new_topic         139068 non-null  int64  \n",
            " 16  edit_name         32550 non-null   object \n",
            " 17  post_key          139068 non-null  object \n",
            " 18  post_htmlstate    139068 non-null  int64  \n",
            " 19  post_edit_reason  258 non-null     object \n",
            " 20  post_bwoptions    139068 non-null  int64  \n",
            " 21  pdelete_time      139068 non-null  int64  \n",
            " 22  post_field_int    139068 non-null  int64  \n",
            " 23  post_field_t1     0 non-null       float64\n",
            " 24  post_field_t2     0 non-null       float64\n",
            "dtypes: float64(5), int64(14), object(6)\n",
            "memory usage: 26.5+ MB\n"
          ]
        }
      ],
      "source": [
        "orig_posts.info()"
      ]
    },
    {
      "cell_type": "code",
      "execution_count": null,
      "metadata": {
        "id": "ZRwe9qXc93Eb"
      },
      "outputs": [],
      "source": [
        "orig_posts.drop(orig_posts.columns[[0, 2, 3, 5, 6, 7, 8, 9, 10, 11, 12, 14, 15, 16, 17, 18, 19, 20, 21, 22, 23, 24]], axis = 1, inplace = True)"
      ]
    },
    {
      "cell_type": "code",
      "execution_count": null,
      "metadata": {
        "colab": {
          "base_uri": "https://localhost:8080/"
        },
        "id": "-oFuGv_Q-NP4",
        "outputId": "7a92600d-b087-4ce2-8de4-4ef057b6e21d"
      },
      "outputs": [
        {
          "name": "stdout",
          "output_type": "stream",
          "text": [
            "<class 'pandas.core.frame.DataFrame'>\n",
            "RangeIndex: 139068 entries, 0 to 139067\n",
            "Data columns (total 3 columns):\n",
            " #   Column     Non-Null Count   Dtype\n",
            "---  ------     --------------   -----\n",
            " 0   pid        139068 non-null  int64\n",
            " 1   author_id  139068 non-null  int64\n",
            " 2   topic_id   139068 non-null  int64\n",
            "dtypes: int64(3)\n",
            "memory usage: 3.2 MB\n"
          ]
        }
      ],
      "source": [
        "orig_posts.info()"
      ]
    },
    {
      "cell_type": "code",
      "execution_count": null,
      "metadata": {
        "id": "KlXN5o1Y-Vth"
      },
      "outputs": [],
      "source": [
        "topic_author_starter = pd.merge(orig_posts,topic_user_db,on='topic_id',how='left')"
      ]
    },
    {
      "cell_type": "code",
      "execution_count": null,
      "metadata": {
        "id": "anXA3n-8-1cE"
      },
      "outputs": [],
      "source": [
        "topic_author_starter = topic_author_starter.dropna()"
      ]
    },
    {
      "cell_type": "code",
      "execution_count": null,
      "metadata": {
        "colab": {
          "base_uri": "https://localhost:8080/"
        },
        "id": "uRxSSOgG-wM3",
        "outputId": "c6b52eb0-d6f3-45b8-eae7-b7275294db82"
      },
      "outputs": [
        {
          "name": "stdout",
          "output_type": "stream",
          "text": [
            "<class 'pandas.core.frame.DataFrame'>\n",
            "Int64Index: 139050 entries, 0 to 139067\n",
            "Data columns (total 4 columns):\n",
            " #   Column      Non-Null Count   Dtype  \n",
            "---  ------      --------------   -----  \n",
            " 0   pid         139050 non-null  int64  \n",
            " 1   author_id   139050 non-null  int64  \n",
            " 2   topic_id    139050 non-null  int64  \n",
            " 3   starter_id  139050 non-null  float64\n",
            "dtypes: float64(1), int64(3)\n",
            "memory usage: 5.3 MB\n"
          ]
        }
      ],
      "source": [
        "# let's check the final contents of the file\n",
        "topic_author_starter.info()"
      ]
    },
    {
      "cell_type": "code",
      "execution_count": null,
      "metadata": {
        "id": "x3ng1nd3_Xzb"
      },
      "outputs": [],
      "source": [
        "# saving the dataframe\n",
        "topic_author_starter.to_csv('kad_mrgcn_public/data/ironmarch/processed/orig_topic_author_starter.csv')"
      ]
    },
    {
      "cell_type": "markdown",
      "metadata": {
        "id": "ezJwFRzL5SA1"
      },
      "source": [
        "### Topic to Every User Except Starter\n",
        "We make a mapping between topicID and the userIDs. It does not make sense to make a dataframe here as we do not know the number of users possible for a aprticular topic"
      ]
    },
    {
      "cell_type": "code",
      "execution_count": null,
      "metadata": {
        "id": "g5YqLUZY5RMY"
      },
      "outputs": [],
      "source": [
        "topic_user_map = {}\n",
        "for index, row in topic_author_starter.iterrows():\n",
        "  title_id = row['topic_id']\n",
        "  user_id = row['author_id']\n",
        "\n",
        "  # if the considered user is not the starter\n",
        "  if topic_starter_map[title_id] != user_id:\n",
        "    \n",
        "    # if this title is being considered for the first time, we need to first initialise the list\n",
        "    if title_id not in topic_user_map:\n",
        "      topic_user_map[title_id] = []\n",
        "    topic_user_map[title_id].append(user_id)"
      ]
    },
    {
      "cell_type": "markdown",
      "metadata": {
        "id": "8ewLn7bd7xNN"
      },
      "source": [
        "### AdjMatrix"
      ]
    },
    {
      "cell_type": "code",
      "execution_count": null,
      "metadata": {
        "id": "5Q0THIvF8BO1"
      },
      "outputs": [],
      "source": [
        "adjMatrix = np.zeros((orig_members.shape[0], orig_members.shape[0]))"
      ]
    },
    {
      "cell_type": "markdown",
      "metadata": {
        "id": "Kdzyubvq71gm"
      },
      "source": [
        "### Starter to Authors"
      ]
    },
    {
      "cell_type": "code",
      "execution_count": null,
      "metadata": {
        "id": "oT3H-07X70uu"
      },
      "outputs": [],
      "source": [
        "for index, row in topic_author_starter.iterrows():\n",
        "  from_id = row['author_id']\n",
        "  to_id = row['starter_id']\n",
        "  \n",
        "  # do not need self edges, ie, user == starter\n",
        "  # do not need ids which are not present in orig_members\n",
        "  if to_id not in member_id_map or from_id not in member_id_map or from_id==to_id:\n",
        "    continue\n",
        "\n",
        "  from_mapping = member_id_map[from_id]\n",
        "  to_mapping = member_id_map[to_id]\n",
        "  adjMatrix[from_mapping-1][to_mapping-1] +=1"
      ]
    },
    {
      "cell_type": "markdown",
      "metadata": {
        "id": "DMN9oOE_EOHh"
      },
      "source": [
        "### Sparsity of AdjMatrix from Indirect Connections"
      ]
    },
    {
      "cell_type": "code",
      "execution_count": null,
      "metadata": {
        "colab": {
          "base_uri": "https://localhost:8080/"
        },
        "id": "LfyzC2VTEI4c",
        "outputId": "278fe294-0348-444d-c009-3cbd28b4804f"
      },
      "outputs": [
        {
          "data": {
            "text/plain": [
              "0.9568939603448483"
            ]
          },
          "execution_count": 63,
          "metadata": {},
          "output_type": "execute_result"
        }
      ],
      "source": [
        "countZero = adjMatrix[np.where(adjMatrix == 0)].size\n",
        "countTotal = adjMatrix.shape[0]*adjMatrix.shape[1]\n",
        "countZero/countTotal"
      ]
    },
    {
      "cell_type": "code",
      "execution_count": null,
      "metadata": {
        "id": "DKKppJ8kaNfO"
      },
      "outputs": [],
      "source": [
        "np.save(\"kad_mrgcn_public/data/ironmarch/adjMatrix/adjMatrix_creator_post\", adjMatrix)"
      ]
    },
    {
      "cell_type": "markdown",
      "metadata": {
        "id": "JrAIXgteHdQK"
      },
      "source": [
        "## Message Posts"
      ]
    },
    {
      "cell_type": "markdown",
      "metadata": {
        "id": "gz6lXKLcJruI"
      },
      "source": [
        "Similar analysis for message posts."
      ]
    },
    {
      "cell_type": "code",
      "execution_count": null,
      "metadata": {
        "id": "f-P4ZawyY-9D"
      },
      "outputs": [],
      "source": [
        "adjMatrix = np.zeros((orig_members.shape[0], orig_members.shape[0]))"
      ]
    },
    {
      "cell_type": "code",
      "execution_count": null,
      "metadata": {
        "id": "VAA7-wkDHe6Z"
      },
      "outputs": [],
      "source": [
        "orig_message_posts = pd.read_csv(\"kad_mrgcn_public/data/ironmarch/raw_files/orig_message_posts.csv\", error_bad_lines=False)"
      ]
    },
    {
      "cell_type": "code",
      "execution_count": null,
      "metadata": {
        "colab": {
          "base_uri": "https://localhost:8080/"
        },
        "id": "e0l79Z3YHmpP",
        "outputId": "dfd18c36-6bf9-4608-c0de-ec67e436aae2"
      },
      "outputs": [
        {
          "name": "stdout",
          "output_type": "stream",
          "text": [
            "<class 'pandas.core.frame.DataFrame'>\n",
            "RangeIndex: 13341 entries, 0 to 13340\n",
            "Data columns (total 9 columns):\n",
            " #   Column             Non-Null Count  Dtype \n",
            "---  ------             --------------  ----- \n",
            " 0   Unnamed: 0         13341 non-null  int64 \n",
            " 1   msg_id             13341 non-null  int64 \n",
            " 2   msg_topic_id       13341 non-null  int64 \n",
            " 3   msg_date           13341 non-null  int64 \n",
            " 4   msg_post           13341 non-null  object\n",
            " 5   msg_post_key       13341 non-null  object\n",
            " 6   msg_author_id      13341 non-null  int64 \n",
            " 7   msg_ip_address     13341 non-null  object\n",
            " 8   msg_is_first_post  13341 non-null  int64 \n",
            "dtypes: int64(6), object(3)\n",
            "memory usage: 938.2+ KB\n"
          ]
        }
      ],
      "source": [
        "orig_message_posts.info()"
      ]
    },
    {
      "cell_type": "code",
      "execution_count": null,
      "metadata": {
        "id": "lR48rj7fH7ha"
      },
      "outputs": [],
      "source": [
        "orig_message_posts.drop(orig_message_posts.columns[[0, 3, 4, 5, 7, 8]], axis = 1, inplace = True)"
      ]
    },
    {
      "cell_type": "code",
      "execution_count": null,
      "metadata": {
        "id": "rAcK62PCImQU"
      },
      "outputs": [],
      "source": [
        "orig_message_posts = orig_message_posts.rename(columns={'msg_topic_id':'topic_id'})"
      ]
    },
    {
      "cell_type": "code",
      "execution_count": null,
      "metadata": {
        "colab": {
          "base_uri": "https://localhost:8080/"
        },
        "id": "ust885d2ZYOx",
        "outputId": "0d623048-3b70-4cda-eb9f-43f6fc9ced66"
      },
      "outputs": [
        {
          "name": "stdout",
          "output_type": "stream",
          "text": [
            "<class 'pandas.core.frame.DataFrame'>\n",
            "RangeIndex: 13341 entries, 0 to 13340\n",
            "Data columns (total 3 columns):\n",
            " #   Column         Non-Null Count  Dtype\n",
            "---  ------         --------------  -----\n",
            " 0   msg_id         13341 non-null  int64\n",
            " 1   topic_id       13341 non-null  int64\n",
            " 2   msg_author_id  13341 non-null  int64\n",
            "dtypes: int64(3)\n",
            "memory usage: 312.8 KB\n"
          ]
        }
      ],
      "source": [
        "orig_message_posts.info()"
      ]
    },
    {
      "cell_type": "code",
      "execution_count": null,
      "metadata": {
        "id": "bTUtSu8_YRGs"
      },
      "outputs": [],
      "source": [
        "orig_message_topics = pd.read_csv(\"kad_mrgcn_public/data/ironmarch/raw_files/orig_message_topics.csv\", error_bad_lines=False)\n",
        "mp_topic_starter_map = {}\n",
        "for index, row in orig_message_topics.iterrows():\n",
        "  title_id = row['mt_id']\n",
        "  starter_id = row['mt_starter_id']\n",
        "  mp_topic_starter_map[title_id] = starter_id "
      ]
    },
    {
      "cell_type": "code",
      "execution_count": null,
      "metadata": {
        "id": "rwAm9cdmYnyB"
      },
      "outputs": [],
      "source": [
        "frame = { 'topic_id': orig_message_topics['mt_id'], 'starter_id': orig_message_topics['mt_starter_id'] }\n",
        "mp_topic_user_db = pd.DataFrame(frame)"
      ]
    },
    {
      "cell_type": "code",
      "execution_count": null,
      "metadata": {
        "id": "I9ctrhU0IebP"
      },
      "outputs": [],
      "source": [
        "mp_topic_author_starter = pd.merge(orig_message_posts,mp_topic_user_db,on='topic_id',how='left')"
      ]
    },
    {
      "cell_type": "code",
      "execution_count": null,
      "metadata": {
        "colab": {
          "base_uri": "https://localhost:8080/"
        },
        "id": "SjptfwHPIxQr",
        "outputId": "2ef90c5b-f169-47f8-ebee-c90f60c6cee8"
      },
      "outputs": [
        {
          "data": {
            "text/plain": [
              "msg_id           0\n",
              "topic_id         0\n",
              "msg_author_id    0\n",
              "starter_id       0\n",
              "dtype: int64"
            ]
          },
          "execution_count": 75,
          "metadata": {},
          "output_type": "execute_result"
        }
      ],
      "source": [
        "mp_topic_author_starter.isna().sum()"
      ]
    },
    {
      "cell_type": "code",
      "execution_count": null,
      "metadata": {
        "id": "rcbpqBq9I1FW"
      },
      "outputs": [],
      "source": [
        "# saving the dataframe\n",
        "mp_topic_author_starter.to_csv('kad_mrgcn_public/data/ironmarch/processed/orig_mp_topic_author_starter.csv')"
      ]
    },
    {
      "cell_type": "code",
      "execution_count": null,
      "metadata": {
        "id": "3M5sKYY5I9dH"
      },
      "outputs": [],
      "source": [
        "mp_topic_user_map = {}\n",
        "for index, row in mp_topic_author_starter.iterrows():\n",
        "  title_id = row['topic_id']\n",
        "  user_id = row['msg_author_id']\n",
        "\n",
        "  # if the considered user is not the starter\n",
        "  if mp_topic_starter_map[title_id] != user_id:\n",
        "    \n",
        "    # if this title is being considered for the first time, we need to first initialise the list\n",
        "    if title_id not in mp_topic_user_map:\n",
        "      mp_topic_user_map[title_id] = []\n",
        "    mp_topic_user_map[title_id].append(user_id)"
      ]
    },
    {
      "cell_type": "code",
      "execution_count": null,
      "metadata": {
        "id": "gshlZYnIJTgB"
      },
      "outputs": [],
      "source": [
        "for index, row in mp_topic_author_starter.iterrows():\n",
        "  from_id = row['msg_author_id']\n",
        "  to_id = row['starter_id']\n",
        "  \n",
        "  # do not need self edges, ie, user == starter\n",
        "  # do not need ids which are not present in orig_members\n",
        "  if to_id not in member_id_map or from_id not in member_id_map or from_id==to_id:\n",
        "    continue\n",
        "\n",
        "  from_mapping = member_id_map[from_id]\n",
        "  to_mapping = member_id_map[to_id]\n",
        "  adjMatrix[from_mapping-1][to_mapping-1] +=1"
      ]
    },
    {
      "cell_type": "markdown",
      "metadata": {
        "id": "dkn13A8fJlbD"
      },
      "source": [
        "### Sparsity of AdjMatrix"
      ]
    },
    {
      "cell_type": "code",
      "execution_count": null,
      "metadata": {
        "colab": {
          "base_uri": "https://localhost:8080/"
        },
        "id": "CkiOZ8QTJlbG",
        "outputId": "3a26b194-d570-4a31-ef9e-881ef85ccebc"
      },
      "outputs": [
        {
          "data": {
            "text/plain": [
              "0.9973856388780578"
            ]
          },
          "execution_count": 82,
          "metadata": {},
          "output_type": "execute_result"
        }
      ],
      "source": [
        "countZero = adjMatrix[np.where(adjMatrix == 0)].size\n",
        "countTotal = adjMatrix.shape[0]*adjMatrix.shape[1]\n",
        "countZero/countTotal"
      ]
    },
    {
      "cell_type": "code",
      "execution_count": null,
      "metadata": {
        "id": "v27Y40-FZzQ6"
      },
      "outputs": [],
      "source": [
        "np.save(\"kad_mrgcn_public/data/ironmarch/adjMatrix/adjMatrix_creator_msg_post\", adjMatrix)"
      ]
    }
  ],
  "metadata": {
    "colab": {
      "name": "edges_creator_oriented.ipynb",
      "provenance": []
    },
    "kernelspec": {
      "display_name": "Python 3",
      "name": "python3"
    },
    "language_info": {
      "name": "python"
    }
  },
  "nbformat": 4,
  "nbformat_minor": 0
}
