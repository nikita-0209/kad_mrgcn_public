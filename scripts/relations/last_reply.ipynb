{
  "cells": [
    {
      "cell_type": "code",
      "execution_count": null,
      "metadata": {
        "id": "916c6bKxNY6O"
      },
      "outputs": [],
      "source": [
        "import pandas as pd\n",
        "import numpy as np\n",
        "import matplotlib.pyplot as plt\n",
        "%matplotlib inline\n",
        "import os\n",
        "import requests \n",
        "import io\n",
        "import seaborn as sns"
      ]
    },
    {
      "cell_type": "code",
      "execution_count": null,
      "metadata": {
        "id": "EoTSxz5rNbXb"
      },
      "outputs": [],
      "source": [
        "orig_members = pd.read_csv('/content/drive/MyDrive/text gcn/Hackforum data/CSV Data IronMarch/data_csv/orig_members.csv')"
      ]
    },
    {
      "cell_type": "code",
      "execution_count": null,
      "metadata": {
        "id": "X5xUxWQzNWge"
      },
      "outputs": [],
      "source": [
        "sorted_member_id = orig_members['member_id'].sort_values()\n",
        "member_id_map ={}\n",
        "start_id = 1\n",
        "for id in sorted_member_id:\n",
        "  member_id_map[id] = start_id\n",
        "  start_id = start_id + 1"
      ]
    },
    {
      "cell_type": "code",
      "execution_count": null,
      "metadata": {
        "id": "nmfV5oJgNz-g"
      },
      "outputs": [],
      "source": [
        "orig_message_posts = pd.read_csv('/content/drive/MyDrive/text gcn/Hackforum data/CSV Data IronMarch/data_csv/orig_message_posts.csv')"
      ]
    },
    {
      "cell_type": "code",
      "execution_count": null,
      "metadata": {
        "colab": {
          "base_uri": "https://localhost:8080/"
        },
        "id": "_2ti4G5JOahY",
        "outputId": "4da10945-04d5-47d5-c5bb-08fb655e5665"
      },
      "outputs": [
        {
          "name": "stdout",
          "output_type": "stream",
          "text": [
            "<class 'pandas.core.frame.DataFrame'>\n",
            "RangeIndex: 13341 entries, 0 to 13340\n",
            "Data columns (total 9 columns):\n",
            " #   Column             Non-Null Count  Dtype \n",
            "---  ------             --------------  ----- \n",
            " 0   Unnamed: 0         13341 non-null  int64 \n",
            " 1   msg_id             13341 non-null  int64 \n",
            " 2   msg_topic_id       13341 non-null  int64 \n",
            " 3   msg_date           13341 non-null  int64 \n",
            " 4   msg_post           13341 non-null  object\n",
            " 5   msg_post_key       13341 non-null  object\n",
            " 6   msg_author_id      13341 non-null  int64 \n",
            " 7   msg_ip_address     13341 non-null  object\n",
            " 8   msg_is_first_post  13341 non-null  int64 \n",
            "dtypes: int64(6), object(3)\n",
            "memory usage: 938.2+ KB\n"
          ]
        }
      ],
      "source": [
        "orig_message_posts.info()"
      ]
    },
    {
      "cell_type": "code",
      "execution_count": null,
      "metadata": {
        "id": "DGz4oVgnN4Eu"
      },
      "outputs": [],
      "source": [
        "orig_message_posts.drop(orig_message_posts.columns[[0,3, 4, 5, 7]], axis =1, inplace=True)"
      ]
    },
    {
      "cell_type": "code",
      "execution_count": null,
      "metadata": {
        "id": "Xugo611tN5-e"
      },
      "outputs": [],
      "source": [
        "orig_message_topics = pd.read_csv('/content/drive/MyDrive/text gcn/Hackforum data/CSV Data IronMarch/data_csv/orig_message_topics.csv')\n",
        "orig_message_topics.drop(orig_message_topics.columns[[0, 2, 4, 6, 7, 8, 14, 15, 16]], axis =1, inplace=True)"
      ]
    },
    {
      "cell_type": "code",
      "execution_count": null,
      "metadata": {
        "id": "KL6BODJiOBw_"
      },
      "outputs": [],
      "source": [
        "adjMatrix = np.zeros((orig_members.shape[0], orig_members.shape[0]))"
      ]
    },
    {
      "cell_type": "code",
      "execution_count": null,
      "metadata": {
        "colab": {
          "base_uri": "https://localhost:8080/"
        },
        "id": "zlZ9ELfpRkvx",
        "outputId": "2ce1895d-5e4c-48de-f029-c0914b69dcc5"
      },
      "outputs": [
        {
          "name": "stdout",
          "output_type": "stream",
          "text": [
            "Number of Unique IDs in orig_message_posts\n",
            "506\n",
            "Count of member_IDs present in orig_message_posts and orig_members.\n",
            "504\n",
            "Fraction of incorrect IDs\n",
            "0.0039525691699604515\n"
          ]
        }
      ],
      "source": [
        "print(\"Number of Unique IDs in orig_message_posts\")\n",
        "print(len(orig_message_posts['msg_author_id'].unique()))\n",
        "\n",
        "print(\"Count of member_IDs present in orig_message_posts and orig_members.\")\n",
        "print(np.isin(orig_message_posts['msg_author_id'].unique(), sorted_member_id).sum())\n",
        "# print(len(orig_message_posts.loc[orig_message_posts['msg_author_id'].isin(sorted_member_id)]))\n",
        "\n",
        "print(\"Fraction of incorrect IDs\")\n",
        "print(1-(np.isin(orig_message_posts['msg_author_id'].unique(), sorted_member_id).sum()/len(orig_message_posts['msg_author_id'].unique())))"
      ]
    },
    {
      "cell_type": "code",
      "execution_count": null,
      "metadata": {
        "id": "6GOAo46eN81x"
      },
      "outputs": [],
      "source": [
        "for id in orig_message_posts['msg_topic_id'].unique():\n",
        "  df = orig_message_posts[orig_message_posts['msg_topic_id']==id]\n",
        "\n",
        "  # the message was received by no one\n",
        "  if len(df)<=1:\n",
        "    continue\n",
        "\n",
        "  else:\n",
        "\n",
        "    # iterate over the sub-dataframe\n",
        "    for i in range(len(df)):\n",
        "\n",
        "      # if last row, pass\n",
        "      if i==(len(df)-1):\n",
        "        continue\n",
        "\n",
        "      else:\n",
        "        from_id = df.iloc[i+1]['msg_author_id']\n",
        "        to_id = df.iloc[i]['msg_author_id']\n",
        "        if to_id not in member_id_map or from_id not in member_id_map or from_id == to_id:\n",
        "          continue\n",
        "        from_mapping = member_id_map[from_id]\n",
        "        to_mapping = member_id_map[to_id]\n",
        "        # print(from_mapping, to_mapping)\n",
        "        adjMatrix[from_mapping-1][to_mapping-1] +=1"
      ]
    },
    {
      "cell_type": "code",
      "execution_count": null,
      "metadata": {
        "colab": {
          "base_uri": "https://localhost:8080/"
        },
        "id": "jJ6EArVeajK7",
        "outputId": "7d6343aa-1a98-489b-c2c8-e84480fce6cf"
      },
      "outputs": [
        {
          "data": {
            "text/plain": [
              "0.9958379783190104"
            ]
          },
          "execution_count": 36,
          "metadata": {},
          "output_type": "execute_result"
        }
      ],
      "source": [
        "countZero = adjMatrix[np.where(adjMatrix == 0)].size\n",
        "countTotal = adjMatrix.shape[0]*adjMatrix.shape[1]\n",
        "countZero/countTotal"
      ]
    },
    {
      "cell_type": "code",
      "execution_count": null,
      "metadata": {
        "id": "g7ooygenaeFA"
      },
      "outputs": [],
      "source": [
        "np.save(\"/content/drive/MyDrive/text gcn/adjMatrix/ironmarch/adjMatrix_last_reply_msg_posts\", adjMatrix)"
      ]
    },
    {
      "cell_type": "markdown",
      "metadata": {
        "id": "IeC9HhTZQNTw"
      },
      "source": [
        "## Posts"
      ]
    },
    {
      "cell_type": "markdown",
      "metadata": {},
      "source": [
        "Similar analysis."
      ]
    },
    {
      "cell_type": "code",
      "execution_count": null,
      "metadata": {
        "id": "3-O0V8yWa0Ta"
      },
      "outputs": [],
      "source": [
        "adjMatrix = np.zeros((orig_members.shape[0], orig_members.shape[0]))"
      ]
    },
    {
      "cell_type": "code",
      "execution_count": null,
      "metadata": {
        "id": "EGlktxlmQKUa"
      },
      "outputs": [],
      "source": [
        "orig_posts = pd.read_csv('/content/drive/MyDrive/text gcn/Hackforum data/CSV Data IronMarch/data_csv/orig_posts.csv')\n",
        "orig_posts.drop(orig_posts.columns[[0,1, 2, 3,5, 6, 7, 8, 9, 10, 11, 12, 14, 15, 16, 17, 18, 19, 20, 21, 22, 23, 24]], axis =1, inplace=True)"
      ]
    },
    {
      "cell_type": "code",
      "execution_count": null,
      "metadata": {
        "id": "9UKGLOosQWpN"
      },
      "outputs": [],
      "source": [
        "orig_topics = pd.read_csv('/content/drive/MyDrive/text gcn/Hackforum data/CSV Data IronMarch/data_csv/orig_topics.csv')"
      ]
    },
    {
      "cell_type": "code",
      "execution_count": null,
      "metadata": {
        "colab": {
          "base_uri": "https://localhost:8080/"
        },
        "id": "GuARQDv5UWxk",
        "outputId": "ef41235c-3764-4ba1-9706-7ca110337287"
      },
      "outputs": [
        {
          "name": "stdout",
          "output_type": "stream",
          "text": [
            "Number of Unique IDs in orig_posts\n",
            "734\n",
            "Count of member_IDs present in orig_posts and orig_members.\n",
            "733\n",
            "Fraction of incorrect IDs\n",
            "0.0013623978201634523\n"
          ]
        }
      ],
      "source": [
        "print(\"Number of Unique IDs in orig_posts\")\n",
        "print(len(orig_posts['author_id'].unique()))\n",
        "\n",
        "print(\"Count of member_IDs present in orig_posts and orig_members.\")\n",
        "print(np.isin(orig_posts['author_id'].unique(), sorted_member_id).sum())\n",
        "# print(len(orig_message_posts.loc[orig_message_posts['msg_author_id'].isin(sorted_member_id)]))\n",
        "\n",
        "print(\"Fraction of incorrect IDs\")\n",
        "print(1-(np.isin(orig_posts['author_id'].unique(), sorted_member_id).sum()/len(orig_posts['author_id'].unique())))"
      ]
    },
    {
      "cell_type": "code",
      "execution_count": null,
      "metadata": {
        "id": "dwnsEdpUQ3Wx"
      },
      "outputs": [],
      "source": [
        "for id in orig_posts['topic_id'].unique():\n",
        "  df = orig_posts[orig_posts['topic_id']==id]\n",
        "\n",
        "  # the message was received by no one\n",
        "  if len(df)<=1:\n",
        "    continue\n",
        "\n",
        "  else:\n",
        "\n",
        "    # iterate over the sub-dataframe\n",
        "    for i in range(len(df)):\n",
        "\n",
        "      # if last row, pass\n",
        "      if i==(len(df)-1):\n",
        "        continue\n",
        "\n",
        "      else:\n",
        "        from_id = df.iloc[i+1]['author_id']\n",
        "        to_id = df.iloc[i]['author_id']\n",
        "        if to_id not in member_id_map or from_id not in member_id_map or from_id == to_id:\n",
        "          continue\n",
        "        from_mapping = member_id_map[from_id]\n",
        "        to_mapping = member_id_map[to_id]\n",
        "        # print(from_mapping, to_mapping)\n",
        "        adjMatrix[from_mapping-1][to_mapping-1] +=1"
      ]
    },
    {
      "cell_type": "markdown",
      "metadata": {
        "id": "JN6DQJPVU6Vt"
      },
      "source": [
        "## Sparsity"
      ]
    },
    {
      "cell_type": "code",
      "execution_count": null,
      "metadata": {
        "colab": {
          "base_uri": "https://localhost:8080/"
        },
        "id": "rRFTKGEURM_a",
        "outputId": "ee029e25-c12c-4749-882a-585a8b4cde9d"
      },
      "outputs": [
        {
          "data": {
            "text/plain": [
              "0.9448476301555047"
            ]
          },
          "execution_count": 24,
          "metadata": {},
          "output_type": "execute_result"
        }
      ],
      "source": [
        "countZero = adjMatrix[np.where(adjMatrix == 0)].size\n",
        "countTotal = adjMatrix.shape[0]*adjMatrix.shape[1]\n",
        "countZero/countTotal"
      ]
    },
    {
      "cell_type": "code",
      "execution_count": null,
      "metadata": {
        "id": "EEzKlPLvU-6c"
      },
      "outputs": [],
      "source": [
        "np.save(\"/content/drive/MyDrive/text gcn/adjMatrix/ironmarch/adjMatrix_last_reply_posts\", adjMatrix)"
      ]
    }
  ],
  "metadata": {
    "colab": {
      "name": "edges_last_reply.ipynb",
      "provenance": []
    },
    "kernelspec": {
      "display_name": "Python 3",
      "name": "python3"
    },
    "language_info": {
      "name": "python"
    }
  },
  "nbformat": 4,
  "nbformat_minor": 0
}
