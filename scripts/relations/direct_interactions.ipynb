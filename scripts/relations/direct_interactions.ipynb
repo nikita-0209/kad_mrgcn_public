{
  "cells": [
    {
      "cell_type": "code",
      "execution_count": null,
      "metadata": {
        "id": "UfcYQ7RCRXoD"
      },
      "outputs": [],
      "source": [
        "import pandas as pd\n",
        "import numpy as np\n",
        "import matplotlib.pyplot as plt\n",
        "%matplotlib inline\n",
        "import os\n",
        "import requests \n",
        "import io\n",
        "import seaborn as sns"
      ]
    },
    {
      "cell_type": "code",
      "execution_count": null,
      "metadata": {
        "id": "2ulMgsl0SByb"
      },
      "outputs": [],
      "source": [
        "orig_members = pd.read_csv('/content/drive/MyDrive/text gcn/Hackforum data/CSV Data IronMarch/data_csv/orig_members.csv')"
      ]
    },
    {
      "cell_type": "markdown",
      "metadata": {
        "id": "uSpRbb0dS9Tc"
      },
      "source": [
        "create userID map (unknown range to fixed range [1 to 753]"
      ]
    },
    {
      "cell_type": "code",
      "execution_count": null,
      "metadata": {
        "id": "JqRhRs6aTBXm"
      },
      "outputs": [],
      "source": [
        "sorted_member_id = orig_members['member_id'].sort_values()\n",
        "member_id_map ={}\n",
        "start_id = 1\n",
        "for id in sorted_member_id:\n",
        "  member_id_map[id] = start_id\n",
        "  start_id = start_id + 1"
      ]
    },
    {
      "cell_type": "markdown",
      "metadata": {
        "id": "0X6b660CRiJ4"
      },
      "source": [
        "For every message/notifcation connection, we will add 1 to the cell, and the normalise it."
      ]
    },
    {
      "cell_type": "markdown",
      "metadata": {
        "id": "4k8TKd1iRfB8"
      },
      "source": [
        "# Inline Notifications"
      ]
    },
    {
      "cell_type": "code",
      "execution_count": null,
      "metadata": {
        "id": "TaIKG-4NRdWQ"
      },
      "outputs": [],
      "source": [
        "orig_inline_notifications = pd.read_csv('/content/drive/MyDrive/text gcn/Hackforum data/CSV Data IronMarch/data_csv/orig_inline_notifications.csv')"
      ]
    },
    {
      "cell_type": "markdown",
      "metadata": {
        "id": "7G5PmWrsVf1-"
      },
      "source": [
        "We create a directed graph where the arrow points from \"notify_from_id\" to \"notify_to_id\""
      ]
    },
    {
      "cell_type": "code",
      "execution_count": null,
      "metadata": {
        "id": "0xnvbNGyWfxW"
      },
      "outputs": [],
      "source": [
        "adjMatrix = np.zeros((orig_members.shape[0], orig_members.shape[0]))"
      ]
    },
    {
      "cell_type": "markdown",
      "metadata": {
        "id": "bNRFzpwlgU1-"
      },
      "source": [
        "Each message from A to B is counted separately. So if A and B have exchanged 3 notifications, then there would be 3 rows in the table, and hence the edge weight would be 3."
      ]
    },
    {
      "cell_type": "code",
      "execution_count": null,
      "metadata": {
        "id": "hz6Q2DcDVPV3"
      },
      "outputs": [],
      "source": [
        "for index, row in orig_inline_notifications.iterrows():\n",
        "  from_id = row['notify_from_id']\n",
        "  from_mapping = member_id_map[from_id]\n",
        "  to_id = row['notify_to_id']\n",
        "  to_mapping = member_id_map[to_id]\n",
        "  # print(from_mapping, to_mapping)\n",
        "  adjMatrix[from_mapping-1][to_mapping-1] +=1"
      ]
    },
    {
      "cell_type": "markdown",
      "metadata": {
        "id": "H1Dy-wewVq7f"
      },
      "source": [
        "## Sparsity of AdjMatrix"
      ]
    },
    {
      "cell_type": "code",
      "execution_count": null,
      "metadata": {
        "colab": {
          "base_uri": "https://localhost:8080/"
        },
        "id": "I6dIVqUvVtvj",
        "outputId": "1809dbc4-0248-46cd-ffd0-9caeefc23891"
      },
      "outputs": [
        {
          "data": {
            "text/plain": [
              "0.9891251509441417"
            ]
          },
          "execution_count": 20,
          "metadata": {},
          "output_type": "execute_result"
        }
      ],
      "source": [
        "countZero = adjMatrix[np.where(adjMatrix == 0)].size\n",
        "countTotal = adjMatrix.shape[0]*adjMatrix.shape[1]\n",
        "countZero/countTotal"
      ]
    },
    {
      "cell_type": "code",
      "execution_count": null,
      "metadata": {
        "id": "9EVFAnimaViF"
      },
      "outputs": [],
      "source": [
        "np.save(\"/content/drive/MyDrive/text gcn/adjMatrix/ironmarch/adjMatrix_direct_notifs\", adjMatrix)"
      ]
    },
    {
      "cell_type": "markdown",
      "metadata": {
        "id": "qBfxi5htYyox"
      },
      "source": [
        "# Profile Friends"
      ]
    },
    {
      "cell_type": "code",
      "execution_count": null,
      "metadata": {
        "id": "DUkrZqXpWE3I"
      },
      "outputs": [],
      "source": [
        "adjMatrix = np.zeros((orig_members.shape[0], orig_members.shape[0]))"
      ]
    },
    {
      "cell_type": "code",
      "execution_count": null,
      "metadata": {
        "id": "WsHoJoXFYSMy"
      },
      "outputs": [],
      "source": [
        "orig_profile_friends = pd.read_csv('/content/drive/MyDrive/text gcn/Hackforum data/CSV Data IronMarch/data_csv/orig_profile_friends.csv')"
      ]
    },
    {
      "cell_type": "code",
      "execution_count": null,
      "metadata": {
        "id": "AQweDhnQZ4b4"
      },
      "outputs": [],
      "source": [
        "for index, row in orig_profile_friends.iterrows():\n",
        "  from_id = row['friends_member_id']\n",
        "  to_id = row['friends_friend_id']\n",
        "  if to_id not in member_id_map or from_id not in member_id_map:\n",
        "    continue\n",
        "  from_mapping = member_id_map[from_id]\n",
        "  to_mapping = member_id_map[to_id]\n",
        "  \"\"\"-1 in the indices because we started the mapping from 1, and the matrix begins from 0.\"\"\"\n",
        "  adjMatrix[from_mapping-1][to_mapping-1] +=1"
      ]
    },
    {
      "cell_type": "markdown",
      "metadata": {
        "id": "Uwgywx4Ihwo8"
      },
      "source": [
        "## Sparsity of the direct Edge connection matrix"
      ]
    },
    {
      "cell_type": "code",
      "execution_count": null,
      "metadata": {
        "colab": {
          "base_uri": "https://localhost:8080/"
        },
        "id": "rLZag6qQaTXn",
        "outputId": "c5e3647a-7bc8-4d11-d5eb-749291021e13"
      },
      "outputs": [
        {
          "data": {
            "text/plain": [
              "0.9921311509200936"
            ]
          },
          "execution_count": 16,
          "metadata": {},
          "output_type": "execute_result"
        }
      ],
      "source": [
        "countZero = adjMatrix[np.where(adjMatrix == 0)].size\n",
        "countTotal = adjMatrix.shape[0]*adjMatrix.shape[1]\n",
        "countZero/countTotal"
      ]
    },
    {
      "cell_type": "code",
      "execution_count": null,
      "metadata": {
        "id": "tygJz7D1aRBl"
      },
      "outputs": [],
      "source": [
        "np.save(\"/content/drive/MyDrive/text gcn/adjMatrix/ironmarch/adjMatrix_direct_friends\", adjMatrix)"
      ]
    }
  ],
  "metadata": {
    "colab": {
      "name": "edges_direct.ipynb",
      "provenance": []
    },
    "kernelspec": {
      "display_name": "Python 3",
      "name": "python3"
    },
    "language_info": {
      "name": "python"
    }
  },
  "nbformat": 4,
  "nbformat_minor": 0
}
