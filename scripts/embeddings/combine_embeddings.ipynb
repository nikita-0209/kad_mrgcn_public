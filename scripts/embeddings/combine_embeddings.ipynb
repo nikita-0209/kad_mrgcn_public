{
  "cells": [
    {
      "cell_type": "code",
      "execution_count": null,
      "metadata": {
        "id": "o6OGedFN1Maa"
      },
      "outputs": [],
      "source": [
        "import pandas as pd\n",
        "import numpy as np\n",
        "import matplotlib.pyplot as plt\n",
        "%matplotlib inline\n",
        "import os\n",
        "import requests \n",
        "import io\n",
        "import seaborn as sns\n",
        "import scipy.sparse as sp"
      ]
    },
    {
      "cell_type": "code",
      "execution_count": null,
      "metadata": {
        "id": "4ObqmA_h1X-7"
      },
      "outputs": [],
      "source": [
        "msg_posts = sp.load_npz('/content/drive/MyDrive/text gcn/node_feature/nulled/msg_posts_embedding/head/nulled_msg_posts_head_final.npz')"
      ]
    },
    {
      "cell_type": "code",
      "execution_count": null,
      "metadata": {
        "id": "SpAQpsmjyqbM"
      },
      "outputs": [],
      "source": [
        "notifs = sp.load_npz('/content/drive/MyDrive/text gcn/node_feature/nulled/notifs_embedding/head/nulled_notifs_head_final.npz')"
      ]
    },
    {
      "cell_type": "code",
      "execution_count": null,
      "metadata": {
        "id": "YeE0Ilg41Tcc"
      },
      "outputs": [],
      "source": [
        "posts = sp.load_npz('/content/drive/MyDrive/text gcn/node_feature/nulled/posts_embedding/head/FINAL.npz')"
      ]
    },
    {
      "cell_type": "markdown",
      "metadata": {
        "id": "vz-xiHH42Dhe"
      },
      "source": [
        "# Concatenate"
      ]
    },
    {
      "cell_type": "code",
      "execution_count": null,
      "metadata": {
        "id": "h6qYBwKC18kD"
      },
      "outputs": [],
      "source": [
        "embed_concatenate = np.concatenate((posts, msg_posts, notifs), axis = 1)"
      ]
    },
    {
      "cell_type": "code",
      "execution_count": null,
      "metadata": {
        "colab": {
          "base_uri": "https://localhost:8080/"
        },
        "id": "xndVQQFG2UOP",
        "outputId": "436f9511-383a-4336-98e1-81818518eec8"
      },
      "outputs": [
        {
          "data": {
            "text/plain": [
              "(599085, 2304)"
            ]
          },
          "execution_count": 7,
          "metadata": {},
          "output_type": "execute_result"
        }
      ],
      "source": [
        "embed_concatenate.shape"
      ]
    },
    {
      "cell_type": "code",
      "execution_count": null,
      "metadata": {
        "id": "uX3-6OKI2XFf"
      },
      "outputs": [],
      "source": [
        "sp.save_npz(\"/content/drive/MyDrive/text gcn/node_feature/nulled/head_concatenate.npz\", embed_concatenate)"
      ]
    },
    {
      "cell_type": "markdown",
      "metadata": {
        "id": "LumaSN7L2lz5"
      },
      "source": [
        "# Sum"
      ]
    },
    {
      "cell_type": "code",
      "execution_count": null,
      "metadata": {
        "id": "ebyxFlzp1lYy"
      },
      "outputs": [],
      "source": [
        "posts = np.array(posts)\n",
        "notifs = np.array(notifs)\n",
        "msg_posts = np.array(msg_posts)"
      ]
    },
    {
      "cell_type": "code",
      "execution_count": null,
      "metadata": {
        "id": "soaaTmHD2kqj"
      },
      "outputs": [],
      "source": [
        "embed_avg_pool = np.dstack((posts, msg_posts, notifs))"
      ]
    },
    {
      "cell_type": "code",
      "execution_count": null,
      "metadata": {
        "colab": {
          "base_uri": "https://localhost:8080/"
        },
        "id": "IZTc7TcP2wHR",
        "outputId": "5840e00e-d5f4-4a93-ed2b-02f43d2d5766"
      },
      "outputs": [
        {
          "data": {
            "text/plain": [
              "(1797255, 768)"
            ]
          },
          "execution_count": 24,
          "metadata": {},
          "output_type": "execute_result"
        }
      ],
      "source": [
        "embed_avg_pool.shape"
      ]
    },
    {
      "cell_type": "code",
      "execution_count": null,
      "metadata": {
        "colab": {
          "base_uri": "https://localhost:8080/",
          "height": 329
        },
        "id": "8q0agQtM2yIO",
        "outputId": "86727bad-89c2-45c8-e6b9-836d3539ea02"
      },
      "outputs": [],
      "source": [
        "# embed_avg_pool = np.sum(embed_avg_pool, axis =2)\n",
        "embed_avg_pool = embed_avg_pool.sum(axis =2)"
      ]
    },
    {
      "cell_type": "code",
      "execution_count": null,
      "metadata": {
        "id": "cDcL9cosNqUE"
      },
      "outputs": [],
      "source": [
        "embed_avg_pool = embed_avg_pool/3"
      ]
    },
    {
      "cell_type": "code",
      "execution_count": null,
      "metadata": {
        "id": "xWT7NB9G4Asa"
      },
      "outputs": [],
      "source": [
        "embed_avg_pool.shape"
      ]
    },
    {
      "cell_type": "code",
      "execution_count": null,
      "metadata": {
        "id": "2yPFYfhP4Br8"
      },
      "outputs": [],
      "source": [
        "np.save(\"/content/drive/MyDrive/text gcn/node_feature/nulled/chunk_avg_pool\", embed_avg_pool)"
      ]
    }
  ],
  "metadata": {
    "colab": {
      "collapsed_sections": [],
      "machine_shape": "hm",
      "name": "combine_embeddings.ipynb",
      "provenance": []
    },
    "kernelspec": {
      "display_name": "Python 3",
      "name": "python3"
    },
    "language_info": {
      "name": "python"
    }
  },
  "nbformat": 4,
  "nbformat_minor": 0
}
