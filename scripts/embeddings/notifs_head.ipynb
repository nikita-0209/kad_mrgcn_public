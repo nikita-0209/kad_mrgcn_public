{
  "nbformat": 4,
  "nbformat_minor": 0,
  "metadata": {
    "colab": {
      "name": "doc_of_notifs_head.ipynb",
      "provenance": []
    },
    "kernelspec": {
      "display_name": "Python 3",
      "name": "python3"
    },
    "language_info": {
      "name": "python"
    },
    "widgets": {
      "application/vnd.jupyter.widget-state+json": {
        "26adb317ec1741bdbc2d603d49c264fb": {
          "model_module": "@jupyter-widgets/controls",
          "model_name": "HBoxModel",
          "model_module_version": "1.5.0",
          "state": {
            "_view_name": "HBoxView",
            "_dom_classes": [],
            "_model_name": "HBoxModel",
            "_view_module": "@jupyter-widgets/controls",
            "_model_module_version": "1.5.0",
            "_view_count": null,
            "_view_module_version": "1.5.0",
            "box_style": "",
            "layout": "IPY_MODEL_d8851b7a047b4f75a50841136d35fdc7",
            "_model_module": "@jupyter-widgets/controls",
            "children": [
              "IPY_MODEL_13ed3cb95726439aaa80b4effda4125c",
              "IPY_MODEL_e046037fd62b4790ae62abac4d7baf97",
              "IPY_MODEL_11ca81490dd64224b157012f47fa61b8"
            ]
          }
        },
        "d8851b7a047b4f75a50841136d35fdc7": {
          "model_module": "@jupyter-widgets/base",
          "model_name": "LayoutModel",
          "model_module_version": "1.2.0",
          "state": {
            "_view_name": "LayoutView",
            "grid_template_rows": null,
            "right": null,
            "justify_content": null,
            "_view_module": "@jupyter-widgets/base",
            "overflow": null,
            "_model_module_version": "1.2.0",
            "_view_count": null,
            "flex_flow": null,
            "width": null,
            "min_width": null,
            "border": null,
            "align_items": null,
            "bottom": null,
            "_model_module": "@jupyter-widgets/base",
            "top": null,
            "grid_column": null,
            "overflow_y": null,
            "overflow_x": null,
            "grid_auto_flow": null,
            "grid_area": null,
            "grid_template_columns": null,
            "flex": null,
            "_model_name": "LayoutModel",
            "justify_items": null,
            "grid_row": null,
            "max_height": null,
            "align_content": null,
            "visibility": null,
            "align_self": null,
            "height": null,
            "min_height": null,
            "padding": null,
            "grid_auto_rows": null,
            "grid_gap": null,
            "max_width": null,
            "order": null,
            "_view_module_version": "1.2.0",
            "grid_template_areas": null,
            "object_position": null,
            "object_fit": null,
            "grid_auto_columns": null,
            "margin": null,
            "display": null,
            "left": null
          }
        },
        "13ed3cb95726439aaa80b4effda4125c": {
          "model_module": "@jupyter-widgets/controls",
          "model_name": "HTMLModel",
          "model_module_version": "1.5.0",
          "state": {
            "_view_name": "HTMLView",
            "style": "IPY_MODEL_482c56cc286444d48617efd3b88b8039",
            "_dom_classes": [],
            "description": "",
            "_model_name": "HTMLModel",
            "placeholder": "​",
            "_view_module": "@jupyter-widgets/controls",
            "_model_module_version": "1.5.0",
            "value": "Downloading: 100%",
            "_view_count": null,
            "_view_module_version": "1.5.0",
            "description_tooltip": null,
            "_model_module": "@jupyter-widgets/controls",
            "layout": "IPY_MODEL_60a8622865dc4183b312a675cdc23cad"
          }
        },
        "e046037fd62b4790ae62abac4d7baf97": {
          "model_module": "@jupyter-widgets/controls",
          "model_name": "FloatProgressModel",
          "model_module_version": "1.5.0",
          "state": {
            "_view_name": "ProgressView",
            "style": "IPY_MODEL_00af4a220f69413b9ce8a9405a93e126",
            "_dom_classes": [],
            "description": "",
            "_model_name": "FloatProgressModel",
            "bar_style": "success",
            "max": 231508,
            "_view_module": "@jupyter-widgets/controls",
            "_model_module_version": "1.5.0",
            "value": 231508,
            "_view_count": null,
            "_view_module_version": "1.5.0",
            "orientation": "horizontal",
            "min": 0,
            "description_tooltip": null,
            "_model_module": "@jupyter-widgets/controls",
            "layout": "IPY_MODEL_07fea6919b3c4e6f91cf69413b6e6811"
          }
        },
        "11ca81490dd64224b157012f47fa61b8": {
          "model_module": "@jupyter-widgets/controls",
          "model_name": "HTMLModel",
          "model_module_version": "1.5.0",
          "state": {
            "_view_name": "HTMLView",
            "style": "IPY_MODEL_0355862d68dd45899b1c7e847cf1b273",
            "_dom_classes": [],
            "description": "",
            "_model_name": "HTMLModel",
            "placeholder": "​",
            "_view_module": "@jupyter-widgets/controls",
            "_model_module_version": "1.5.0",
            "value": " 226k/226k [00:00&lt;00:00, 1.31MB/s]",
            "_view_count": null,
            "_view_module_version": "1.5.0",
            "description_tooltip": null,
            "_model_module": "@jupyter-widgets/controls",
            "layout": "IPY_MODEL_7a6e3dc32643408c8717114e1cd53019"
          }
        },
        "482c56cc286444d48617efd3b88b8039": {
          "model_module": "@jupyter-widgets/controls",
          "model_name": "DescriptionStyleModel",
          "model_module_version": "1.5.0",
          "state": {
            "_view_name": "StyleView",
            "_model_name": "DescriptionStyleModel",
            "description_width": "",
            "_view_module": "@jupyter-widgets/base",
            "_model_module_version": "1.5.0",
            "_view_count": null,
            "_view_module_version": "1.2.0",
            "_model_module": "@jupyter-widgets/controls"
          }
        },
        "60a8622865dc4183b312a675cdc23cad": {
          "model_module": "@jupyter-widgets/base",
          "model_name": "LayoutModel",
          "model_module_version": "1.2.0",
          "state": {
            "_view_name": "LayoutView",
            "grid_template_rows": null,
            "right": null,
            "justify_content": null,
            "_view_module": "@jupyter-widgets/base",
            "overflow": null,
            "_model_module_version": "1.2.0",
            "_view_count": null,
            "flex_flow": null,
            "width": null,
            "min_width": null,
            "border": null,
            "align_items": null,
            "bottom": null,
            "_model_module": "@jupyter-widgets/base",
            "top": null,
            "grid_column": null,
            "overflow_y": null,
            "overflow_x": null,
            "grid_auto_flow": null,
            "grid_area": null,
            "grid_template_columns": null,
            "flex": null,
            "_model_name": "LayoutModel",
            "justify_items": null,
            "grid_row": null,
            "max_height": null,
            "align_content": null,
            "visibility": null,
            "align_self": null,
            "height": null,
            "min_height": null,
            "padding": null,
            "grid_auto_rows": null,
            "grid_gap": null,
            "max_width": null,
            "order": null,
            "_view_module_version": "1.2.0",
            "grid_template_areas": null,
            "object_position": null,
            "object_fit": null,
            "grid_auto_columns": null,
            "margin": null,
            "display": null,
            "left": null
          }
        },
        "00af4a220f69413b9ce8a9405a93e126": {
          "model_module": "@jupyter-widgets/controls",
          "model_name": "ProgressStyleModel",
          "model_module_version": "1.5.0",
          "state": {
            "_view_name": "StyleView",
            "_model_name": "ProgressStyleModel",
            "description_width": "",
            "_view_module": "@jupyter-widgets/base",
            "_model_module_version": "1.5.0",
            "_view_count": null,
            "_view_module_version": "1.2.0",
            "bar_color": null,
            "_model_module": "@jupyter-widgets/controls"
          }
        },
        "07fea6919b3c4e6f91cf69413b6e6811": {
          "model_module": "@jupyter-widgets/base",
          "model_name": "LayoutModel",
          "model_module_version": "1.2.0",
          "state": {
            "_view_name": "LayoutView",
            "grid_template_rows": null,
            "right": null,
            "justify_content": null,
            "_view_module": "@jupyter-widgets/base",
            "overflow": null,
            "_model_module_version": "1.2.0",
            "_view_count": null,
            "flex_flow": null,
            "width": null,
            "min_width": null,
            "border": null,
            "align_items": null,
            "bottom": null,
            "_model_module": "@jupyter-widgets/base",
            "top": null,
            "grid_column": null,
            "overflow_y": null,
            "overflow_x": null,
            "grid_auto_flow": null,
            "grid_area": null,
            "grid_template_columns": null,
            "flex": null,
            "_model_name": "LayoutModel",
            "justify_items": null,
            "grid_row": null,
            "max_height": null,
            "align_content": null,
            "visibility": null,
            "align_self": null,
            "height": null,
            "min_height": null,
            "padding": null,
            "grid_auto_rows": null,
            "grid_gap": null,
            "max_width": null,
            "order": null,
            "_view_module_version": "1.2.0",
            "grid_template_areas": null,
            "object_position": null,
            "object_fit": null,
            "grid_auto_columns": null,
            "margin": null,
            "display": null,
            "left": null
          }
        },
        "0355862d68dd45899b1c7e847cf1b273": {
          "model_module": "@jupyter-widgets/controls",
          "model_name": "DescriptionStyleModel",
          "model_module_version": "1.5.0",
          "state": {
            "_view_name": "StyleView",
            "_model_name": "DescriptionStyleModel",
            "description_width": "",
            "_view_module": "@jupyter-widgets/base",
            "_model_module_version": "1.5.0",
            "_view_count": null,
            "_view_module_version": "1.2.0",
            "_model_module": "@jupyter-widgets/controls"
          }
        },
        "7a6e3dc32643408c8717114e1cd53019": {
          "model_module": "@jupyter-widgets/base",
          "model_name": "LayoutModel",
          "model_module_version": "1.2.0",
          "state": {
            "_view_name": "LayoutView",
            "grid_template_rows": null,
            "right": null,
            "justify_content": null,
            "_view_module": "@jupyter-widgets/base",
            "overflow": null,
            "_model_module_version": "1.2.0",
            "_view_count": null,
            "flex_flow": null,
            "width": null,
            "min_width": null,
            "border": null,
            "align_items": null,
            "bottom": null,
            "_model_module": "@jupyter-widgets/base",
            "top": null,
            "grid_column": null,
            "overflow_y": null,
            "overflow_x": null,
            "grid_auto_flow": null,
            "grid_area": null,
            "grid_template_columns": null,
            "flex": null,
            "_model_name": "LayoutModel",
            "justify_items": null,
            "grid_row": null,
            "max_height": null,
            "align_content": null,
            "visibility": null,
            "align_self": null,
            "height": null,
            "min_height": null,
            "padding": null,
            "grid_auto_rows": null,
            "grid_gap": null,
            "max_width": null,
            "order": null,
            "_view_module_version": "1.2.0",
            "grid_template_areas": null,
            "object_position": null,
            "object_fit": null,
            "grid_auto_columns": null,
            "margin": null,
            "display": null,
            "left": null
          }
        }
      }
    }
  },
  "cells": [
    {
      "cell_type": "code",
      "metadata": {
        "id": "hDGS1aZFuXF0"
      },
      "source": [
        "import pandas as pd\n",
        "import numpy as np\n",
        "import matplotlib.pyplot as plt\n",
        "%matplotlib inline\n",
        "import os\n",
        "import requests \n",
        "import io\n",
        "import seaborn as sns"
      ],
      "execution_count": null,
      "outputs": []
    },
    {
      "cell_type": "code",
      "metadata": {
        "colab": {
          "base_uri": "https://localhost:8080/"
        },
        "id": "OGpFbsAe7KuI",
        "outputId": "95fa317c-b2db-4177-bb29-afbdcc24fa86"
      },
      "source": [
        "from google.colab import drive\n",
        "drive.mount('/content/drive')"
      ],
      "execution_count": null,
      "outputs": [
        {
          "output_type": "stream",
          "name": "stdout",
          "text": [
            "Mounted at /content/drive\n"
          ]
        }
      ]
    },
    {
      "cell_type": "code",
      "metadata": {
        "colab": {
          "base_uri": "https://localhost:8080/"
        },
        "id": "6ACSCR3svf4o",
        "outputId": "65937d25-e8f9-42f1-fea7-e9a3df43775d"
      },
      "source": [
        "import nltk\n",
        "nltk.download('punkt')\n",
        "\n",
        "from nltk.tokenize import sent_tokenize\n",
        "\n",
        "import string\n",
        "from nltk import word_tokenize\n",
        "from nltk.corpus import stopwords\n",
        "\n",
        "from bs4 import BeautifulSoup\n",
        "\n",
        "nltk.download('stopwords')"
      ],
      "execution_count": null,
      "outputs": [
        {
          "output_type": "stream",
          "name": "stdout",
          "text": [
            "[nltk_data] Downloading package punkt to /root/nltk_data...\n",
            "[nltk_data]   Unzipping tokenizers/punkt.zip.\n",
            "[nltk_data] Downloading package stopwords to /root/nltk_data...\n",
            "[nltk_data]   Unzipping corpora/stopwords.zip.\n"
          ]
        },
        {
          "output_type": "execute_result",
          "data": {
            "text/plain": [
              "True"
            ]
          },
          "metadata": {},
          "execution_count": 3
        }
      ]
    },
    {
      "cell_type": "code",
      "metadata": {
        "colab": {
          "base_uri": "https://localhost:8080/"
        },
        "id": "tlbnOAgBvxtM",
        "outputId": "b120d8aa-4e62-4b27-dd8e-5fe8c32c4946"
      },
      "source": [
        "!pip install transformers"
      ],
      "execution_count": null,
      "outputs": [
        {
          "output_type": "stream",
          "name": "stdout",
          "text": [
            "Collecting transformers\n",
            "  Downloading transformers-4.11.3-py3-none-any.whl (2.9 MB)\n",
            "\u001b[K     |████████████████████████████████| 2.9 MB 5.0 MB/s \n",
            "\u001b[?25hRequirement already satisfied: numpy>=1.17 in /usr/local/lib/python3.7/dist-packages (from transformers) (1.19.5)\n",
            "Collecting tokenizers<0.11,>=0.10.1\n",
            "  Downloading tokenizers-0.10.3-cp37-cp37m-manylinux_2_5_x86_64.manylinux1_x86_64.manylinux_2_12_x86_64.manylinux2010_x86_64.whl (3.3 MB)\n",
            "\u001b[K     |████████████████████████████████| 3.3 MB 29.6 MB/s \n",
            "\u001b[?25hRequirement already satisfied: filelock in /usr/local/lib/python3.7/dist-packages (from transformers) (3.3.0)\n",
            "Requirement already satisfied: tqdm>=4.27 in /usr/local/lib/python3.7/dist-packages (from transformers) (4.62.3)\n",
            "Collecting sacremoses\n",
            "  Downloading sacremoses-0.0.46-py3-none-any.whl (895 kB)\n",
            "\u001b[K     |████████████████████████████████| 895 kB 49.2 MB/s \n",
            "\u001b[?25hRequirement already satisfied: requests in /usr/local/lib/python3.7/dist-packages (from transformers) (2.23.0)\n",
            "Requirement already satisfied: packaging>=20.0 in /usr/local/lib/python3.7/dist-packages (from transformers) (21.0)\n",
            "Collecting pyyaml>=5.1\n",
            "  Downloading PyYAML-5.4.1-cp37-cp37m-manylinux1_x86_64.whl (636 kB)\n",
            "\u001b[K     |████████████████████████████████| 636 kB 29.2 MB/s \n",
            "\u001b[?25hRequirement already satisfied: regex!=2019.12.17 in /usr/local/lib/python3.7/dist-packages (from transformers) (2019.12.20)\n",
            "Requirement already satisfied: importlib-metadata in /usr/local/lib/python3.7/dist-packages (from transformers) (4.8.1)\n",
            "Collecting huggingface-hub>=0.0.17\n",
            "  Downloading huggingface_hub-0.0.19-py3-none-any.whl (56 kB)\n",
            "\u001b[K     |████████████████████████████████| 56 kB 3.8 MB/s \n",
            "\u001b[?25hRequirement already satisfied: typing-extensions in /usr/local/lib/python3.7/dist-packages (from huggingface-hub>=0.0.17->transformers) (3.7.4.3)\n",
            "Requirement already satisfied: pyparsing>=2.0.2 in /usr/local/lib/python3.7/dist-packages (from packaging>=20.0->transformers) (2.4.7)\n",
            "Requirement already satisfied: zipp>=0.5 in /usr/local/lib/python3.7/dist-packages (from importlib-metadata->transformers) (3.6.0)\n",
            "Requirement already satisfied: certifi>=2017.4.17 in /usr/local/lib/python3.7/dist-packages (from requests->transformers) (2021.5.30)\n",
            "Requirement already satisfied: urllib3!=1.25.0,!=1.25.1,<1.26,>=1.21.1 in /usr/local/lib/python3.7/dist-packages (from requests->transformers) (1.24.3)\n",
            "Requirement already satisfied: chardet<4,>=3.0.2 in /usr/local/lib/python3.7/dist-packages (from requests->transformers) (3.0.4)\n",
            "Requirement already satisfied: idna<3,>=2.5 in /usr/local/lib/python3.7/dist-packages (from requests->transformers) (2.10)\n",
            "Requirement already satisfied: joblib in /usr/local/lib/python3.7/dist-packages (from sacremoses->transformers) (1.0.1)\n",
            "Requirement already satisfied: click in /usr/local/lib/python3.7/dist-packages (from sacremoses->transformers) (7.1.2)\n",
            "Requirement already satisfied: six in /usr/local/lib/python3.7/dist-packages (from sacremoses->transformers) (1.15.0)\n",
            "Installing collected packages: pyyaml, tokenizers, sacremoses, huggingface-hub, transformers\n",
            "  Attempting uninstall: pyyaml\n",
            "    Found existing installation: PyYAML 3.13\n",
            "    Uninstalling PyYAML-3.13:\n",
            "      Successfully uninstalled PyYAML-3.13\n",
            "Successfully installed huggingface-hub-0.0.19 pyyaml-5.4.1 sacremoses-0.0.46 tokenizers-0.10.3 transformers-4.11.3\n"
          ]
        }
      ]
    },
    {
      "cell_type": "code",
      "metadata": {
        "id": "B-YsF7hIv3LF"
      },
      "source": [
        "from transformers import BertTokenizer,BertModel, BertConfig\n",
        "import torch"
      ],
      "execution_count": null,
      "outputs": []
    },
    {
      "cell_type": "markdown",
      "metadata": {
        "id": "M2szNqUAum-0"
      },
      "source": [
        "### User Mapping"
      ]
    },
    {
      "cell_type": "code",
      "metadata": {
        "id": "69mr36l_ueSM"
      },
      "source": [
        "orig_members = pd.read_csv('/content/drive/MyDrive/text gcn/Hackforum data/CSV Data IronMarch/data_csv/orig_members.csv')"
      ],
      "execution_count": null,
      "outputs": []
    },
    {
      "cell_type": "code",
      "metadata": {
        "id": "-1v4VPLwujMF"
      },
      "source": [
        "sorted_member_id = orig_members['member_id'].sort_values()\n",
        "member_id_map ={}\n",
        "start_id = 1\n",
        "for id in sorted_member_id:\n",
        "  member_id_map[id] = start_id\n",
        "  start_id = start_id + 1"
      ],
      "execution_count": null,
      "outputs": []
    },
    {
      "cell_type": "markdown",
      "metadata": {
        "id": "EtvcMP7IuoyN"
      },
      "source": [
        "### Message Posts"
      ]
    },
    {
      "cell_type": "code",
      "metadata": {
        "id": "U5Gx21XeukxN"
      },
      "source": [
        "orig_inline_notifications = pd.read_csv('/content/drive/MyDrive/text gcn/Hackforum data/CSV Data IronMarch/data_csv/orig_inline_notifications.csv')\n",
        "# orig_posts = pd.read_csv('/content/drive/MyDrive/text gcn/Hackforum data/CSV Data IronMarch/data_csv/orig_posts.csv')"
      ],
      "execution_count": null,
      "outputs": []
    },
    {
      "cell_type": "code",
      "metadata": {
        "id": "T2snB2xedHzn"
      },
      "source": [
        "# orig_posts.info()"
      ],
      "execution_count": null,
      "outputs": []
    },
    {
      "cell_type": "code",
      "metadata": {
        "id": "0w3ysumjuq7f"
      },
      "source": [
        "orig_inline_notifications.drop(orig_inline_notifications.columns[[0,1, 2, 3, 4, 5, 8, 9, 10, 11, 12, 13]], axis =1, inplace=True)\n",
        "# orig_posts.drop(orig_posts.columns[[0,1, 2, 3, 5, 6, 7, 8, 9, 10, 12, 13, 14, 15, 16, 17, 18, 19, 20, 21, 22, 23, 24]], axis =1, inplace=True)"
      ],
      "execution_count": null,
      "outputs": []
    },
    {
      "cell_type": "code",
      "metadata": {
        "colab": {
          "base_uri": "https://localhost:8080/"
        },
        "id": "AUieZF9iuy8x",
        "outputId": "866f231c-aaf7-4b62-8dee-94eb9979ddd0"
      },
      "source": [
        "orig_inline_notifications.info()\n",
        "# orig_posts.info()"
      ],
      "execution_count": null,
      "outputs": [
        {
          "output_type": "stream",
          "name": "stdout",
          "text": [
            "<class 'pandas.core.frame.DataFrame'>\n",
            "RangeIndex: 47066 entries, 0 to 47065\n",
            "Data columns (total 2 columns):\n",
            " #   Column          Non-Null Count  Dtype \n",
            "---  ------          --------------  ----- \n",
            " 0   notify_text     47066 non-null  object\n",
            " 1   notify_from_id  47066 non-null  int64 \n",
            "dtypes: int64(1), object(1)\n",
            "memory usage: 735.5+ KB\n"
          ]
        }
      ]
    },
    {
      "cell_type": "markdown",
      "metadata": {
        "id": "lRMWXE_qviwr"
      },
      "source": [
        "### Functions"
      ]
    },
    {
      "cell_type": "code",
      "metadata": {
        "id": "Jw0bBr_3vj45"
      },
      "source": [
        "def preprocess_text(text):\n",
        "\n",
        "  # try:\n",
        "    # print(\"here\")\n",
        "    soup = BeautifulSoup(text, \"lxml\")\n",
        "    # print(\"hu\")\n",
        "    text = soup.body.text\n",
        "\n",
        "    # Get a list of sentences, removes \"\\n\"\n",
        "    lst = sent_tokenize(text)\n",
        "    text = \" \".join(lst)\n",
        "\n",
        "    text = text.replace(\"\\n\", \"\")\n",
        "\n",
        "    # Preprocess using NLTK\n",
        "    text = text.lower()\n",
        "\n",
        "    # Remove Punctuation\n",
        "    text_p = \"\".join([char for char in text if char not in string.punctuation])\n",
        "\n",
        "    # Get a List of words \n",
        "    words = word_tokenize(text_p)\n",
        "\n",
        "    words = \" \".join(words)\n",
        "\n",
        "    # Remove stopwords\n",
        "    stop_words = stopwords.words('english')\n",
        "    filtered_words = [word for word in words if word not in stop_words]\n",
        "\n",
        "    ret = \" \".join(filtered_words)\n",
        "\n",
        "    return ret\n",
        "\n",
        "  # except:\n",
        "    # print(text)\n",
        "    # return 0\n"
      ],
      "execution_count": null,
      "outputs": []
    },
    {
      "cell_type": "code",
      "metadata": {
        "id": "4hY1n8Ilvtgv"
      },
      "source": [
        "def getBERT(post):\n",
        "\n",
        "# Get the embedding\n",
        "  # tokens = tokenizer(post, return_tensors=\"pt\")\n",
        "  # tokens['input_ids'] = tokens['input_ids'][:512]\n",
        "  # tokens['attention_mask'] = tokens['attention_mask'][:512]\n",
        "  # tokens['token_type_ids'] = tokens['token_type_ids'][:512]\n",
        "  tokens = tokenizer.encode_plus(post,return_tensors='pt', \n",
        "                                 max_length=512, truncation=True)\n",
        "  # tokens = tokenizer.encode_plus(post, add_special_tokens=False, return_tensors='pt',\n",
        "  #                                max_length=512, truncation=True, padding=\"max_length\")\n",
        "  # print(type(tokens))\n",
        "  # tokens = tokens.long()\n",
        "  # return inputs['input_ids'].shape[1]\n",
        "  outputs = model(**tokens)\n",
        "  last_hidden_states = outputs.last_hidden_state\n",
        "\n",
        "# Take the average\n",
        "  n_tensor = last_hidden_states.shape[1]\n",
        "  vector = (last_hidden_states.sum(axis=1)/n_tensor)\n",
        "\n",
        "  return vector"
      ],
      "execution_count": null,
      "outputs": []
    },
    {
      "cell_type": "code",
      "metadata": {
        "id": "4W208y-A_ICy"
      },
      "source": [
        "# def get_word_split(text1):\n",
        "#   l_total = []\n",
        "#   l_partial = []\n",
        "#   if len(text1.split())//150 >0:\n",
        "#     n = len(text1.split())//150 + 1\n",
        "#   else: \n",
        "#     n = 1\n",
        "#   # print(n)\n",
        "#   for w in range(n):\n",
        "#     if w == 0:\n",
        "#       l_partial = text1.split()[:200]\n",
        "#       l_total.append(\" \".join(l_partial))\n",
        "#     else:\n",
        "#       l_partial = text1.split()[w*150:w*150 + 200]\n",
        "#       l_total.append(\" \".join(l_partial))\n",
        "#   return l_total"
      ],
      "execution_count": null,
      "outputs": []
    },
    {
      "cell_type": "code",
      "metadata": {
        "id": "ZfLeNmr6CDHK"
      },
      "source": [
        "# def get_tokens_split(text):\n",
        "#   tokens = tokenizer.encode_plus(txt, add_special_tokens=False,\n",
        "#                                return_tensors='pt')\n",
        "#   input_id_chunks = tokens['input_ids'][0].split(510)\n",
        "#   pad_len = 512 - input_id_chunks[i].shape[0]\n",
        "#   if pad_len > 0:\n",
        "#     # if padding length is more than 0, we must add padding\n",
        "#     input_id_chunks[i] = torch.cat([\n",
        "#         input_id_chunks[i], torch.Tensor([0] * pad_len)\n",
        "#     ])\n",
        "#   print(input_id_chunks.shape)\n",
        "#   input_ids = torch.stack(input_id_chunks)\n",
        "#   print(input_ids.shape)\n",
        "#   input_dict = {\n",
        "#     'input_ids': input_ids.long(),\n",
        "#     # 'attention_mask': attention_mask.int()\n",
        "#   }\n",
        "#   return input_dict"
      ],
      "execution_count": null,
      "outputs": []
    },
    {
      "cell_type": "markdown",
      "metadata": {
        "id": "xwro84t4u7w_"
      },
      "source": [
        "### Variables"
      ]
    },
    {
      "cell_type": "code",
      "metadata": {
        "id": "nI7eDCeOu3JP"
      },
      "source": [
        "# embedding = np.zeros((orig_members.shape[0], 768))\n",
        "embedding = np.load(\"/content/drive/MyDrive/text gcn/node_feature/ironmarch/notifs_embedding/head/v5.0.npy\")\n",
        "count = np.zeros(orig_members.shape[0])"
      ],
      "execution_count": null,
      "outputs": []
    },
    {
      "cell_type": "code",
      "metadata": {
        "colab": {
          "base_uri": "https://localhost:8080/",
          "height": 249,
          "referenced_widgets": [
            "26adb317ec1741bdbc2d603d49c264fb",
            "d8851b7a047b4f75a50841136d35fdc7",
            "13ed3cb95726439aaa80b4effda4125c",
            "e046037fd62b4790ae62abac4d7baf97",
            "11ca81490dd64224b157012f47fa61b8",
            "482c56cc286444d48617efd3b88b8039",
            "60a8622865dc4183b312a675cdc23cad",
            "00af4a220f69413b9ce8a9405a93e126",
            "07fea6919b3c4e6f91cf69413b6e6811",
            "0355862d68dd45899b1c7e847cf1b273",
            "7a6e3dc32643408c8717114e1cd53019"
          ]
        },
        "id": "ISiLc0nOvIAB",
        "outputId": "7c7ac4b5-dd81-4591-a72a-a3c0d1206f13"
      },
      "source": [
        "tokenizer = BertTokenizer.from_pretrained('bert-base-uncased')\n",
        "model = BertModel.from_pretrained('bert-base-uncased')"
      ],
      "execution_count": null,
      "outputs": [
        {
          "output_type": "display_data",
          "data": {
            "application/vnd.jupyter.widget-view+json": {
              "model_id": "26adb317ec1741bdbc2d603d49c264fb",
              "version_minor": 0,
              "version_major": 2
            },
            "text/plain": [
              "Downloading:   0%|          | 0.00/226k [00:00<?, ?B/s]"
            ]
          },
          "metadata": {}
        },
        {
          "output_type": "display_data",
          "data": {
            "application/vnd.jupyter.widget-view+json": {
              "model_id": "cc4c417db6294313baa59efc98d4e5c8",
              "version_minor": 0,
              "version_major": 2
            },
            "text/plain": [
              "Downloading:   0%|          | 0.00/28.0 [00:00<?, ?B/s]"
            ]
          },
          "metadata": {}
        },
        {
          "output_type": "display_data",
          "data": {
            "application/vnd.jupyter.widget-view+json": {
              "model_id": "c26f520793284dc3b24a34e8ad96302a",
              "version_minor": 0,
              "version_major": 2
            },
            "text/plain": [
              "Downloading:   0%|          | 0.00/455k [00:00<?, ?B/s]"
            ]
          },
          "metadata": {}
        },
        {
          "output_type": "display_data",
          "data": {
            "application/vnd.jupyter.widget-view+json": {
              "model_id": "7ee57f0dd0294ee68bafc9786c983562",
              "version_minor": 0,
              "version_major": 2
            },
            "text/plain": [
              "Downloading:   0%|          | 0.00/570 [00:00<?, ?B/s]"
            ]
          },
          "metadata": {}
        },
        {
          "output_type": "display_data",
          "data": {
            "application/vnd.jupyter.widget-view+json": {
              "model_id": "41b4f96a2c3a4b709905546fe68d8a69",
              "version_minor": 0,
              "version_major": 2
            },
            "text/plain": [
              "Downloading:   0%|          | 0.00/420M [00:00<?, ?B/s]"
            ]
          },
          "metadata": {}
        },
        {
          "output_type": "stream",
          "name": "stderr",
          "text": [
            "Some weights of the model checkpoint at bert-base-uncased were not used when initializing BertModel: ['cls.predictions.transform.dense.weight', 'cls.predictions.transform.LayerNorm.bias', 'cls.predictions.transform.dense.bias', 'cls.seq_relationship.weight', 'cls.predictions.bias', 'cls.predictions.transform.LayerNorm.weight', 'cls.seq_relationship.bias', 'cls.predictions.decoder.weight']\n",
            "- This IS expected if you are initializing BertModel from the checkpoint of a model trained on another task or with another architecture (e.g. initializing a BertForSequenceClassification model from a BertForPreTraining model).\n",
            "- This IS NOT expected if you are initializing BertModel from the checkpoint of a model that you expect to be exactly identical (initializing a BertForSequenceClassification model from a BertForSequenceClassification model).\n"
          ]
        }
      ]
    },
    {
      "cell_type": "markdown",
      "metadata": {
        "id": "KH5uMxply5qi"
      },
      "source": [
        "### Iterations"
      ]
    },
    {
      "cell_type": "code",
      "metadata": {
        "id": "GZBkB6gOv9_m"
      },
      "source": [
        "# lst = []\n",
        "# for i, row in orig_inline_notifications.iterrows():\n",
        "for i in range(25001, len(orig_inline_notifications)):\n",
        "  row = orig_inline_notifications.iloc[i]\n",
        "  author_id = row['notify_from_id']\n",
        "  if author_id not in member_id_map:\n",
        "          continue\n",
        "  id = member_id_map[author_id]\n",
        "  doc = row['notify_text']\n",
        "\n",
        "  clean_doc = preprocess_text(doc)\n",
        "  # lst.append(getBERT(clean_doc))\n",
        "  # clean_chunks = get_split(clean_doc)\n",
        "\n",
        "  \n",
        "  embed_doc = getBERT(clean_doc)\n",
        "  embed_doc = embed_doc.detach().numpy()\n",
        "\n",
        "  # # print(id, len(clean_doc))\n",
        "  # for chunkNo, chunk in enumerate(clean_chunks):\n",
        "  #   embed_chunk = getBERT(chunk)\n",
        "  #   embed_chunk = embed_chunk.detach().numpy()\n",
        "  #   embed_doc = (embed_doc*chunkNo + embed_chunk)/(chunkNo+1)\n",
        "\n",
        "\n",
        "  embedding[id] = (count[id]*embedding[id] + embed_doc)/(count[id]+1)\n",
        "  count[id] = count[id]+1\n",
        "\n",
        "  if i%5000==0:\n",
        "    num = int(i/5000)\n",
        "    np.save(\"/content/drive/MyDrive/text gcn/node_feature/ironmarch/notifs_embedding/head/v{}\".format(num+1), embedding)\n"
      ],
      "execution_count": null,
      "outputs": []
    },
    {
      "cell_type": "code",
      "metadata": {
        "id": "w45tcnkXLF-p"
      },
      "source": [
        "notifs_embed = np.load(\"/content/drive/MyDrive/text gcn/node_feature/ironmarch/notifs_embedding/head/v10.npy\")"
      ],
      "execution_count": null,
      "outputs": []
    },
    {
      "cell_type": "code",
      "metadata": {
        "id": "AZ0WhSWFLTMB"
      },
      "source": [
        "np.save(\"/content/drive/MyDrive/text gcn/node_feature/ironmarch/notifs_embedding/head/final\", notifs_embed)"
      ],
      "execution_count": null,
      "outputs": []
    },
    {
      "cell_type": "markdown",
      "metadata": {
        "id": "aRcI1Nu9Bh_P"
      },
      "source": [
        "# Rough"
      ]
    },
    {
      "cell_type": "code",
      "metadata": {
        "id": "F5tTJyexDCip",
        "colab": {
          "base_uri": "https://localhost:8080/"
        },
        "outputId": "5b31a85c-d445-4c20-de2a-8eed0bf4adf9"
      },
      "source": [
        "embedding.shape"
      ],
      "execution_count": null,
      "outputs": [
        {
          "output_type": "execute_result",
          "data": {
            "text/plain": [
              "(763, 768)"
            ]
          },
          "metadata": {},
          "execution_count": 19
        }
      ]
    },
    {
      "cell_type": "code",
      "metadata": {
        "colab": {
          "base_uri": "https://localhost:8080/"
        },
        "id": "zPg4YsxHclup",
        "outputId": "44a46863-ca62-4af7-8065-5b35ecad9088"
      },
      "source": [
        "arr = np.asarray(lst)\n",
        "print(np.min(arr), np.max(arr), arr.sum()/len(lst))"
      ],
      "execution_count": null,
      "outputs": [
        {
          "name": "stdout",
          "output_type": "stream",
          "text": [
            "2 25100 158.51693542164958\n"
          ]
        }
      ]
    },
    {
      "cell_type": "code",
      "metadata": {
        "colab": {
          "base_uri": "https://localhost:8080/"
        },
        "id": "2R4OyqyVmXY4",
        "outputId": "194a64b2-37a0-431b-b8aa-bc6361bd77d7"
      },
      "source": [
        "np.argmax(arr)"
      ],
      "execution_count": null,
      "outputs": [
        {
          "data": {
            "text/plain": [
              "869"
            ]
          },
          "execution_count": 22,
          "metadata": {},
          "output_type": "execute_result"
        }
      ]
    },
    {
      "cell_type": "code",
      "metadata": {
        "colab": {
          "base_uri": "https://localhost:8080/",
          "height": 369
        },
        "id": "SIemGTTXnEsQ",
        "outputId": "f07b067e-3960-4913-eb27-76c5dd8a155c"
      },
      "source": [
        "import matplotlib.pyplot as plt\n",
        "\n",
        "plt.hist(np.sort(arr)[:-6])"
      ],
      "execution_count": null,
      "outputs": [
        {
          "data": {
            "text/plain": [
              "(array([1.2106e+04, 5.4900e+02, 1.5800e+02, 6.6000e+01, 3.0000e+01,\n",
              "        2.5000e+01, 9.0000e+00, 3.0000e+00, 3.0000e+00, 6.0000e+00]),\n",
              " array([2.0000e+00, 4.9290e+02, 9.8380e+02, 1.4747e+03, 1.9656e+03,\n",
              "        2.4565e+03, 2.9474e+03, 3.4383e+03, 3.9292e+03, 4.4201e+03,\n",
              "        4.9110e+03]),\n",
              " <a list of 10 Patch objects>)"
            ]
          },
          "execution_count": 31,
          "metadata": {},
          "output_type": "execute_result"
        },
        {
          "data": {
            "image/png": "[encoded data removed]",
            "text/plain": [
              "<Figure size 432x288 with 1 Axes>"
            ]
          },
          "metadata": {},
          "output_type": "display_data"
        }
      ]
    },
    {
      "cell_type": "code",
      "metadata": {
        "colab": {
          "base_uri": "https://localhost:8080/"
        },
        "id": "MG51JixzmcSl",
        "outputId": "63c15155-d705-4498-f813-db27ed036703"
      },
      "source": [
        "len(orig_message_posts['msg_post'][980].split())"
      ],
      "execution_count": null,
      "outputs": [
        {
          "data": {
            "text/plain": [
              "33"
            ]
          },
          "execution_count": 28,
          "metadata": {},
          "output_type": "execute_result"
        }
      ]
    },
    {
      "cell_type": "code",
      "metadata": {
        "colab": {
          "base_uri": "https://localhost:8080/"
        },
        "id": "JCOR8zhHdaag",
        "outputId": "448f1288-f824-4e79-d26a-16ddb6ff8aca"
      },
      "source": [
        "arr = np.asarray(lst)\n",
        "print(np.min(arr), np.max(arr), arr.sum()/len(lst))"
      ],
      "execution_count": null,
      "outputs": [
        {
          "name": "stdout",
          "output_type": "stream",
          "text": [
            "2 266467 265.87713132795307\n"
          ]
        }
      ]
    },
    {
      "cell_type": "code",
      "metadata": {
        "colab": {
          "base_uri": "https://localhost:8080/"
        },
        "id": "osWOwNxL6kHB",
        "outputId": "7a31cff2-8e12-41c9-9fab-4f88ed8f5ba4"
      },
      "source": [
        "embed_doc.shape"
      ],
      "execution_count": null,
      "outputs": [
        {
          "data": {
            "text/plain": [
              "(1, 768)"
            ]
          },
          "execution_count": 50,
          "metadata": {},
          "output_type": "execute_result"
        }
      ]
    },
    {
      "cell_type": "code",
      "metadata": {
        "colab": {
          "base_uri": "https://localhost:8080/"
        },
        "id": "aCPG_a9-7SC5",
        "outputId": "02ddbe47-6a2b-420a-e314-c01723a60d31"
      },
      "source": [
        "len(clean_doc)"
      ],
      "execution_count": null,
      "outputs": [
        {
          "data": {
            "text/plain": [
              "2739"
            ]
          },
          "execution_count": 51,
          "metadata": {},
          "output_type": "execute_result"
        }
      ]
    },
    {
      "cell_type": "code",
      "metadata": {
        "id": "9NK-kcW87anO"
      },
      "source": [
        "def get_split(text1):\n",
        "  l_total = []\n",
        "  l_parcial = []\n",
        "  if len(text1.split())//150 >0:\n",
        "    n = len(text1.split())//150\n",
        "  else: \n",
        "    n = 1\n",
        "  for w in range(n):\n",
        "    if w == 0:\n",
        "      l_parcial = text1.split()[:200]\n",
        "      l_total.append(\" \".join(l_parcial))\n",
        "    else:\n",
        "      l_parcial = text1.split()[w*150:w*150 + 200]\n",
        "      l_total.append(\" \".join(l_parcial))\n",
        "  return l_total"
      ],
      "execution_count": null,
      "outputs": []
    },
    {
      "cell_type": "code",
      "metadata": {
        "id": "WHNVxIOe98Qc"
      },
      "source": [
        "out = get_split(clean_doc)"
      ],
      "execution_count": null,
      "outputs": []
    },
    {
      "cell_type": "code",
      "metadata": {
        "colab": {
          "base_uri": "https://localhost:8080/"
        },
        "id": "OS1EBOkZ9-3V",
        "outputId": "65e62bd2-dd01-458c-e2be-20a61cd6b7da"
      },
      "source": [
        "len(out)"
      ],
      "execution_count": null,
      "outputs": [
        {
          "data": {
            "text/plain": [
              "1"
            ]
          },
          "execution_count": 54,
          "metadata": {},
          "output_type": "execute_result"
        }
      ]
    },
    {
      "cell_type": "code",
      "metadata": {
        "colab": {
          "base_uri": "https://localhost:8080/"
        },
        "id": "GMSEf--_-JMN",
        "outputId": "6fd7881b-36a1-4767-c306-186881e970b3"
      },
      "source": [
        "len(out[0].split())"
      ],
      "execution_count": null,
      "outputs": [
        {
          "data": {
            "text/plain": [
              "200"
            ]
          },
          "execution_count": 60,
          "metadata": {},
          "output_type": "execute_result"
        }
      ]
    },
    {
      "cell_type": "code",
      "metadata": {
        "colab": {
          "base_uri": "https://localhost:8080/"
        },
        "id": "6mwGnyaECqdW",
        "outputId": "678e65a5-f200-4aad-a17d-c185b6453c3f"
      },
      "source": [
        " len(clean_doc.split())"
      ],
      "execution_count": null,
      "outputs": [
        {
          "data": {
            "text/plain": [
              "214"
            ]
          },
          "execution_count": 57,
          "metadata": {},
          "output_type": "execute_result"
        }
      ]
    },
    {
      "cell_type": "code",
      "metadata": {
        "colab": {
          "base_uri": "https://localhost:8080/"
        },
        "id": "-L3ypzprC0Fm",
        "outputId": "97177f4b-a51b-4c73-adcc-721c94bb50fb"
      },
      "source": [
        " len(clean_doc.split())//150"
      ],
      "execution_count": null,
      "outputs": [
        {
          "data": {
            "text/plain": [
              "1"
            ]
          },
          "execution_count": 59,
          "metadata": {},
          "output_type": "execute_result"
        }
      ]
    },
    {
      "cell_type": "code",
      "metadata": {
        "colab": {
          "base_uri": "https://localhost:8080/"
        },
        "id": "YhORJdx9-TK2",
        "outputId": "2170bd01-fb07-48e8-f64c-4d4bc90df6f9"
      },
      "source": [
        "getBERT(out[0]).shape"
      ],
      "execution_count": null,
      "outputs": [
        {
          "data": {
            "text/plain": [
              "torch.Size([1, 768])"
            ]
          },
          "execution_count": 41,
          "metadata": {},
          "output_type": "execute_result"
        }
      ]
    },
    {
      "cell_type": "code",
      "metadata": {
        "id": "_DfS44Uo_DIK"
      },
      "source": [
        "doc = orig_message_posts['msg_post'][3]\n",
        "clean_doc = preprocess_text(doc)"
      ],
      "execution_count": null,
      "outputs": []
    },
    {
      "cell_type": "code",
      "metadata": {
        "colab": {
          "base_uri": "https://localhost:8080/"
        },
        "id": "bElEfr5Q_Y1_",
        "outputId": "c373030e-3a40-4497-9f9f-c6cd55b17dca"
      },
      "source": [
        "len(clean_doc)"
      ],
      "execution_count": null,
      "outputs": [
        {
          "data": {
            "text/plain": [
              "94"
            ]
          },
          "execution_count": 46,
          "metadata": {},
          "output_type": "execute_result"
        }
      ]
    },
    {
      "cell_type": "code",
      "metadata": {
        "colab": {
          "base_uri": "https://localhost:8080/"
        },
        "id": "Fj1jagHz_hrP",
        "outputId": "be9900ec-cd2f-4f05-b37d-f88b41aa84d7"
      },
      "source": [
        "len(get_split(clean_doc))"
      ],
      "execution_count": null,
      "outputs": [
        {
          "data": {
            "text/plain": [
              "1"
            ]
          },
          "execution_count": 47,
          "metadata": {},
          "output_type": "execute_result"
        }
      ]
    },
    {
      "cell_type": "code",
      "metadata": {
        "colab": {
          "base_uri": "https://localhost:8080/"
        },
        "id": "LPN4U5eu_m1d",
        "outputId": "7f6630bc-3163-46e1-ebc4-a89814207dd0"
      },
      "source": [
        "sent = \"He remains characteristically confident and optimistic.\"\n",
        "type(tokenizer(sent))"
      ],
      "execution_count": null,
      "outputs": [
        {
          "data": {
            "text/plain": [
              "transformers.tokenization_utils_base.BatchEncoding"
            ]
          },
          "execution_count": 28,
          "metadata": {},
          "output_type": "execute_result"
        }
      ]
    },
    {
      "cell_type": "code",
      "metadata": {
        "colab": {
          "base_uri": "https://localhost:8080/"
        },
        "id": "kQiHrLGgH7Ta",
        "outputId": "3c7d531c-c2c2-446b-8547-dc6ba22a2f47"
      },
      "source": [
        "type(tokenizer.encode_plus(sent))"
      ],
      "execution_count": null,
      "outputs": [
        {
          "data": {
            "text/plain": [
              "transformers.tokenization_utils_base.BatchEncoding"
            ]
          },
          "execution_count": 27,
          "metadata": {},
          "output_type": "execute_result"
        }
      ]
    },
    {
      "cell_type": "code",
      "metadata": {
        "id": "0Hj3-N9GKSmW"
      },
      "source": [
        ""
      ],
      "execution_count": null,
      "outputs": []
    }
  ]
}