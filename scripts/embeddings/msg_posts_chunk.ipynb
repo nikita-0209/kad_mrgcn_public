{
  "cells": [
    {
      "cell_type": "code",
      "execution_count": null,
      "metadata": {
        "id": "hDGS1aZFuXF0"
      },
      "outputs": [],
      "source": [
        "import pandas as pd\n",
        "import numpy as np\n",
        "import matplotlib.pyplot as plt\n",
        "%matplotlib inline\n",
        "import os\n",
        "import requests \n",
        "import io\n",
        "import seaborn as sns\n",
        "\n",
        "import scipy.sparse as sp"
      ]
    },
    {
      "cell_type": "code",
      "execution_count": null,
      "metadata": {
        "colab": {
          "base_uri": "https://localhost:8080/"
        },
        "id": "6ACSCR3svf4o",
        "outputId": "9b85cf2e-fb6b-47d8-dfd1-cbba8b2c21e8"
      },
      "outputs": [
        {
          "name": "stdout",
          "output_type": "stream",
          "text": [
            "[nltk_data] Downloading package punkt to /root/nltk_data...\n",
            "[nltk_data]   Unzipping tokenizers/punkt.zip.\n",
            "[nltk_data] Downloading package stopwords to /root/nltk_data...\n",
            "[nltk_data]   Unzipping corpora/stopwords.zip.\n"
          ]
        },
        {
          "data": {
            "text/plain": [
              "True"
            ]
          },
          "execution_count": 3,
          "metadata": {},
          "output_type": "execute_result"
        }
      ],
      "source": [
        "import nltk\n",
        "nltk.download('punkt')\n",
        "\n",
        "from nltk.tokenize import sent_tokenize\n",
        "\n",
        "import string\n",
        "from nltk import word_tokenize\n",
        "from nltk.corpus import stopwords\n",
        "\n",
        "from bs4 import BeautifulSoup\n",
        "\n",
        "nltk.download('stopwords')"
      ]
    },
    {
      "cell_type": "code",
      "execution_count": null,
      "metadata": {
        "id": "B-YsF7hIv3LF"
      },
      "outputs": [],
      "source": [
        "from transformers import BertTokenizer,BertModel, BertConfig\n",
        "import torch"
      ]
    },
    {
      "cell_type": "markdown",
      "metadata": {
        "id": "M2szNqUAum-0"
      },
      "source": [
        "### User Mapping"
      ]
    },
    {
      "cell_type": "code",
      "execution_count": null,
      "metadata": {
        "id": "69mr36l_ueSM"
      },
      "outputs": [],
      "source": [
        "orig_members = pd.read_csv('kad_mrgcn_public/data/ironmarch/raw_files/orig_members.csv')"
      ]
    },
    {
      "cell_type": "code",
      "execution_count": null,
      "metadata": {
        "id": "-1v4VPLwujMF"
      },
      "outputs": [],
      "source": [
        "sorted_member_id = orig_members['member_id'].sort_values()\n",
        "member_id_map ={}\n",
        "start_id = 1\n",
        "for id in sorted_member_id:\n",
        "  member_id_map[id] = start_id\n",
        "  start_id = start_id + 1"
      ]
    },
    {
      "cell_type": "markdown",
      "metadata": {
        "id": "EtvcMP7IuoyN"
      },
      "source": [
        "### Message Posts"
      ]
    },
    {
      "cell_type": "code",
      "execution_count": null,
      "metadata": {
        "id": "U5Gx21XeukxN"
      },
      "outputs": [],
      "source": [
        "orig_message_posts = pd.read_csv('kad_mrgcn_public/data/ironmarch/raw_files/orig_message_posts.csv')"
      ]
    },
    {
      "cell_type": "code",
      "execution_count": null,
      "metadata": {
        "id": "0w3ysumjuq7f"
      },
      "outputs": [],
      "source": [
        "orig_message_posts.drop(orig_message_posts.columns[[0,1, 2, 3, 5, 7, 8]], axis =1, inplace=True)"
      ]
    },
    {
      "cell_type": "markdown",
      "metadata": {
        "id": "lRMWXE_qviwr"
      },
      "source": [
        "### Functions"
      ]
    },
    {
      "cell_type": "code",
      "execution_count": null,
      "metadata": {
        "id": "Jw0bBr_3vj45"
      },
      "outputs": [],
      "source": [
        "def preprocess_text(text):\n",
        "\n",
        "    soup = BeautifulSoup(text, \"lxml\")\n",
        "    text = soup.body.text\n",
        "\n",
        "    # Get a list of sentences, removes \"\\n\"\n",
        "    lst = sent_tokenize(text)\n",
        "    text = \" \".join(lst)\n",
        "\n",
        "    text = text.replace(\"\\n\", \"\")\n",
        "\n",
        "    # Preprocess using NLTK\n",
        "    text = text.lower()\n",
        "\n",
        "    # Remove Punctuation\n",
        "    text_p = \"\".join([char for char in text if char not in string.punctuation])\n",
        "\n",
        "    # Get a List of words \n",
        "    words = word_tokenize(text_p)\n",
        "\n",
        "    words = \" \".join(words)\n",
        "\n",
        "    # Remove stopwords\n",
        "    stop_words = stopwords.words('english')\n",
        "    filtered_words = [word for word in words if word not in stop_words]\n",
        "\n",
        "    ret = \" \".join(filtered_words)\n",
        "\n",
        "    return ret\n"
      ]
    },
    {
      "cell_type": "code",
      "execution_count": null,
      "metadata": {
        "id": "4hY1n8Ilvtgv"
      },
      "outputs": [],
      "source": [
        "def getBERT(post):\n",
        "\n",
        "  tokens = tokenizer.encode_plus(post,return_tensors='pt', \n",
        "                                 max_length=512, truncation=True)\n",
        "  \n",
        "  indexed_tokens = tokens['input_ids']\n",
        "  tokens_tensor = indexed_tokens.to('cuda')\n",
        "\n",
        "  with torch.no_grad():\n",
        "    # See the models docstrings for the detail of the inputs\n",
        "    outputs = model(tokens_tensor)\n",
        "    last_hidden_states = outputs.last_hidden_state\n",
        "  \n",
        "\n",
        "# # Take the average\n",
        "  n_tensor = last_hidden_states.shape[1]\n",
        "  vector = (last_hidden_states.sum(axis=1)/n_tensor)\n",
        "\n",
        "  return vector"
      ]
    },
    {
      "cell_type": "code",
      "execution_count": null,
      "metadata": {
        "id": "4W208y-A_ICy"
      },
      "outputs": [],
      "source": [
        "def get_word_split(text1):\n",
        "  l_total = []\n",
        "  l_partial = []\n",
        "  if len(text1.split())//150 >0:\n",
        "    n = len(text1.split())//150 + 1\n",
        "  else: \n",
        "    n = 1\n",
        "  # print(n)\n",
        "  for w in range(n):\n",
        "    if w == 0:\n",
        "      l_partial = text1.split()[:200]\n",
        "      l_total.append(\" \".join(l_partial))\n",
        "    else:\n",
        "      l_partial = text1.split()[w*150:w*150 + 200]\n",
        "      l_total.append(\" \".join(l_partial))\n",
        "  return l_total"
      ]
    },
    {
      "cell_type": "markdown",
      "metadata": {
        "id": "xwro84t4u7w_"
      },
      "source": [
        "### Variables"
      ]
    },
    {
      "cell_type": "code",
      "execution_count": null,
      "metadata": {
        "id": "nI7eDCeOu3JP"
      },
      "outputs": [],
      "source": [
        "embedding = np.zeros((orig_members.shape[0], 768))\n",
        "count = np.zeros(orig_members.shape[0])"
      ]
    },
    {
      "cell_type": "code",
      "execution_count": null,
      "metadata": {
        "colab": {
          "base_uri": "https://localhost:8080/",
          "height": 249,
          "referenced_widgets": [
            "6dad9a9e03944e3691a1d4ec19c8d02f",
            "8621f4c7cf1244e0854485411641a439",
            "86acc783321647068778ebf9d67cfba0",
            "1227fd3d72fd4427959fa818ce0e3094",
            "961b08193de04d8ea72cee14b6af7d16",
            "ad7cbef4591241cf8d7cbc3766b83dd7",
            "0de0a7ecbb234ebeae1a8740651a38de",
            "a86c9a5c00894a8c9c75c7f2c7fa2820",
            "078fae115fab4384b6a9f0f488a93c50",
            "0889e0a294bf40b7bd6053577e64d94d",
            "b09fd504e88f4e359b9a7164b36eb47e",
            "03c0a17b42464f9393f860805a16497d",
            "9bd04a16ad7d458cb18c115abfde1402",
            "c9d8ac88a3d14fd4acadcb94060806c0",
            "c5f7914ca7c9475e96803d64a7b80164"
          ]
        },
        "id": "ISiLc0nOvIAB",
        "outputId": "48ad5e51-9622-43bb-e989-16445833bf8b"
      },
      "outputs": [],
      "source": [
        "tokenizer = BertTokenizer.from_pretrained('bert-base-uncased')\n",
        "model = BertModel.from_pretrained('bert-base-uncased')"
      ]
    },
    {
      "cell_type": "markdown",
      "metadata": {
        "id": "KH5uMxply5qi"
      },
      "source": [
        "### Iterations"
      ]
    },
    {
      "cell_type": "code",
      "execution_count": null,
      "metadata": {
        "colab": {
          "base_uri": "https://localhost:8080/"
        },
        "id": "GZBkB6gOv9_m",
        "outputId": "abda0a1e-80d7-4997-d51e-beca02411cae"
      },
      "outputs": [],
      "source": [
        "for i, row in orig_message_posts.iterrows():\n",
        "  author_id = row['msg_author_id']\n",
        "  if author_id not in member_id_map:\n",
        "          continue\n",
        "  id = member_id_map[author_id]\n",
        "  doc = row['msg_post']\n",
        "\n",
        "  clean_doc = preprocess_text(doc)\n",
        "  clean_chunks = get_word_split(clean_doc)\n",
        "\n",
        "  \n",
        "  embed_doc = torch.tensor(np.zeros((1, 768)))\n",
        "  embed_doc = embed_doc.to('cuda')\n",
        "\n",
        "  for chunkNo, chunk in enumerate(clean_chunks):\n",
        "    embed_chunk = getBERT(chunk)\n",
        "    # embed_chunk = embed_chunk.detach().numpy()\n",
        "    embed_doc = (embed_doc*chunkNo + embed_chunk)/(chunkNo+1)\n",
        "\n",
        "\n",
        "  embedding[id-1] = (count[id-1]*embedding[id-1] + embed_doc)/(count[id-1]+1)\n",
        "  count[id-1] = count[id-1]+1\n",
        "\n",
        "  if i%5000==0:\n",
        "    num = int(i/5000)\n",
        "    np.save(\"kad_mrgcn_public/data/ironmarch/procesed/msg_posts_embedding_head_v{}\".format(i+1), embedding)\n"
      ]
    },
    {
      "cell_type": "code",
      "execution_count": null,
      "metadata": {
        "id": "43lso-pKT3oo"
      },
      "outputs": [],
      "source": [
        "np.save(\"kad_mrgcn_public/data/ironmarch/processed/msg_posts_embedding_head_final\".format(i+1), embedding)"
      ]
    }
  ],
  "metadata": {
    "accelerator": "GPU",
    "colab": {
      "collapsed_sections": [],
      "name": "doc_of_msg_posts_chunk.ipynb",
      "provenance": []
    },
    "kernelspec": {
      "display_name": "Python 3",
      "name": "python3"
    },
    "language_info": {
      "name": "python"
    },
    "widgets": {
      "application/vnd.jupyter.widget-state+json": {
        "078fae115fab4384b6a9f0f488a93c50": {
          "model_module": "@jupyter-widgets/base",
          "model_module_version": "1.2.0",
          "model_name": "LayoutModel",
          "state": {
            "_model_module": "@jupyter-widgets/base",
            "_model_module_version": "1.2.0",
            "_model_name": "LayoutModel",
            "_view_count": null,
            "_view_module": "@jupyter-widgets/base",
            "_view_module_version": "1.2.0",
            "_view_name": "LayoutView",
            "align_content": null,
            "align_items": null,
            "align_self": null,
            "border": null,
            "bottom": null,
            "display": null,
            "flex": null,
            "flex_flow": null,
            "grid_area": null,
            "grid_auto_columns": null,
            "grid_auto_flow": null,
            "grid_auto_rows": null,
            "grid_column": null,
            "grid_gap": null,
            "grid_row": null,
            "grid_template_areas": null,
            "grid_template_columns": null,
            "grid_template_rows": null,
            "height": null,
            "justify_content": null,
            "justify_items": null,
            "left": null,
            "margin": null,
            "max_height": null,
            "max_width": null,
            "min_height": null,
            "min_width": null,
            "object_fit": null,
            "object_position": null,
            "order": null,
            "overflow": null,
            "overflow_x": null,
            "overflow_y": null,
            "padding": null,
            "right": null,
            "top": null,
            "visibility": null,
            "width": null
          }
        },
        "0889e0a294bf40b7bd6053577e64d94d": {
          "model_module": "@jupyter-widgets/controls",
          "model_module_version": "1.5.0",
          "model_name": "DescriptionStyleModel",
          "state": {
            "_model_module": "@jupyter-widgets/controls",
            "_model_module_version": "1.5.0",
            "_model_name": "DescriptionStyleModel",
            "_view_count": null,
            "_view_module": "@jupyter-widgets/base",
            "_view_module_version": "1.2.0",
            "_view_name": "StyleView",
            "description_width": ""
          }
        },
        "0de0a7ecbb234ebeae1a8740651a38de": {
          "model_module": "@jupyter-widgets/base",
          "model_module_version": "1.2.0",
          "model_name": "LayoutModel",
          "state": {
            "_model_module": "@jupyter-widgets/base",
            "_model_module_version": "1.2.0",
            "_model_name": "LayoutModel",
            "_view_count": null,
            "_view_module": "@jupyter-widgets/base",
            "_view_module_version": "1.2.0",
            "_view_name": "LayoutView",
            "align_content": null,
            "align_items": null,
            "align_self": null,
            "border": null,
            "bottom": null,
            "display": null,
            "flex": null,
            "flex_flow": null,
            "grid_area": null,
            "grid_auto_columns": null,
            "grid_auto_flow": null,
            "grid_auto_rows": null,
            "grid_column": null,
            "grid_gap": null,
            "grid_row": null,
            "grid_template_areas": null,
            "grid_template_columns": null,
            "grid_template_rows": null,
            "height": null,
            "justify_content": null,
            "justify_items": null,
            "left": null,
            "margin": null,
            "max_height": null,
            "max_width": null,
            "min_height": null,
            "min_width": null,
            "object_fit": null,
            "object_position": null,
            "order": null,
            "overflow": null,
            "overflow_x": null,
            "overflow_y": null,
            "padding": null,
            "right": null,
            "top": null,
            "visibility": null,
            "width": null
          }
        },
        "1227fd3d72fd4427959fa818ce0e3094": {
          "model_module": "@jupyter-widgets/controls",
          "model_module_version": "1.5.0",
          "model_name": "FloatProgressModel",
          "state": {
            "_dom_classes": [],
            "_model_module": "@jupyter-widgets/controls",
            "_model_module_version": "1.5.0",
            "_model_name": "FloatProgressModel",
            "_view_count": null,
            "_view_module": "@jupyter-widgets/controls",
            "_view_module_version": "1.5.0",
            "_view_name": "ProgressView",
            "bar_style": "success",
            "description": "",
            "description_tooltip": null,
            "layout": "IPY_MODEL_078fae115fab4384b6a9f0f488a93c50",
            "max": 231508,
            "min": 0,
            "orientation": "horizontal",
            "style": "IPY_MODEL_a86c9a5c00894a8c9c75c7f2c7fa2820",
            "value": 231508
          }
        },
        "6dad9a9e03944e3691a1d4ec19c8d02f": {
          "model_module": "@jupyter-widgets/controls",
          "model_module_version": "1.5.0",
          "model_name": "HBoxModel",
          "state": {
            "_dom_classes": [],
            "_model_module": "@jupyter-widgets/controls",
            "_model_module_version": "1.5.0",
            "_model_name": "HBoxModel",
            "_view_count": null,
            "_view_module": "@jupyter-widgets/controls",
            "_view_module_version": "1.5.0",
            "_view_name": "HBoxView",
            "box_style": "",
            "children": [
              "IPY_MODEL_86acc783321647068778ebf9d67cfba0",
              "IPY_MODEL_1227fd3d72fd4427959fa818ce0e3094",
              "IPY_MODEL_961b08193de04d8ea72cee14b6af7d16"
            ],
            "layout": "IPY_MODEL_8621f4c7cf1244e0854485411641a439"
          }
        },
        "8621f4c7cf1244e0854485411641a439": {
          "model_module": "@jupyter-widgets/base",
          "model_module_version": "1.2.0",
          "model_name": "LayoutModel",
          "state": {
            "_model_module": "@jupyter-widgets/base",
            "_model_module_version": "1.2.0",
            "_model_name": "LayoutModel",
            "_view_count": null,
            "_view_module": "@jupyter-widgets/base",
            "_view_module_version": "1.2.0",
            "_view_name": "LayoutView",
            "align_content": null,
            "align_items": null,
            "align_self": null,
            "border": null,
            "bottom": null,
            "display": null,
            "flex": null,
            "flex_flow": null,
            "grid_area": null,
            "grid_auto_columns": null,
            "grid_auto_flow": null,
            "grid_auto_rows": null,
            "grid_column": null,
            "grid_gap": null,
            "grid_row": null,
            "grid_template_areas": null,
            "grid_template_columns": null,
            "grid_template_rows": null,
            "height": null,
            "justify_content": null,
            "justify_items": null,
            "left": null,
            "margin": null,
            "max_height": null,
            "max_width": null,
            "min_height": null,
            "min_width": null,
            "object_fit": null,
            "object_position": null,
            "order": null,
            "overflow": null,
            "overflow_x": null,
            "overflow_y": null,
            "padding": null,
            "right": null,
            "top": null,
            "visibility": null,
            "width": null
          }
        },
        "86acc783321647068778ebf9d67cfba0": {
          "model_module": "@jupyter-widgets/controls",
          "model_module_version": "1.5.0",
          "model_name": "HTMLModel",
          "state": {
            "_dom_classes": [],
            "_model_module": "@jupyter-widgets/controls",
            "_model_module_version": "1.5.0",
            "_model_name": "HTMLModel",
            "_view_count": null,
            "_view_module": "@jupyter-widgets/controls",
            "_view_module_version": "1.5.0",
            "_view_name": "HTMLView",
            "description": "",
            "description_tooltip": null,
            "layout": "IPY_MODEL_0de0a7ecbb234ebeae1a8740651a38de",
            "placeholder": "​",
            "style": "IPY_MODEL_ad7cbef4591241cf8d7cbc3766b83dd7",
            "value": "Downloading: 100%"
          }
        },
        "961b08193de04d8ea72cee14b6af7d16": {
          "model_module": "@jupyter-widgets/controls",
          "model_module_version": "1.5.0",
          "model_name": "HTMLModel",
          "state": {
            "_dom_classes": [],
            "_model_module": "@jupyter-widgets/controls",
            "_model_module_version": "1.5.0",
            "_model_name": "HTMLModel",
            "_view_count": null,
            "_view_module": "@jupyter-widgets/controls",
            "_view_module_version": "1.5.0",
            "_view_name": "HTMLView",
            "description": "",
            "description_tooltip": null,
            "layout": "IPY_MODEL_b09fd504e88f4e359b9a7164b36eb47e",
            "placeholder": "​",
            "style": "IPY_MODEL_0889e0a294bf40b7bd6053577e64d94d",
            "value": " 226k/226k [00:00&lt;00:00, 522kB/s]"
          }
        },
        "a86c9a5c00894a8c9c75c7f2c7fa2820": {
          "model_module": "@jupyter-widgets/controls",
          "model_module_version": "1.5.0",
          "model_name": "ProgressStyleModel",
          "state": {
            "_model_module": "@jupyter-widgets/controls",
            "_model_module_version": "1.5.0",
            "_model_name": "ProgressStyleModel",
            "_view_count": null,
            "_view_module": "@jupyter-widgets/base",
            "_view_module_version": "1.2.0",
            "_view_name": "StyleView",
            "bar_color": null,
            "description_width": ""
          }
        },
        "ad7cbef4591241cf8d7cbc3766b83dd7": {
          "model_module": "@jupyter-widgets/controls",
          "model_module_version": "1.5.0",
          "model_name": "DescriptionStyleModel",
          "state": {
            "_model_module": "@jupyter-widgets/controls",
            "_model_module_version": "1.5.0",
            "_model_name": "DescriptionStyleModel",
            "_view_count": null,
            "_view_module": "@jupyter-widgets/base",
            "_view_module_version": "1.2.0",
            "_view_name": "StyleView",
            "description_width": ""
          }
        },
        "b09fd504e88f4e359b9a7164b36eb47e": {
          "model_module": "@jupyter-widgets/base",
          "model_module_version": "1.2.0",
          "model_name": "LayoutModel",
          "state": {
            "_model_module": "@jupyter-widgets/base",
            "_model_module_version": "1.2.0",
            "_model_name": "LayoutModel",
            "_view_count": null,
            "_view_module": "@jupyter-widgets/base",
            "_view_module_version": "1.2.0",
            "_view_name": "LayoutView",
            "align_content": null,
            "align_items": null,
            "align_self": null,
            "border": null,
            "bottom": null,
            "display": null,
            "flex": null,
            "flex_flow": null,
            "grid_area": null,
            "grid_auto_columns": null,
            "grid_auto_flow": null,
            "grid_auto_rows": null,
            "grid_column": null,
            "grid_gap": null,
            "grid_row": null,
            "grid_template_areas": null,
            "grid_template_columns": null,
            "grid_template_rows": null,
            "height": null,
            "justify_content": null,
            "justify_items": null,
            "left": null,
            "margin": null,
            "max_height": null,
            "max_width": null,
            "min_height": null,
            "min_width": null,
            "object_fit": null,
            "object_position": null,
            "order": null,
            "overflow": null,
            "overflow_x": null,
            "overflow_y": null,
            "padding": null,
            "right": null,
            "top": null,
            "visibility": null,
            "width": null
          }
        }
      }
    }
  },
  "nbformat": 4,
  "nbformat_minor": 0
}
